{
 "cells": [
  {
   "cell_type": "markdown",
   "metadata": {},
   "source": [
    "# Docs翻译"
   ]
  },
  {
   "cell_type": "code",
   "execution_count": 1,
   "metadata": {},
   "outputs": [],
   "source": [
    "import os\n",
    "import json\n",
    "from glob import glob\n",
    "from pathlib import Path\n",
    "import openai  \n",
    "import re \n",
    "from concurrent.futures import ThreadPoolExecutor, as_completed"
   ]
  },
  {
   "cell_type": "code",
   "execution_count": 2,
   "metadata": {},
   "outputs": [
    {
     "name": "stdout",
     "output_type": "stream",
     "text": [
      "/root/Dropbox/jupyter-ny/jwst\n"
     ]
    }
   ],
   "source": [
    "!pwd"
   ]
  },
  {
   "cell_type": "code",
   "execution_count": 12,
   "metadata": {},
   "outputs": [],
   "source": [
    "# 设置 OpenAI API Key\n",
    "API_KEY = \"\"\n",
    "client = openai.OpenAI(api_key=API_KEY)\n",
    "model = \"gpt-4o-mini\"\n",
    "temperature = 0.2\n",
    "max_tokens = 16384\n",
    "\n",
    "# 设置要遍历的根目录\n",
    "ROOT_DIR = \"/root/Dropbox/jupyter-ny/jwst/\" \n",
    "\n",
    "MAX_WORKERS = 8  # 线程池的最大并行数，可调整\n",
    "SEPARATOR = \"\\n   \\n\" \n",
    "TIMEOUT = 300\n",
    "\n",
    "# 生成OpenAI客户端\n",
    "client = openai.OpenAI(api_key=API_KEY, timeout=TIMEOUT)\n"
   ]
  },
  {
   "cell_type": "code",
   "execution_count": 13,
   "metadata": {},
   "outputs": [],
   "source": [
    "def process_rst(content):\n",
    "    \"\"\"AI翻译RST文档\"\"\"\n",
    "    system_prompt = (\n",
    "        \"作为天文学文档翻译专家，精通JWST望远镜数据处理，请：\\n\"\n",
    "        \"1. 精准翻译RST文档内容\\n\"\n",
    "        \"2. 严格保留所有RST格式标记，包括但不限于：\\n\"\n",
    "           \"- 章节标记 (##, **, etc)\\n\"\n",
    "           \"- 指令块 (.. directive::)\\n\"\n",
    "           \"- 引用标记 (:ref:, `link`_)\\n\"\n",
    "           \"- 图片引用和缩进\\n\"\n",
    "        \"3. 维持中英术语对照\\n\"\n",
    "        \"4. 使用流畅的中文母语\\n\"\n",
    "    )\n",
    "    \n",
    "    try:\n",
    "        response = client.chat.completions.create(\n",
    "            model=model,\n",
    "            messages=[\n",
    "                {\"role\": \"system\", \"content\": system_prompt},\n",
    "                {\"role\": \"user\", \"content\": f\"{content}\\n{SEPARATOR}\"}\n",
    "            ],\n",
    "            temperature=temperature,\n",
    "            max_tokens=max_tokens\n",
    "        )\n",
    "        processed = clean_output(response.choices[0].message.content)\n",
    "        return processed.split(SEPARATOR)[0]\n",
    "    except Exception as e:\n",
    "        print(f\"处理异常: {str(e)}\")\n",
    "        return content\n",
    "\n",
    "def process_file(file_path):\n",
    "    \"\"\"处理RST文件\"\"\"\n",
    "    try:\n",
    "        # 读取RST文件\n",
    "        with open(file_path, \"r\", encoding=\"utf-8\") as f:\n",
    "            content = f.read()\n",
    "            \n",
    "        # 翻译内容\n",
    "        translated_content = process_rst(content)\n",
    "            \n",
    "        # 保存翻译后的文件\n",
    "        original_dir = Path(file_path).parent\n",
    "        new_file_name = f\"{Path(file_path).stem}_cn.rst\"\n",
    "        new_file_path = original_dir / new_file_name\n",
    "        \n",
    "        with open(new_file_path, \"w\", encoding=\"utf-8\") as f:\n",
    "            f.write(translated_content)\n",
    "            \n",
    "        return True\n",
    "    except Exception as e:\n",
    "        print(f\"文件处理失败: {file_path} - {str(e)}\")\n",
    "        return False\n",
    "    \n",
    "def clean_output(text):\n",
    "    \"\"\"清理输出文本\"\"\"\n",
    "    # 移除可能的多余分隔符\n",
    "    text = text.strip()\n",
    "    # 可以添加其他清理规则\n",
    "    return text\n",
    "\n",
    "def main():\n",
    "    \"\"\"主函数\"\"\"\n",
    "    # 查找所有rst文件\n",
    "    rst_files = [f for f in glob(f\"{ROOT_DIR}/**/*.rst\", recursive=True)\n",
    "                if \"_cn\" not in f and \"_translated\" not in f]\n",
    "    \n",
    "    # 筛选未翻译的文件\n",
    "    files_to_process = []\n",
    "    for rst in rst_files:\n",
    "        file_path_obj = Path(rst)\n",
    "        translated_file = file_path_obj.parent / f\"{file_path_obj.stem}_cn.rst\"\n",
    "        if not translated_file.exists():\n",
    "            files_to_process.append(rst)\n",
    "        else:\n",
    "            print(f\"跳过已存在的翻译: {translated_file}\")\n",
    "    \n",
    "    print(f\"发现 {len(rst_files)} 个文件，需要处理 {len(files_to_process)} 个\")\n",
    "    success_count = 0\n",
    "    \n",
    "    if not files_to_process:\n",
    "        print(\"没有需要翻译的新文件\")\n",
    "        return\n",
    "    \n",
    "    with ThreadPoolExecutor(max_workers=MAX_WORKERS) as executor:\n",
    "        futures = {executor.submit(process_file, f): f for f in files_to_process}\n",
    "        \n",
    "        for future in as_completed(futures):\n",
    "            file_name = futures[future]\n",
    "            try:\n",
    "                if future.result():\n",
    "                    success_count += 1\n",
    "                    print(f\"成功处理: {file_name}\")\n",
    "                else:\n",
    "                    print(f\"处理失败: {file_name}\")\n",
    "            except Exception as e:\n",
    "                print(f\"系统错误: {file_name} - {str(e)}\")\n",
    "    \n",
    "    print(f\"处理完成 | 成功: {success_count} | 失败: {len(files_to_process)-success_count}\")"
   ]
  },
  {
   "cell_type": "code",
   "execution_count": 14,
   "metadata": {},
   "outputs": [
    {
     "name": "stdout",
     "output_type": "stream",
     "text": [
      "跳过已存在的翻译: /root/Dropbox/jupyter-ny/jwst/docs/github_setup_cn.rst\n",
      "跳过已存在的翻译: /root/Dropbox/jupyter-ny/jwst/docs/github_workflow_cn.rst\n",
      "跳过已存在的翻译: /root/Dropbox/jupyter-ny/jwst/docs/data_files_cn.rst\n",
      "跳过已存在的翻译: /root/Dropbox/jupyter-ny/jwst/docs/notebooks_cn.rst\n",
      "跳过已存在的翻译: /root/Dropbox/jupyter-ny/jwst/docs/github_pr_cn.rst\n",
      "跳过已存在的翻译: /root/Dropbox/jupyter-ny/jwst/docs/submitting_notebooks_cn.rst\n",
      "跳过已存在的翻译: /root/Dropbox/jupyter-ny/jwst/docs/stsci_notebook_leads_cn.rst\n",
      "跳过已存在的翻译: /root/Dropbox/jupyter-ny/jwst/docs/notebook_development_workflow_cn.rst\n",
      "跳过已存在的翻译: /root/Dropbox/jupyter-ny/jwst/docs/requirements_cn.rst\n",
      "发现 12 个文件，需要处理 3 个\n",
      "成功处理: /root/Dropbox/jupyter-ny/jwst/install.rst\n",
      "成功处理: /root/Dropbox/jupyter-ny/jwst/index.rst\n",
      "成功处理: /root/Dropbox/jupyter-ny/jwst/CONTRIBUTING.rst\n",
      "处理完成 | 成功: 3 | 失败: 0\n"
     ]
    }
   ],
   "source": [
    "if __name__ == \"__main__\":\n",
    "    main()"
   ]
  },
  {
   "cell_type": "code",
   "execution_count": null,
   "metadata": {},
   "outputs": [],
   "source": []
  }
 ],
 "metadata": {
  "kernelspec": {
   "display_name": "fermi",
   "language": "python",
   "name": "python3"
  },
  "language_info": {
   "codemirror_mode": {
    "name": "ipython",
    "version": 3
   },
   "file_extension": ".py",
   "mimetype": "text/x-python",
   "name": "python",
   "nbconvert_exporter": "python",
   "pygments_lexer": "ipython3",
   "version": "3.12.8"
  }
 },
 "nbformat": 4,
 "nbformat_minor": 2
}
