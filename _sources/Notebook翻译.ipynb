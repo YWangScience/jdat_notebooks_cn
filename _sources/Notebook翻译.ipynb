{
 "cells": [
  {
   "cell_type": "markdown",
   "id": "0a72639d",
   "metadata": {},
   "source": [
    "# 翻译Jupyter Notebook为中文\n",
    "\n",
    "Prompt 针对JWST望远镜数据处理"
   ]
  },
  {
   "cell_type": "code",
   "execution_count": 2,
   "id": "14573d00",
   "metadata": {},
   "outputs": [],
   "source": [
    "import os\n",
    "import json\n",
    "from glob import glob\n",
    "from pathlib import Path\n",
    "import openai  \n",
    "import re \n",
    "from concurrent.futures import ThreadPoolExecutor, as_completed\n"
   ]
  },
  {
   "cell_type": "code",
   "execution_count": 3,
   "id": "38a10d80-6da6-4a53-b482-8b38c0a3b085",
   "metadata": {},
   "outputs": [
    {
     "name": "stdout",
     "output_type": "stream",
     "text": [
      "/root/Dropbox/jupyter-ny/jwst\n"
     ]
    }
   ],
   "source": [
    "!pwd"
   ]
  },
  {
   "cell_type": "code",
   "execution_count": 4,
   "id": "69412548-61f6-4ffe-abcb-730fc9a2540a",
   "metadata": {},
   "outputs": [],
   "source": [
    "# 设置 OpenAI API Key\n",
    "API_KEY = \"\"\n",
    "client = openai.OpenAI(api_key=API_KEY)\n",
    "model = \"gpt-4o-mini\"\n",
    "temperature = 0.2\n",
    "max_tokens = 16384\n",
    "\n",
    "# 设置要遍历的根目录\n",
    "ROOT_DIR = \"/root/Dropbox/jupyter-ny/jwst/notebooks/\" \n",
    "\n",
    "MAX_WORKERS = 8  # 线程池的最大并行数，可调整\n",
    "SEPARATOR = \"\\n   \\n\" \n",
    "TIMEOUT = 300\n",
    "\n",
    "# 生成OpenAI客户端\n",
    "client = openai.OpenAI(api_key=API_KEY, timeout=TIMEOUT)\n"
   ]
  },
  {
   "cell_type": "code",
   "execution_count": 5,
   "id": "c299bc2c-b515-4074-b14a-ff3347cae9cd",
   "metadata": {},
   "outputs": [],
   "source": [
    "def process_cell(content, cell_type):\n",
    "    \"\"\"AI翻译\"\"\"\n",
    "    system_prompt = {\n",
    "        \"markdown\": (\n",
    "            \"作为天文学文档翻译专家，精通JWST望远镜数据处理，请：\\n\"\n",
    "            \"1. 精准翻译Markdown内容\\n\"\n",
    "            \"2. 保留所有格式标记\\n\"\n",
    "            \"3. 维持中英术语对照\\n\"\n",
    "            \"4. 使用流畅的中文母语\\n\"\n",
    "        ),\n",
    "        \"code\": (\n",
    "            \"作为天文学Python代码专家，精通JWST望远镜数据处理，请：\\n\"\n",
    "            \"1. 添加行级中文注释\\n\"\n",
    "            \"2. 保持代码结构不变\\n\"\n",
    "            \"3. 保留原始功能\"\n",
    "        )\n",
    "    }[cell_type]\n",
    "    \n",
    "    try:\n",
    "        response = client.chat.completions.create(\n",
    "            model=model,\n",
    "            messages=[\n",
    "                {\"role\": \"system\", \"content\": system_prompt},\n",
    "                {\"role\": \"user\", \"content\": f\"{content}\\n{SEPARATOR}\"}\n",
    "            ],\n",
    "            temperature=temperature,\n",
    "            max_tokens=max_tokens\n",
    "        )\n",
    "        processed = clean_output(response.choices[0].message.content)\n",
    "        return processed.split(SEPARATOR)[0].splitlines(keepends=True)\n",
    "    except Exception as e:\n",
    "        print(f\"处理异常: {str(e)}\")\n",
    "        return content.splitlines(keepends=True)\n",
    "\n",
    "\n",
    "def clean_output(text):\n",
    "    \"\"\"优化输出清理逻辑\"\"\"\n",
    "    text = re.sub(r\"```[\\w]*\", \"\", text)\n",
    "    return re.sub(r\"\\n{3,}\", \"\\n\\n\", text).strip()\n",
    "\n",
    "def process_notebook(file_path):\n",
    "    \"\"\"直接原路径保存翻译后的文件\"\"\"\n",
    "    try:\n",
    "        with open(file_path, \"r\", encoding=\"utf-8\") as f:\n",
    "            nb_data = json.load(f)\n",
    "\n",
    "        with ThreadPoolExecutor(max_workers=4) as executor:\n",
    "            futures = []\n",
    "            for cell in nb_data[\"cells\"]:\n",
    "                if cell[\"cell_type\"] in [\"markdown\", \"code\"]:\n",
    "                    future = executor.submit(\n",
    "                        process_cell,\n",
    "                        \"\\n\".join(cell[\"source\"]),\n",
    "                        cell[\"cell_type\"]\n",
    "                    )\n",
    "                    futures.append((cell, future))\n",
    "                else:\n",
    "                    futures.append((cell, None))\n",
    "\n",
    "            for cell, future in futures:\n",
    "                if future:\n",
    "                    cell[\"source\"] = future.result(timeout=TIMEOUT+10)\n",
    "\n",
    "        # 直接原目录保存\n",
    "        original_dir = Path(file_path).parent\n",
    "        new_file_name = f\"{Path(file_path).stem}_cn.ipynb\"\n",
    "        new_file_path = original_dir / new_file_name\n",
    "\n",
    "        with open(new_file_path, \"w\", encoding=\"utf-8\") as f:\n",
    "            json.dump(nb_data, f, indent=2, ensure_ascii=False)\n",
    "            \n",
    "        return True\n",
    "    except Exception as e:\n",
    "        print(f\"文件处理失败: {file_path} - {str(e)}\")\n",
    "        return False"
   ]
  },
  {
   "cell_type": "code",
   "execution_count": 6,
   "id": "94122d0b",
   "metadata": {},
   "outputs": [],
   "source": [
    "def main():\n",
    "    \"\"\"主函数\"\"\"\n",
    "    notebooks = [f for f in glob(f\"{ROOT_DIR}/**/*.ipynb\", recursive=True)\n",
    "                if \"_cn\" not in f and \"_translated\" not in f]  # 排除已翻译的文件\n",
    "    \n",
    "    # 进一步筛选：检查是否已经有对应的翻译文件存在\n",
    "    notebooks_to_process = []\n",
    "    for nb in notebooks:\n",
    "        file_path_obj = Path(nb)\n",
    "        translated_file = file_path_obj.parent / f\"{file_path_obj.stem}_cn.ipynb\"\n",
    "        if not translated_file.exists():\n",
    "            notebooks_to_process.append(nb)\n",
    "        else:\n",
    "            print(f\"跳过已存在的翻译: {translated_file}\")\n",
    "    \n",
    "    print(f\"发现 {len(notebooks)} 个文件，需要处理 {len(notebooks_to_process)} 个\")\n",
    "    success_count = 0\n",
    "    \n",
    "    if not notebooks_to_process:\n",
    "        print(\"没有需要翻译的新文件\")\n",
    "        return\n",
    "    \n",
    "    with ThreadPoolExecutor(max_workers=MAX_WORKERS) as executor:\n",
    "        futures = {executor.submit(process_notebook, nb): nb for nb in notebooks_to_process}\n",
    "        \n",
    "        for future in as_completed(futures):\n",
    "            file_name = futures[future]\n",
    "            try:\n",
    "                if future.result():\n",
    "                    success_count += 1\n",
    "                    print(f\"成功处理: {file_name}\")\n",
    "                else:\n",
    "                    print(f\"处理失败: {file_name}\")\n",
    "            except Exception as e:\n",
    "                print(f\"系统错误: {file_name} - {str(e)}\")\n",
    "    \n",
    "    print(f\"处理完成 | 成功: {success_count} | 失败: {len(notebooks_to_process)-success_count}\")"
   ]
  },
  {
   "cell_type": "code",
   "execution_count": 7,
   "id": "63e0c7b9",
   "metadata": {},
   "outputs": [
    {
     "name": "stdout",
     "output_type": "stream",
     "text": [
      "跳过已存在的翻译: /root/Dropbox/jupyter-ny/jwst/notebooks/NIRCam/aperture_photometry/NIRCam_Aperture_Photometry_Example_cn.ipynb\n",
      "跳过已存在的翻译: /root/Dropbox/jupyter-ny/jwst/notebooks/NIRCam/NIRCam_WFSS_simulating_spectra/Simulating_WFSS_spectra_CRDS_cn.ipynb\n",
      "跳过已存在的翻译: /root/Dropbox/jupyter-ny/jwst/notebooks/NIRCam/NIRCam_WFSS_Box_extraction/BoxExtraction_using_Grismconf_CRDS_cn.ipynb\n",
      "跳过已存在的翻译: /root/Dropbox/jupyter-ny/jwst/notebooks/NIRCam/psf_photometry/NIRCam_PSF_Photometry_Example_cn.ipynb\n",
      "跳过已存在的翻译: /root/Dropbox/jupyter-ny/jwst/notebooks/NIRCam/NIRCam_PSF-matched_photometry/NIRCam_PSF_matched_multiband_photometry_cn.ipynb\n",
      "跳过已存在的翻译: /root/Dropbox/jupyter-ny/jwst/notebooks/NIRCam/NIRCam_wisp_subtraction/nircam_wisp_subtraction_cn.ipynb\n",
      "跳过已存在的翻译: /root/Dropbox/jupyter-ny/jwst/notebooks/NIRCam/NIRCam_photometry/NIRCam_multiband_photometry_cn.ipynb\n",
      "跳过已存在的翻译: /root/Dropbox/jupyter-ny/jwst/notebooks/NIRCam/psf_photometry_with_space_phot/nircam_spacephot_cn.ipynb\n",
      "跳过已存在的翻译: /root/Dropbox/jupyter-ny/jwst/notebooks/cross_instrument/stpsf_examples/stpsf_examples_cn.ipynb\n",
      "跳过已存在的翻译: /root/Dropbox/jupyter-ny/jwst/notebooks/cross_instrument/NIRSpec_MAST_Query/NIRSpec_MAST_Query_cn.ipynb\n",
      "跳过已存在的翻译: /root/Dropbox/jupyter-ny/jwst/notebooks/cross_instrument/asdf_example/asdf_example_cn.ipynb\n",
      "跳过已存在的翻译: /root/Dropbox/jupyter-ny/jwst/notebooks/cross_instrument/update_pure_parallel_wcs/NIRISS_correct_pure_parallel_WCS_cn.ipynb\n",
      "跳过已存在的翻译: /root/Dropbox/jupyter-ny/jwst/notebooks/cross_instrument/rgb_imviz/imviz_rgb_carina_cn.ipynb\n",
      "跳过已存在的翻译: /root/Dropbox/jupyter-ny/jwst/notebooks/cross_instrument/composite_model_fitting/specfit_demo_3_cn.ipynb\n",
      "跳过已存在的翻译: /root/Dropbox/jupyter-ny/jwst/notebooks/cross_instrument/specviz_notebookGUI_interaction/specviz_notebook_gui_interaction_redshift_cn.ipynb\n",
      "跳过已存在的翻译: /root/Dropbox/jupyter-ny/jwst/notebooks/cross_instrument/background_estimation_imaging/Imaging_Sky_Background_Estimation_cn.ipynb\n",
      "跳过已存在的翻译: /root/Dropbox/jupyter-ny/jwst/notebooks/NIRISS/NIRISS_WFSS_postpipeline/01_Combine_and_normalize_1D_spectra_cn.ipynb\n",
      "跳过已存在的翻译: /root/Dropbox/jupyter-ny/jwst/notebooks/NIRISS/NIRISS_WFSS_postpipeline/00_Optimal_extraction_cn.ipynb\n",
      "跳过已存在的翻译: /root/Dropbox/jupyter-ny/jwst/notebooks/NIRISS/NIRISS_WFSS_postpipeline/02_Cross_correlation_template_cn.ipynb\n",
      "跳过已存在的翻译: /root/Dropbox/jupyter-ny/jwst/notebooks/NIRISS/NIRISS_WFSS_postpipeline/03_Spatially_resolved_emission_line_map_cn.ipynb\n",
      "跳过已存在的翻译: /root/Dropbox/jupyter-ny/jwst/notebooks/NIRISS/NIRISS_WFSS_advanced/01_niriss_wfss_image2_image3_cn.ipynb\n",
      "跳过已存在的翻译: /root/Dropbox/jupyter-ny/jwst/notebooks/NIRISS/NIRISS_WFSS_advanced/extra_niriss_individual_steps_cn.ipynb\n",
      "跳过已存在的翻译: /root/Dropbox/jupyter-ny/jwst/notebooks/NIRISS/NIRISS_WFSS_advanced/00_niriss_mast_query_data_setup_cn.ipynb\n",
      "跳过已存在的翻译: /root/Dropbox/jupyter-ny/jwst/notebooks/NIRISS/NIRISS_WFSS_advanced/02_niriss_wfss_spec2_cn.ipynb\n",
      "跳过已存在的翻译: /root/Dropbox/jupyter-ny/jwst/notebooks/MIRI/MRS_Mstar_analysis/JWST_Mstar_dataAnalysis_analysis_cn.ipynb\n",
      "跳过已存在的翻译: /root/Dropbox/jupyter-ny/jwst/notebooks/MIRI/psf_photometry/miri_spacephot_cn.ipynb\n",
      "跳过已存在的翻译: /root/Dropbox/jupyter-ny/jwst/notebooks/MIRI/psf_photometry/miri_1028_cn.ipynb\n",
      "跳过已存在的翻译: /root/Dropbox/jupyter-ny/jwst/notebooks/MIRI/psf_photometry/miri_photutils_cn.ipynb\n",
      "跳过已存在的翻译: /root/Dropbox/jupyter-ny/jwst/notebooks/MIRI/psf_photometry/miri_1028_photutils_cn.ipynb\n",
      "跳过已存在的翻译: /root/Dropbox/jupyter-ny/jwst/notebooks/MIRI/MIRI_IFU_YSOs_in_the_LMC/isha_nayak_ysos_in_the_lmc_cn.ipynb\n",
      "跳过已存在的翻译: /root/Dropbox/jupyter-ny/jwst/notebooks/MIRI/MIRI_LRS_spectral_extraction/miri_lrs_advanced_extraction_part1_cn.ipynb\n",
      "跳过已存在的翻译: /root/Dropbox/jupyter-ny/jwst/notebooks/NIRSpec/IFU_cube_continuum_fit/NGC4151_FeII_ContinuumFit_cn.ipynb\n",
      "跳过已存在的翻译: /root/Dropbox/jupyter-ny/jwst/notebooks/NIRSpec/transit_spectroscopy_notebook/Exoplanet_Transmission_Spectra_JWST_cn.ipynb\n",
      "跳过已存在的翻译: /root/Dropbox/jupyter-ny/jwst/notebooks/NIRSpec/NIRSpec_NSClean/IFU_NSClean_example_cn.ipynb\n",
      "跳过已存在的翻译: /root/Dropbox/jupyter-ny/jwst/notebooks/NIRSpec/NIRSpec_NSClean/FS_NSClean_example_cn.ipynb\n",
      "跳过已存在的翻译: /root/Dropbox/jupyter-ny/jwst/notebooks/NIRSpec/NIRSpec_NSClean/MOS_NSClean_example_cn.ipynb\n",
      "跳过已存在的翻译: /root/Dropbox/jupyter-ny/jwst/notebooks/NIRSpec/NIRSpec_NSClean/BOTS_NSClean_example_cn.ipynb\n",
      "跳过已存在的翻译: /root/Dropbox/jupyter-ny/jwst/notebooks/NIRSpec/ifu_optimal/ifu_optimal_cn.ipynb\n",
      "跳过已存在的翻译: /root/Dropbox/jupyter-ny/jwst/notebooks/NIRSpec/mos_spectroscopy_advanced/MOSspec_advanced_cn.ipynb\n",
      "跳过已存在的翻译: /root/Dropbox/jupyter-ny/jwst/notebooks/NIRSpec/optimal_extraction/Spectral_Extraction-static_cn.ipynb\n",
      "跳过已存在的翻译: /root/Dropbox/jupyter-ny/jwst/notebooks/NIRSpec/galaxy_redshift/redshift_fitting_cn.ipynb\n",
      "跳过已存在的翻译: /root/Dropbox/jupyter-ny/jwst/notebooks/example_notebook/example_notebook_cn.ipynb\n",
      "发现 43 个文件，需要处理 1 个\n"
     ]
    },
    {
     "name": "stdout",
     "output_type": "stream",
     "text": [
      "成功处理: /root/Dropbox/jupyter-ny/jwst/notebooks/NIRSpec/cube_fitting/cube_fitting.ipynb\n",
      "处理完成 | 成功: 1 | 失败: 0\n"
     ]
    }
   ],
   "source": [
    "if __name__ == \"__main__\":\n",
    "    main()"
   ]
  },
  {
   "cell_type": "code",
   "execution_count": null,
   "id": "273b7f9a",
   "metadata": {},
   "outputs": [],
   "source": []
  },
  {
   "cell_type": "code",
   "execution_count": null,
   "id": "e982d53d",
   "metadata": {},
   "outputs": [],
   "source": []
  }
 ],
 "metadata": {
  "kernelspec": {
   "display_name": "fermi",
   "language": "python",
   "name": "python3"
  },
  "language_info": {
   "codemirror_mode": {
    "name": "ipython",
    "version": 3
   },
   "file_extension": ".py",
   "mimetype": "text/x-python",
   "name": "python",
   "nbconvert_exporter": "python",
   "pygments_lexer": "ipython3",
   "version": "3.12.8"
  }
 },
 "nbformat": 4,
 "nbformat_minor": 5
}
