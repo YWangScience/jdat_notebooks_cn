{
  "cells": [
    {
      "cell_type": "markdown",
      "id": "9ffbf721-b548-42a5-84fe-62fedbba7e8d",
      "metadata": {},
      "source": [
        "# JWST 使用轨道测量的波前\n",
        "\n",
        "STPSF，前称为WebbPSF，包含用于使用在飞行中波前传感测量结果的代码，通过检索光程差（Optical Path Difference，OPD）文件。这些文件可以用于创建适合特定仪器、探测器和时间的模拟点扩散函数（Point Spread Functions，PSFs）。\n",
        "\n",
        "本笔记本作为参考，说明如何使用STPSF搜索和检索OPD文件，并解释该文件的内容。它还展示了如何加载多个OPD文件并绘制波前特性随时间的变化。此外，它还包含一个使用OPD文件创建并从在飞行图像中减去模拟PSF的示例案例。\n",
        "\n",
        "关于STPSF在飞行中OPD使用的详细信息，请参见：\n",
        "\n",
        "https://stpsf.readthedocs.io/en/latest/jwst_measured_opds.html\n",
        "\n",
        "作者：Marcio Melendez Hernandez<br>\n",
        "\n",
        "最后更新：2025年2月13日"
      ]
    },
    {
      "cell_type": "markdown",
      "id": "5de908fd-2b0e-4ac6-b3a1-50ab25236e9e",
      "metadata": {},
      "source": [
        "## 索引\n",
        "\n",
        "* [导入和设置](#Imports-and-Setup)\n",
        "\n",
        "* [在给定日期附近查找测量的波前](#Finding-the-measured-wavefront-near-a-given-date)\n",
        "\n",
        "* [OPD 文件描述](#OPD-File-description)\n",
        "\n",
        "* [观测时间附近的波前误差变化](#Delta-Wavefront-Error-Around-Time-of-Observation)\n",
        "\n",
        "* [使用特定观测设置 PSF 模拟](#Setup-a-PSF-simulation-using-a-particular-observation)\n",
        "\n",
        "* [随时间变化的波前趋势](#Trending-Wavefront-Changes-over-Time)\n",
        "\n",
        "* [波前时间序列和直方图绘图](#Wavefront-time-series-and-histogram-plots)\n",
        "\n",
        "    * [所有 OPD 的表格](#Table-of-all-OPDs)\n",
        "\n",
        "    * [趋势图](#Trending-Plots)\n",
        "\n",
        "    * [在时间范围内绘图](#Plot-over-a-time-range)\n",
        "\n",
        "    * [加载并绘制单个 OPD](#Load-and-plot-a-Single-OPD)\n",
        "\n",
        "* [JWST 从飞行数据中模拟 PSF 减法](#JWST-Simulated-PSF-Subtraction-from-in-flight-data)\n",
        "\n",
        "    * [提取感兴趣源周围的子数组，并测量源位置](#Extract-a-subarray-around-source-of-interest,-and-measure-source-location)\n",
        "\n",
        "    * [查找源](#Find-the-source)\n",
        "\n",
        "    * [使用前一个函数设置我们的模拟](#Use-previous-function-to-set-up-our-simulation)\n",
        "\n",
        "    * [使用 photutils 创建我们的模型 PSF](#Use-photutils-to-create-our-model-PSF)\n",
        "\n",
        "    * [减去 PSF 并创建残差图像](#Subtract-PSF-and-create-residual-image)\n",
        "\n",
        "    * [PSF 属性和差异](#PSF-properties-and-differences)\n",
        "\n",
        "* [改进的 IFU 模拟](#Improved-IFU-sims)\n",
        "\n",
        "对于其他 STPSF 示例：\n",
        "\n",
        "https://stpsf.readthedocs.io/en/latest/more_examples.html"
      ]
    },
    {
      "cell_type": "markdown",
      "id": "45e769ae-865a-4e77-b792-8757d0325be1",
      "metadata": {},
      "source": [
        "## 导入和设置"
      ]
    },
    {
      "cell_type": "code",
      "execution_count": null,
      "id": "f87d3909",
      "metadata": {},
      "outputs": [],
      "source": [
        "import matplotlib.pylab as plt  # 导入matplotlib库，用于绘图\n",
        "\n",
        "import poppy  # 导入poppy库，用于光学系统模拟\n",
        "\n",
        "import numpy as np  # 导入numpy库，用于数值计算\n",
        "\n",
        "import os  # 导入os库，用于操作系统功能\n",
        "\n",
        "import datetime  # 导入datetime库，用于处理日期和时间\n",
        "\n",
        "import tarfile  # 导入tarfile库，用于处理tar文件\n",
        "\n",
        "from urllib.parse import urlparse  # 从urllib库导入urlparse，用于解析URL\n",
        "\n",
        "import requests  # 导入requests库，用于发送HTTP请求\n",
        "\n",
        "import stpsf  # 导入stpsf库，用于处理点扩散函数\n",
        "\n",
        "import astropy  # 导入astropy库，天文学数据处理的基础库\n",
        "\n",
        "from astropy.nddata import Cutout2D  # 从astropy.nddata导入Cutout2D，用于生成图像切片\n",
        "\n",
        "from astropy.visualization import simple_norm  # 从astropy.visualization导入simple_norm，用于简单的图像归一化\n",
        "\n",
        "from astropy.io import fits  # 从astropy.io导入fits，用于处理FITS文件格式\n",
        "\n",
        "from astropy.stats import SigmaClip  # 从astropy.stats导入SigmaClip，用于统计分析中的信号剪切\n",
        "\n",
        "from astropy.visualization.mpl_normalize import ImageNormalize  # 从astropy.visualization.mpl_normalize导入ImageNormalize，用于图像归一化\n",
        "\n",
        "from astropy.visualization import LogStretch  # 从astropy.visualization导入LogStretch，用于对数伸缩\n",
        "\n",
        "from astropy.modeling import models, fitting  # 从astropy.modeling导入模型和拟合工具\n",
        "\n",
        "import photutils  # 导入photutils库，用于天文图像处理\n",
        "\n",
        "from photutils.background import Background2D, MedianBackground  # 从photutils.background导入背景处理工具\n",
        "\n",
        "from photutils.detection import IRAFStarFinder  # 从photutils.detection导入IRAFStarFinder，用于星点检测\n",
        "\n",
        "from photutils.psf import PSFPhotometry  # 从photutils.psf导入PSFPhotometry，用于点扩散函数光度测量"
      ]
    },
    {
      "cell_type": "code",
      "execution_count": null,
      "id": "19b4a0e0-7022-4c10-8e7f-cd978dac2a69",
      "metadata": {},
      "outputs": [],
      "source": [
        "# 包含JWST光瞳形状、仪器透过率和光圈位置等信息的文件与STPSF分开分发。\n",
        "\n",
        "# 要运行STPSF，您必须下载这些文件，并使用STPSF_PATH环境变量告诉STPSF在哪里可以找到它们。\n",
        "\n",
        "import os  # 导入os模块以处理操作系统功能\n",
        "import requests  # 导入requests模块以处理HTTP请求\n",
        "from urllib.parse import urlparse  # 导入urlparse以解析URL\n",
        "import tarfile  # 导入tarfile模块以处理tar文件\n",
        "\n",
        "# 设置环境变量\n",
        "os.environ[\"STPSF_PATH\"] = \"./data/stpsf-data\"  # 指定STPSF数据的路径\n",
        "\n",
        "# STPSF数据的URL和文件路径\n",
        "stpsf_url = 'https://stsci.box.com/shared/static/kqfolg2bfzqc4mjkgmujo06d3iaymahv.gz'  # STPSF数据的下载链接\n",
        "stpsf_file = './stpsf-data-LATEST.tar.gz'  # 下载后保存的文件名\n",
        "stpsf_folder = \"./data\"  # 存放解压后文件的文件夹\n",
        "\n",
        "# 定义下载文件的函数\n",
        "def download_file(url, dest_path, timeout=60):\n",
        "    parsed_url = urlparse(url)  # 解析URL\n",
        "\n",
        "    if parsed_url.scheme not in [\"http\", \"https\"]:  # 检查URL协议是否支持\n",
        "        raise ValueError(f\"Unsupported URL scheme: {parsed_url.scheme}\")  # 抛出不支持的协议错误\n",
        "\n",
        "    response = requests.get(url, stream=True, timeout=timeout)  # 发送GET请求下载文件\n",
        "    response.raise_for_status()  # 检查请求是否成功\n",
        "\n",
        "    with open(dest_path, \"wb\") as f:  # 以二进制写入模式打开目标文件\n",
        "        for chunk in response.iter_content(chunk_size=8192):  # 分块读取内容\n",
        "            f.write(chunk)  # 写入文件\n",
        "\n",
        "# 收集stpsf文件\n",
        "stpsfExist = os.path.exists(stpsf_folder)  # 检查文件夹是否存在\n",
        "\n",
        "if not stpsfExist:  # 如果文件夹不存在\n",
        "    os.makedirs(stpsf_folder)  # 创建文件夹\n",
        "    download_file(stpsf_url, stpsf_file)  # 下载STPSF文件\n",
        "    gzf = tarfile.open(stpsf_file)  # 打开下载的tar文件\n",
        "    gzf.extractall(stpsf_folder)  # 解压文件到指定文件夹"
      ]
    },
    {
      "cell_type": "markdown",
      "id": "b10f0e4a",
      "metadata": {},
      "source": [
        "## 在给定日期附近寻找测量的波前"
      ]
    },
    {
      "cell_type": "code",
      "execution_count": null,
      "id": "e7e96b38-93e0-4753-968b-ae21e921be05",
      "metadata": {},
      "outputs": [],
      "source": [
        "nrc = stpsf.NIRCam()  # 创建NIRCam对象\n",
        "\n",
        "nrc.filter = 'F200W'  # 设置滤光片为F200W\n",
        "\n",
        "nrc.detector = 'NRCB2'  # 选择探测器为NRCB2\n",
        "\n",
        "nrc.detector_position = (1024, 1024)  # 设置探测器位置为(1024, 1024)"
      ]
    },
    {
      "cell_type": "markdown",
      "id": "df022d55-73c0-4e78-9f27-cb52d3e4ed60",
      "metadata": {},
      "source": [
        "像素间电容效应现在已包含在过采样输出以及探测器采样输出中（在几何失真扩展中）。请记住，一般来说，输出 PSF FITS 文件的最后一个（“DET_DIST”）FITS 扩展是最能代表在探测器上实际观测到的 PSF 的输出数据产品。\n",
        "\n",
        "无论如何，有方法可以禁用任何探测器效应或调整电荷扩散的经验近似。例如：\n",
        "\n",
        "nrc.options['charge_diffusion_sigma'] = 0\n",
        "\n",
        "nrc.options['add_ipc'] = False"
      ]
    },
    {
      "cell_type": "code",
      "execution_count": null,
      "id": "1873f2d3",
      "metadata": {},
      "outputs": [],
      "source": [
        "import os  # 导入os模块以处理文件和目录\n",
        "\n",
        "output_path = os.getcwd()  # 获取当前工作目录并赋值给output_path\n",
        "\n",
        "# 加载指定日期的WSS OPD数据，并进行绘图，输出路径为output_path\n",
        "nrc.load_wss_opd_by_date('2022-07-01T00:00:00', plot=True, output_path=output_path)\n",
        "\n",
        "# choice : string . Default 'closest'  # 选择OPD文件的方法，默认为'closest'\n",
        "\n",
        "# 方法用于选择使用哪个OPD文件，例如'before'或'after'"
      ]
    },
    {
      "cell_type": "markdown",
      "id": "cfac101d",
      "metadata": {},
      "source": [
        "- 左上角：这是在NIRCam的“场点1”处测得的光程差（OPD），该点位于NRCA3的左上角，相对接近NIRCam模块的中心。该天文台的总光程差测量包括望远镜和NIRCam对波前误差（WFE）的贡献。\n",
        "\n",
        "- 左中：这是在该场点处NIRCam部分的波前图。该数据来自地面校准测试，而非飞行中测量。\n",
        "\n",
        "- 右上角：NIRCam的波前误差贡献从总天文台波前误差中减去，以得出仅光学传输元件（OTE）部分的波前误差估计值。\n",
        "\n",
        "- 左下角和中间：这些是OTE光程差在NRCA3的感测场点与请求场点（在本例中为NRCB2）之间的场依赖模型。这种场依赖主要源于三级镜的形状。这些模型用于将估计的OTE光程差从一个场位置转换到另一个场位置。\n",
        "\n",
        "- 右下角：这是在请求场点（在本例中为NRCB2）处的OTE光程差的最终估计值。"
      ]
    },
    {
      "cell_type": "code",
      "execution_count": null,
      "id": "6dabd940",
      "metadata": {},
      "outputs": [],
      "source": [
        "# OPD文件的内容是什么？\n",
        "\n",
        "opd_fn = 'R2022070403-NRCA3_FP1-0.fits'  # 定义OPD文件名\n",
        "\n",
        "opd = fits.open(os.path.join(output_path, opd_fn))  # 打开OPD文件并读取数据\n",
        "\n",
        "opd.info()  # 输出OPD文件的信息\n",
        "\n",
        "norm = ImageNormalize(stretch=LogStretch(), vmin=1e-10, vmax=1e-6)  # 定义图像归一化参数\n",
        "\n",
        "plt.figure(figsize=[10, 18])  # 创建一个新的图形，设置图形大小\n",
        "\n",
        "for i in range(1, len(opd)):  # 遍历OPD文件中的每个扩展\n",
        "\n",
        "    plt.subplot(5, 3, i)  # 创建一个5行3列的子图，并选择第i个子图\n",
        "\n",
        "    if i == 2:  # 如果是第二个子图\n",
        "\n",
        "        plt.imshow(opd[i].data, norm=norm, origin='lower')  # 显示图像数据，应用归一化，原点在下方\n",
        "\n",
        "    else:  # 对于其他子图\n",
        "\n",
        "        plt.imshow(opd[i].data, origin='lower')  # 显示图像数据，原点在下方"
      ]
    },
    {
      "cell_type": "markdown",
      "id": "bdb160f4",
      "metadata": {},
      "source": [
        "## OPD 文件描述"
      ]
    },
    {
      "cell_type": "markdown",
      "id": "6f1374aa-e579-4724-9f0f-92227bc43675",
      "metadata": {},
      "source": [
        "- RESULT_PHASE 图像扩展\n",
        "\n",
        "该 FITS 文件包含一个 ‘RESULT’ 图像扩展，这是所有分析图像的光程差结果的平均值，来自相位恢复过程。\n",
        "\n",
        "- RESULT_PSF 图像扩展\n",
        "\n",
        "该 FITS 文件包含一个 ‘RESULT_PSF’ 图像扩展，这是通过 WAS 计算出的结果相位的点扩散函数（PSF）。\n",
        "\n",
        "- EXPECTED 图像扩展\n",
        "\n",
        "该 FITS 文件包含一个 ‘EXPECTED’ 图像扩展，这是如果应用 WAS 推荐的校正时预期的光程差。\n",
        "\n",
        "- PUPIL_MASK 图像扩展\n",
        "\n",
        "该 FITS 文件包含一个 ‘PUPIL_MASK’ 图像扩展，这是用于从结果相位计算 PSF 的瞳孔掩模。\n",
        "\n",
        "<b>该 FITS 文件为每个分析的输入图像包含五个图像扩展。在传感程序的情况下，有 2 张图像 +/-8WL</b>\n",
        "\n",
        "- RAW_PSF 图像扩展\n",
        "\n",
        "对于每个输入图像，Raw PSF 扩展将包含从校准后的科学数据中提取的原始子图像。\n",
        "\n",
        "- CALC_PSF 图像扩展\n",
        "\n",
        "对于每个输入图像，Calculated PSF 扩展将包含一个图像，表示通过相位恢复过程计算的估计 PSF。\n",
        "\n",
        "- CALC_AMP 图像扩展\n",
        "\n",
        "对于每个输入图像，Calculated Amplitude 扩展将包含一个图像，表示通过相位恢复过程计算的估计瞳孔振幅。\n",
        "\n",
        "- HO_PHASE 图像扩展\n",
        "\n",
        "对于每个输入图像，High-Order Phase 扩展将包含一个图像，表示恢复的相位信息减去通过相位恢复过程计算的低阶（可控）相位。\n",
        "\n",
        "- LO_PHASE 图像扩展\n",
        "\n",
        "对于每个输入图像，Low-Order Phase 扩展将包含一个图像，表示通过相位恢复过程计算的恢复的可控相位信息。"
      ]
    },
    {
      "cell_type": "code",
      "execution_count": null,
      "id": "b3276a76",
      "metadata": {},
      "outputs": [],
      "source": [
        "# 让我们从上述的OPD模拟Webb的点扩散函数(PSF)\n",
        "\n",
        "# 下面的PSF是使用实际的\n",
        "\n",
        "# 在请求日期附近的望远镜WFE的测量状态计算的，\n",
        "\n",
        "# 在这种情况下是2022年7月1日。\n",
        "\n",
        "psf = nrc.calc_psf(fov_pixels=101)  # 计算视场为101像素的PSF"
      ]
    },
    {
      "cell_type": "code",
      "execution_count": null,
      "id": "6b0b12e3",
      "metadata": {},
      "outputs": [],
      "source": [
        "plt.figure(figsize=(16, 9))  # 创建一个16x9英寸的图形窗口\n",
        "\n",
        "stpsf.display_psf(psf, ext=1)  # 显示点扩散函数（PSF），扩展参数设为1"
      ]
    },
    {
      "cell_type": "markdown",
      "id": "b673174e-3272-4700-8c3f-589013f1dbf5",
      "metadata": {},
      "source": [
        "## 观测时间周围的波前误差变化"
      ]
    },
    {
      "cell_type": "code",
      "execution_count": null,
      "id": "6b7a8510-61cf-465b-b978-59a79ec0b55e",
      "metadata": {},
      "outputs": [],
      "source": [
        "# 调用stpsf对象的trending模块，计算在指定时间点周围的波前误差（WFE）变化\n",
        "stpsf.trending.delta_wfe_around_time('2024-05-11 01:50:25.231')"
      ]
    },
    {
      "cell_type": "markdown",
      "id": "582c8bd6-2bd0-4ca7-8bb7-a57bb9e303dd",
      "metadata": {},
      "source": [
        "## 使用特定观测设置PSF模拟"
      ]
    },
    {
      "cell_type": "code",
      "execution_count": null,
      "id": "d92a5f25-5cf4-482a-be60-ed744653590f",
      "metadata": {},
      "outputs": [],
      "source": [
        "def mast_retrieve_files(filename, output_path=None, verbose=False, redownload=False, token=None):\n",
        "    \"\"\"从MAST下载文件。\n",
        "\n",
        "    如果文件已经存在于本地，则跳过下载并使用缓存的文件。\n",
        "    \"\"\"\n",
        "\n",
        "    import os  # 导入os模块，用于处理文件和目录\n",
        "\n",
        "    from requests.exceptions import HTTPError  # 导入HTTPError异常处理\n",
        "\n",
        "    from astroquery.mast import Mast  # 从astroquery库导入Mast类，用于与MAST交互\n",
        "\n",
        "    if token:  # 如果提供了token\n",
        "        Mast.login(token=token)  # 使用token登录MAST\n",
        "\n",
        "    if output_path is None:  # 如果没有指定输出路径\n",
        "        output_path = '.'  # 默认输出路径为当前目录\n",
        "    else:\n",
        "        output_path = output_path  # 使用用户指定的输出路径\n",
        "\n",
        "    output_filename = os.path.join(output_path, filename)  # 生成完整的输出文件路径\n",
        "\n",
        "    if not os.path.exists(output_path):  # 如果输出路径不存在\n",
        "        os.mkdir(output_path)  # 创建输出路径\n",
        "\n",
        "    if os.path.exists(output_filename) and not redownload:  # 如果文件已存在且不需要重新下载\n",
        "        if verbose:  # 如果verbose为True\n",
        "            print(f\"Found file previously downloaded: {filename}\")  # 打印找到的文件信息\n",
        "        return output_filename  # 返回已存在的文件路径\n",
        "\n",
        "    data_uri = f'mast:JWST/product/{filename}'  # 构建数据URI\n",
        "\n",
        "    # 下载文件\n",
        "    url_path = Mast._portal_api_connection.MAST_DOWNLOAD_URL  # 获取MAST下载URL\n",
        "\n",
        "    try:\n",
        "        Mast._download_file(url_path + \"?uri=\" + data_uri, output_filename)  # 下载文件并保存到指定路径\n",
        "    except HTTPError as err:  # 捕获HTTP错误\n",
        "        print(err)  # 打印错误信息\n",
        "\n",
        "    return output_filename  # 返回下载的文件路径"
      ]
    },
    {
      "cell_type": "code",
      "execution_count": null,
      "id": "b6273b91-2d62-4927-b183-7c03a8f9c792",
      "metadata": {},
      "outputs": [],
      "source": [
        "file = 'jw04500-o056_t012_nircam_f212n-wlm8-nrca3_wfscmb-04.fits'  # 定义要处理的JWST文件名\n",
        "\n",
        "mast_retrieve_files(file)  # 调用函数以检索指定的文件"
      ]
    },
    {
      "cell_type": "code",
      "execution_count": null,
      "id": "c7cef456-43ad-435b-9ccc-c702e5b02d9f",
      "metadata": {},
      "outputs": [],
      "source": [
        "inst = stpsf.setup_sim_to_match_file(file)  # 设置模拟以匹配文件\n",
        "\n",
        "position = (512, 1024)  # 源位置\n",
        "\n",
        "size_pixels = 128  # 像素大小\n",
        "\n",
        "inst.detector_position = position  # 设置探测器位置\n",
        "\n",
        "single_stpsf_nrc = inst.calc_psf(fov_pixels=size_pixels, display=True)  # 计算点扩散函数并显示"
      ]
    },
    {
      "cell_type": "markdown",
      "id": "b423a953",
      "metadata": {},
      "source": [
        "## 随时间变化的波前趋势"
      ]
    },
    {
      "cell_type": "code",
      "execution_count": null,
      "id": "0cda63b3",
      "metadata": {},
      "outputs": [],
      "source": [
        "# 调用stpsf库中的monthly_trending_plot函数，生成2024年6月的趋势图\n",
        "trend_table = stpsf.trending.monthly_trending_plot(2024, 6, verbose=False)"
      ]
    },
    {
      "cell_type": "code",
      "execution_count": null,
      "id": "81919cd8",
      "metadata": {},
      "outputs": [],
      "source": [
        "看起来您提到的“trend_table”并没有提供具体的代码或上下文。为了帮助您，我需要您提供相关的Python代码或数据处理的具体内容。请您分享相关的代码片段或描述，以便我可以为您添加中文注释并保持代码结构不变。谢谢！"
      ]
    },
    {
      "cell_type": "markdown",
      "id": "2596e53e",
      "metadata": {},
      "source": [
        "## 波前时间序列和直方图绘图"
      ]
    },
    {
      "cell_type": "markdown",
      "id": "0593bb05-9325-419b-8fc2-8040f96862d3",
      "metadata": {},
      "source": [
        "### 所有OPD的表格"
      ]
    },
    {
      "cell_type": "markdown",
      "id": "25ed8482-806a-4f69-9e12-40f09a06e9f2",
      "metadata": {},
      "source": [
        "<b>检索所有可用的OPD（光程差）表并绘制随时间变化的测量结果</b>"
      ]
    },
    {
      "cell_type": "code",
      "execution_count": null,
      "id": "3e0b63b7-7cbc-46c1-98f0-5d56916cb923",
      "metadata": {},
      "outputs": [],
      "source": [
        "# 从MAST（微波天文科学技术中心）检索OPD（光学传递函数）表\n",
        "opdtable = stpsf.mast_wss.retrieve_mast_opd_table()\n",
        "\n",
        "# 去重OPD表中的重复项\n",
        "opdtable = stpsf.mast_wss.deduplicate_opd_table(opdtable)"
      ]
    },
    {
      "cell_type": "code",
      "execution_count": null,
      "id": "683b3a8e-6aa8-471b-82aa-7d8073955fae",
      "metadata": {},
      "outputs": [],
      "source": [
        "看起来您提到的“opdtable”可能是一个变量或数据结构的名称，但没有提供具体的代码或上下文。为了帮助您，我需要更多的信息或代码片段，以便我可以添加中文注释并保持代码结构不变。\n",
        "\n",
        "请提供相关的代码或详细说明您希望我处理的内容。谢谢！"
      ]
    },
    {
      "cell_type": "markdown",
      "id": "e400fa59-127a-44d9-a22a-4532f02a6bc8",
      "metadata": {},
      "source": [
        "<b>从opdtable对象中下载所有的OPD。请注意，有些函数需要所有的OPD可用。</b>"
      ]
    },
    {
      "cell_type": "code",
      "execution_count": null,
      "id": "7865507c-bfb1-4bb3-9a4d-12fe14a2beff",
      "metadata": {},
      "outputs": [],
      "source": [
        "# 调用mast_wss模块中的download_all_opds函数，下载所有的OPD（光学性能数据）表\n",
        "stpsf.mast_wss.download_all_opds(opdtable)"
      ]
    },
    {
      "cell_type": "markdown",
      "id": "4b39343d-5fb4-4659-b652-4b837618532b",
      "metadata": {},
      "source": [
        "### 趋势图"
      ]
    },
    {
      "cell_type": "code",
      "execution_count": null,
      "id": "ce0b3026",
      "metadata": {},
      "outputs": [],
      "source": [
        "# 调用 stpsf 模块中的 trending 子模块，绘制波前时间序列图\n",
        "stpsf.trending.wavefront_time_series_plot(opdtable)  # 使用 opdtable 数据绘制波前的时间序列图"
      ]
    },
    {
      "cell_type": "markdown",
      "id": "12837186-b5cb-4048-ae12-5594dfd7398e",
      "metadata": {},
      "source": [
        "### 在时间范围内绘图"
      ]
    },
    {
      "cell_type": "code",
      "execution_count": null,
      "id": "d1108f4a",
      "metadata": {},
      "outputs": [],
      "source": [
        "import datetime  # 导入datetime模块以处理日期和时间\n",
        "\n",
        "start_date = datetime.datetime.fromisoformat('2022-11-22')  # 从ISO格式字符串创建开始日期\n",
        "\n",
        "end_date = datetime.datetime.fromisoformat('2022-12-01')  # 从ISO格式字符串创建结束日期\n",
        "\n",
        "# 调用wavefront_time_series_plot函数绘制波前时间序列图\n",
        "stpsf.trending.wavefront_time_series_plot(opdtable, start_date=start_date,  # 传入opdtable和开始日期\n",
        "                                          end_date=end_date,  # 传入结束日期\n",
        "                                          ymax=85,  # 设置y轴最大值为85\n",
        "                                          ymin=60,  # 设置y轴最小值为60\n",
        "                                          label_visits=True,  # 启用访问标签\n",
        "                                          label_events=True)  # 启用事件标签"
      ]
    },
    {
      "cell_type": "code",
      "execution_count": null,
      "id": "b800855b",
      "metadata": {},
      "outputs": [],
      "source": [
        "# 我们还可以绘制指定时间段内所有测量的波前漂移\n",
        "\n",
        "start_time = astropy.time.Time('2024-01-01T00:00:00')  # 设置开始时间为2024年1月1日00:00:00\n",
        "\n",
        "end_time = astropy.time.Time.now()  # 设置结束时间为当前时间\n",
        "\n",
        "stpsf.trending.wavefront_drift_plots(opdtable, start_time=start_time, end_time=end_time, n_per_row=10)  \n",
        "# 调用函数绘制波前漂移图，传入的参数包括opdtable、开始时间、结束时间和每行显示的图像数量"
      ]
    },
    {
      "cell_type": "code",
      "execution_count": null,
      "id": "5c5835c2",
      "metadata": {},
      "outputs": [],
      "source": [
        "# 我们可以绘制随时间变化的波前误差水平的直方图\n",
        "\n",
        "# 调用wfe_histogram_plot函数，绘制波前误差直方图\n",
        "# opdtable: 输入的波前误差数据表\n",
        "# thresh: 设置的阈值，超过该值的波前误差将被考虑\n",
        "# ote_only: 是否仅考虑光学传输元件（OTE）的数据\n",
        "stpsf.trending.wfe_histogram_plot(opdtable, thresh=70, ote_only=True)"
      ]
    },
    {
      "cell_type": "code",
      "execution_count": null,
      "id": "1770f0a5",
      "metadata": {},
      "outputs": [],
      "source": [
        "# 或选择特定的时间段\n",
        "\n",
        "start_date = astropy.time.Time('2024-04-01')  # 设置开始日期为2024年4月1日\n",
        "\n",
        "end_date = astropy.time.Time.now()  # 获取当前时间作为结束日期\n",
        "\n",
        "# 绘制波前误差（WFE）直方图，使用给定的OPD表和时间范围\n",
        "stpsf.trending.wfe_histogram_plot(opdtable, start_date=start_date, thresh=70, ote_only=True)"
      ]
    },
    {
      "cell_type": "markdown",
      "id": "9fbdf9ec",
      "metadata": {},
      "source": [
        "### 加载并绘制单个 OPD"
      ]
    },
    {
      "cell_type": "markdown",
      "id": "d24e8459-31a1-418d-ab53-921a4b492e53",
      "metadata": {},
      "source": [
        "检查上面的 OPD 表，以找到与您的观测相关的 OPD。"
      ]
    },
    {
      "cell_type": "code",
      "execution_count": null,
      "id": "e9bfa9fc",
      "metadata": {},
      "outputs": [],
      "source": [
        "nrc = stpsf.NIRCam()  # 创建NIRCam对象\n",
        "\n",
        "nrc.filter = 'F212N'  # 设置滤光片为F212N\n",
        "\n",
        "opd_fn = 'R2022120204-NRCA3_FP1-1.fits'  # 定义OPD文件名\n",
        "\n",
        "nrc.load_wss_opd(opd_fn, output_path=output_path)  # 加载OPD文件到NIRCam对象中，指定输出路径\n",
        "\n",
        "fov_pixels = 511  # 定义视场像素大小\n",
        "\n",
        "psf = nrc.calc_psf(oversample=4, fov_pixels=fov_pixels)  # 计算点扩散函数(PSF)，超采样因子为4，视场像素为511"
      ]
    },
    {
      "cell_type": "code",
      "execution_count": null,
      "id": "c636b05c",
      "metadata": {},
      "outputs": [],
      "source": [
        "# 显示点扩散函数（PSF）的信息\n",
        "psf.info()  # 调用psf对象的info方法，输出PSF的相关信息"
      ]
    },
    {
      "cell_type": "code",
      "execution_count": null,
      "id": "c7b97bd4",
      "metadata": {},
      "outputs": [],
      "source": [
        "# 显示点扩散函数（PSF）并绘制包围能量\n",
        "\n",
        "plt.figure(figsize=(12, 6))  # 创建一个12x6英寸的图形\n",
        "\n",
        "plt.subplot(1, 2, 1)  # 创建1行2列的子图，选择第1个子图\n",
        "\n",
        "stpsf.display_psf(psf, colorbar_orientation='horizontal')  # 显示PSF，颜色条为水平\n",
        "\n",
        "axis2 = plt.subplot(1, 2, 2)  # 创建1行2列的子图，选择第2个子图\n",
        "\n",
        "stpsf.display_ee(psf, ext=1, ax=axis2)  # 显示包围能量，扩展参数为1，指定坐标轴为axis2"
      ]
    },
    {
      "cell_type": "markdown",
      "id": "1e65e60a-8471-4064-a43e-e6475f939770",
      "metadata": {},
      "source": [
        "## JWST 模拟点扩散函数（PSF）从在轨数据中减除\n",
        "\n",
        "https://stpsf.readthedocs.io/en/latest/jwst_psf_subtraction.html"
      ]
    },
    {
      "cell_type": "code",
      "execution_count": null,
      "id": "62ea3067-efec-4333-9153-7a949fbdaebf",
      "metadata": {},
      "outputs": [],
      "source": [
        "# 定义要处理的文件名\n",
        "file = 'jw02725-o484_t097_nircam_clear-f356w-nrcalong_wfscmb-04.fits'\n",
        "\n",
        "# 从Mast数据库中检索文件\n",
        "mast_retrieve_files(file)"
      ]
    },
    {
      "cell_type": "code",
      "execution_count": null,
      "id": "bcb39614-a364-45a9-8a26-7d1deb2db0bf",
      "metadata": {},
      "outputs": [],
      "source": [
        "# 打开并检查观测数据\n",
        "psf = fits.open(file)  # 使用FITS库打开指定的文件\n",
        "\n",
        "data = psf['SCI'].data  # 获取科学数据部分\n",
        "\n",
        "mask = (psf['DQ'].data % 2).astype('bool')  # 创建掩膜，标记数据质量（DQ）中不合格的像素\n",
        "\n",
        "sigma_clip = SigmaClip(sigma=3.0)  # 设置sigma剪切，去除异常值，阈值为3.0\n",
        "\n",
        "bkg_estimator = MedianBackground()  # 使用中值背景估计器\n",
        "\n",
        "# norm = simple_norm(data1, 'log',min_cut = min_cut, max_cut = max_cut)  # 归一化数据（注释掉的代码）\n",
        "\n",
        "# 计算二维背景，使用指定的窗口大小和掩膜\n",
        "bkg = Background2D(data, (50, 50), filter_size=(3, 3),\n",
        "                   sigma_clip=sigma_clip, bkg_estimator=bkg_estimator, mask=mask)  # 进行背景估计"
      ]
    },
    {
      "cell_type": "code",
      "execution_count": null,
      "id": "6895ca22-178f-487e-9ac8-cb9ac09c5312",
      "metadata": {},
      "outputs": [],
      "source": [
        "plt.figure(figsize=(6, 6))  # 创建一个6x6英寸的图形\n",
        "\n",
        "# 使用简单的归一化方法，计算数据与背景的差值，并进行反双曲正弦归一化\n",
        "norm = simple_norm(data - bkg.background, 'asinh', min_percent=20, max_percent=98.99)\n",
        "\n",
        "# 显示数据与背景差值的图像，设置归一化、原点位置和颜色映射\n",
        "plt.imshow(data - bkg.background, norm=norm, origin='lower', cmap='viridis')"
      ]
    },
    {
      "cell_type": "markdown",
      "id": "0701c54b-607e-49d1-b278-c08b504741c1",
      "metadata": {},
      "source": [
        "### 提取感兴趣源周围的子数组，并测量源位置"
      ]
    },
    {
      "cell_type": "code",
      "execution_count": null,
      "id": "a40745a6-55eb-4cfd-b5d7-f0e072b6f520",
      "metadata": {},
      "outputs": [],
      "source": [
        "position = (550, 1950)  # 近似位置，稍后会进行改进\n",
        "\n",
        "size_pixels = 200  # 设置像素大小"
      ]
    },
    {
      "cell_type": "code",
      "execution_count": null,
      "id": "12b78fc6-c5bd-4bcb-bf26-e4f420c60bbb",
      "metadata": {},
      "outputs": [],
      "source": [
        "# 从背景中减去数据并创建一个Cutout2D对象\n",
        "data_source = Cutout2D(data - bkg.background, position, size_pixels).data\n",
        "\n",
        "# 创建一个6x6英寸的图形\n",
        "plt.figure(figsize=(6, 6))\n",
        "\n",
        "# 使用简单的归一化方法，设置最小和最大百分比\n",
        "norm = simple_norm(data_source, 'asinh', min_percent=20, max_percent=99.6)\n",
        "\n",
        "# 显示图像，设置归一化、原点位置和颜色映射\n",
        "plt.imshow(data_source, norm=norm, origin='lower', cmap='viridis')\n",
        "\n",
        "# 设置图形标题\n",
        "plt.title(\"Cutout around a galaxy merger and a star\")"
      ]
    },
    {
      "cell_type": "markdown",
      "id": "70385f94-3537-459a-940f-1abb3c351bec",
      "metadata": {},
      "source": [
        "### 找到源头"
      ]
    },
    {
      "cell_type": "code",
      "execution_count": null,
      "id": "e3f1a2a5-07ff-485c-84dc-b0292384b301",
      "metadata": {},
      "outputs": [],
      "source": [
        "# 创建一个星体查找器，设置全宽半最大值和阈值\n",
        "starfind = IRAFStarFinder(fwhm=3.0, threshold=100. * bkg.background_median)\n",
        "\n",
        "# 使用星体查找器在数据源中查找星体\n",
        "sources = starfind(data_source)\n",
        "\n",
        "# 创建一个6x6英寸的图形\n",
        "plt.figure(figsize=(6, 6))\n",
        "\n",
        "# 显示数据源图像，设置归一化、原点位置和颜色映射\n",
        "plt.imshow(data_source, norm=norm, origin='lower', cmap='viridis')\n",
        "\n",
        "# 设置图形标题\n",
        "plt.title(\"Cutout around a galaxy merger and a star\")\n",
        "\n",
        "# 在图像上绘制找到的星体的中心位置，使用红色的'x'标记\n",
        "plt.scatter(sources['xcentroid'], sources['ycentroid'], color='red', marker='x')"
      ]
    },
    {
      "cell_type": "code",
      "execution_count": null,
      "id": "b75e028e-a523-4f09-9006-15ccef447ae2",
      "metadata": {},
      "outputs": [],
      "source": [
        "# 让我们重新中心化图像\n",
        "\n",
        "# 从背景中减去背景数据，创建一个Cutout2D对象，并将其位置转换为原始位置\n",
        "positions_original = Cutout2D(data - bkg.background, position, size_pixels).to_original_position((sources['xcentroid'], sources['ycentroid']))\n",
        "\n",
        "# 更新位置为原始位置的第一个值\n",
        "position = (positions_original[0].value[0], positions_original[1].value[0])\n",
        "\n",
        "# 设置切割区域的大小\n",
        "size = 200\n",
        "\n",
        "# 创建一个新的Cutout2D对象，提取中心化后的数据\n",
        "data_source = Cutout2D(data - bkg.background, position, size_pixels).data\n",
        "\n",
        "# 创建一个6x6英寸的图形\n",
        "plt.figure(figsize=(6, 6))\n",
        "\n",
        "# 使用简单归一化方法设置数据的归一化，使用反双曲正弦函数\n",
        "norm = simple_norm(data_source, 'asinh', min_percent=20, max_percent=99.6)\n",
        "\n",
        "# 显示切割后的数据图像，设置原点为下方，使用viridis色图\n",
        "plt.imshow(data_source, norm=norm, origin='lower', cmap='viridis')\n",
        "\n",
        "# 设置图像标题\n",
        "plt.title(\"Cutout centered on the star\")\n",
        "\n",
        "# 打印出新的位置\n",
        "print(position)"
      ]
    },
    {
      "cell_type": "markdown",
      "id": "0ba1b5b8-7d1b-40ad-9e10-1d284245f20d",
      "metadata": {},
      "source": [
        "### 使用之前的函数来设置我们的模拟"
      ]
    },
    {
      "cell_type": "code",
      "execution_count": null,
      "id": "6d18dd71-aae6-4568-a0f0-56ccebbde2e8",
      "metadata": {},
      "outputs": [],
      "source": [
        "inst = stpsf.setup_sim_to_match_file(file)  # 设置模拟以匹配文件\n",
        "\n",
        "inst.detector_position = position  # 设置探测器位置\n",
        "\n",
        "single_stpsf_nrc = inst.calc_psf(fov_pixels=size_pixels)  # 计算点扩散函数（PSF），以指定的视场像素大小"
      ]
    },
    {
      "cell_type": "code",
      "execution_count": null,
      "id": "c060e6ef-ac52-474a-a525-d82e176052fa",
      "metadata": {},
      "outputs": [],
      "source": [
        "# 显示JWST望远镜数据的单个STPSF（点扩散函数）图像的头部信息\n",
        "single_stpsf_nrc[3].header  # 访问单个STPSF图像的头部信息"
      ]
    },
    {
      "cell_type": "markdown",
      "id": "37f0acfe-b788-4d47-b8d2-31b63c135bbf",
      "metadata": {},
      "source": [
        "### 使用 photutils 创建我们的模型 PSF\n",
        "\n",
        "我们将使用 photutils 来拟合并减去数据中的 PSF。首先，我们将输出的模拟 PSF 转换为一个可供 photutils 拟合的模型："
      ]
    },
    {
      "cell_type": "code",
      "execution_count": null,
      "id": "7956047c-3bf6-4267-b85a-7e63456eea69",
      "metadata": {},
      "outputs": [],
      "source": [
        "# 创建一个FittableImageModel对象，用于表示点扩散函数（PSF）\n",
        "stpsf_model = photutils.psf.FittableImageModel(\n",
        "    single_stpsf_nrc['DET_DIST'].data,  # 从单个STPSF数据中提取DET_DIST数据\n",
        "    normalize=True,                      # 归一化PSF\n",
        "    oversampling=1                       # 过采样因子设置为1\n",
        ")"
      ]
    },
    {
      "cell_type": "code",
      "execution_count": null,
      "id": "baf9ded6-0a9d-4359-93e4-febc0b581c5f",
      "metadata": {},
      "outputs": [],
      "source": [
        "fit_shape = (5, 5)  # 定义拟合形状为5x5的元组\n",
        "\n",
        "# 创建PSFPhotometry对象，使用给定的PSF模型和拟合形状\n",
        "psfphot = PSFPhotometry(stpsf_model, fit_shape,\n",
        "\n",
        "                        finder=starfind, aperture_radius=4)  # 设置星源查找器和光圈半径\n",
        "\n",
        "# 将模型PSF拟合到经过背景减除的数据上\n",
        "phot = psfphot(data_source)  # 对数据源进行PSF光度测量"
      ]
    },
    {
      "cell_type": "markdown",
      "id": "a3753d6c-378d-4a63-b1b5-4f0ffa3e1001",
      "metadata": {},
      "source": [
        "#### 检查要减去的源的位置"
      ]
    },
    {
      "cell_type": "code",
      "execution_count": null,
      "id": "cbbf9523-8c3e-456e-9f7c-b4ea84c5443b",
      "metadata": {},
      "outputs": [],
      "source": [
        "print(phot) # 打印单个源的光度信息"
      ]
    },
    {
      "cell_type": "markdown",
      "id": "3995c61e-7fe1-4b9d-ad0b-612362901ced",
      "metadata": {},
      "source": [
        "### 减去点扩散函数（PSF）并创建残差图像"
      ]
    },
    {
      "cell_type": "code",
      "execution_count": null,
      "id": "524191ba-8dc9-47ea-8bc9-fef7b619288d",
      "metadata": {},
      "outputs": [],
      "source": [
        "# 使用psfphot库创建残差图像\n",
        "residual = psfphot.make_residual_image(data_source, psf_shape=(size_pixels, size_pixels))  # 生成残差图像，数据来源为data_source，PSF形状为(size_pixels, size_pixels)"
      ]
    },
    {
      "cell_type": "code",
      "execution_count": null,
      "id": "b8982c19-d9b1-4525-8f3d-e65d3415a5f8",
      "metadata": {},
      "outputs": [],
      "source": [
        "plt.figure(figsize=(14, 16))  # 创建一个14x16英寸的图形\n",
        "\n",
        "plt.subplot(1, 2, 1)  # 创建1行2列的子图，选择第1个子图\n",
        "plt.imshow(data_source, norm=norm, origin='lower', cmap='viridis')  # 显示原始数据图像，使用viridis色图\n",
        "plt.title('Original - zoom')  # 设置第1个子图的标题\n",
        "\n",
        "plt.subplot(1, 2, 2)  # 选择第2个子图\n",
        "plt.imshow(residual, norm=norm, origin='lower', cmap='viridis')  # 显示清理后的数据图像，使用viridis色图\n",
        "plt.title('Clean - PSFPhotometry zoom')  # 设置第2个子图的标题"
      ]
    },
    {
      "cell_type": "markdown",
      "id": "be28b377",
      "metadata": {},
      "source": [
        "### PSF 属性和差异"
      ]
    },
    {
      "cell_type": "code",
      "execution_count": null,
      "id": "27c68309",
      "metadata": {},
      "outputs": [],
      "source": [
        "pixelscale = nrc.pixelscale  # 获取像素比例\n",
        "\n",
        "ee_pixel_radius = 2.5  # 定义有效半径（以像素为单位）\n",
        "\n",
        "ee_arcsec_radius = ee_pixel_radius * pixelscale  # 将有效半径转换为角秒\n",
        "\n",
        "ee_psf = poppy.measure_ee(single_stpsf_nrc, ext=3, normalize='total')  # 测量点扩散函数（PSF）的有效能量\n",
        "\n",
        "ee_val = ee_psf(ee_arcsec_radius)  # 计算给定角秒半径的有效能量值\n",
        "\n",
        "print(\"ee ({}px, {:.3f}arsec)  = {:.4f}\".format(ee_pixel_radius, ee_arcsec_radius, ee_val.item(0)))  # 打印有效能量值"
      ]
    },
    {
      "cell_type": "code",
      "execution_count": null,
      "id": "cd99d934",
      "metadata": {},
      "outputs": [],
      "source": [
        "def measure_fwhm(array):\n",
        "    \"\"\"Fit a Gaussian2D model to a PSF and return the fitted PSF\n",
        "\n",
        "    the FWHM is x and y can be found with fitted_psf.x_fwhm, fitted_psf.y_fwhm\n",
        "\n",
        "    Parameters\n",
        "    ----------\n",
        "    array : numpy.ndarray\n",
        "        Array containing PSF\n",
        "\n",
        "    Returns\n",
        "    -------\n",
        "    x_fwhm : float\n",
        "        FWHM in x direction in units of pixels\n",
        "\n",
        "    y_fwhm : float\n",
        "        FWHM in y direction in units of pixels\n",
        "        \n",
        "    x_mean : float\n",
        "        x centroid position in units of pixels\n",
        "    \n",
        "    y_mean : float\n",
        "        y centroid position in units of pixels\n",
        "    \"\"\"\n",
        "    \n",
        "    yp, xp = array.shape  # 获取输入数组的形状，yp为行数，xp为列数\n",
        "\n",
        "    y, x = np.mgrid[:yp, :xp]  # 创建网格坐标，y和x分别表示行和列的坐标\n",
        "\n",
        "    # 初始化高斯模型参数，幅度为数组最大值，x和y的均值为数组中心\n",
        "    p_init = models.Gaussian2D(amplitude=array.max(), x_mean=xp * 0.5, y_mean=yp * 0.5)\n",
        "\n",
        "    fit_p = fitting.LevMarLSQFitter()  # 创建最小二乘拟合器\n",
        "\n",
        "    fitted_psf = fit_p(p_init, x, y, array)  # 拟合高斯模型到输入数组\n",
        "\n",
        "    return fitted_psf  # 返回拟合后的PSF模型"
      ]
    },
    {
      "cell_type": "code",
      "execution_count": null,
      "id": "229a6384",
      "metadata": {},
      "outputs": [],
      "source": [
        "# 使用measure_fwhm函数计算单个STPSF的全宽半最大值（FWHM）\n",
        "fitted_psf = measure_fwhm(single_stpsf_nrc[\"DET_SAMP\"].data)\n",
        "\n",
        "# 打印FWHM在X方向和Y方向的值，格式化输出\n",
        "print(\"FWHM X-direction: {:.3f}, FWHM y-direction: {:.2f}\".format(fitted_psf.x_fwhm, fitted_psf.y_fwhm))"
      ]
    },
    {
      "cell_type": "code",
      "execution_count": null,
      "id": "f7736af3",
      "metadata": {},
      "outputs": [],
      "source": [
        "# 注意，OPD（光学路径差）已加载到STPSF仪器对象中\n",
        "\n",
        "# norm = ImageNormalize(stretch=LinearStretch(), vmin = 1e-9 , vmax = 1e-7)  # 归一化设置（已注释掉）\n",
        "\n",
        "plt.figure(figsize=[10, 10])  # 创建一个10x10英寸的图形\n",
        "\n",
        "plt.imshow(nrc.pupilopd[0].data, origin='lower')  # 显示OPD数据，原点位于图像的下方"
      ]
    },
    {
      "cell_type": "code",
      "execution_count": null,
      "id": "83330fc5",
      "metadata": {},
      "outputs": [],
      "source": [
        "# 检查OPD（光学路径差）头信息\n",
        "\n",
        "nrc.pupilopd[0].header  # 访问nrc对象中的pupilopd数组的第一个元素，并获取其头信息"
      ]
    },
    {
      "cell_type": "code",
      "execution_count": null,
      "id": "258d9518",
      "metadata": {},
      "outputs": [],
      "source": [
        "# 让我们计算两个不同时间之间的差异\n",
        "\n",
        "# 我们可以使用之前相同的仪器设置\n",
        "\n",
        "opd_fn = 'R2022120404-NRCA3_FP1-1.fits'  # 定义OPD文件名\n",
        "\n",
        "inst.load_wss_opd(opd_fn)  # 加载指定的OPD文件\n",
        "\n",
        "psf2 = inst.calc_psf(fov_pixels=size_pixels)  # 计算点扩散函数（PSF），并指定视场像素大小"
      ]
    },
    {
      "cell_type": "code",
      "execution_count": null,
      "id": "3436686e",
      "metadata": {},
      "outputs": [],
      "source": [
        "pixelscale = nrc.pixelscale  # 获取像素比例\n",
        "\n",
        "ee_pixel_radius = 2.5  # 定义有效半径（以像素为单位）\n",
        "\n",
        "ee_arcsec_radius = ee_pixel_radius * pixelscale  # 将有效半径转换为角秒\n",
        "\n",
        "ee_psf = poppy.measure_ee(psf2, ext=1, normalize='total')  # 测量点扩散函数（PSF）的包络能量\n",
        "\n",
        "ee_val = ee_psf(ee_arcsec_radius)  # 计算给定角秒半径的包络能量值\n",
        "\n",
        "print(\"ee ({}px, {:.3f}arsec)  = {:.4f}\".format(ee_pixel_radius, ee_arcsec_radius, ee_val.item(0)))  # 打印结果"
      ]
    },
    {
      "cell_type": "code",
      "execution_count": null,
      "id": "0ed5dfe5",
      "metadata": {},
      "outputs": [],
      "source": [
        "# 显示两个点扩散函数（PSF）之间的差异\n",
        "stpsf.display_psf_difference(single_stpsf_nrc, psf2, imagecrop=2, title='Difference between two OPDs', cmap='gist_heat')"
      ]
    },
    {
      "cell_type": "code",
      "execution_count": null,
      "id": "c7a82342",
      "metadata": {},
      "outputs": [],
      "source": [
        "def miri_psfs_for_ee():\n",
        "    # 创建MIRI PSF对象\n",
        "    miri = stpsf.MIRI()\n",
        "\n",
        "    # opd_fn = 'R2022120404-NRCA3_FP1-1.fits'  # 注释掉的文件名\n",
        "\n",
        "    # miri.load_wss_opd(opd_fn, output_path = output_path)  # 注释掉的OPD加载函数\n",
        "\n",
        "    # 根据日期加载WSS OPD，并绘制图像\n",
        "    miri.load_wss_opd_by_date('2022-07-12T00:00:00', plot=True, output_path=output_path)\n",
        "\n",
        "    # 遍历不同波长\n",
        "    for wave in [5.0, 7.5, 10, 14]:\n",
        "        fov = 18  # 视场大小\n",
        "\n",
        "        # 输出文件名\n",
        "        outname = \"PSF_MIRI_%.1fum_wfed.fits\" % (wave)\n",
        "\n",
        "        # 计算PSF并保存\n",
        "        psf = miri.calc_psf(outname, monochromatic=wave * 1e-6,\n",
        "                             oversample=4, fov_arcsec=fov, display=True)\n",
        "\n",
        "    return psf  # 返回最后计算的PSF\n",
        "\n",
        "def plot_ee_curves():\n",
        "    plt.clf()  # 清除当前图形\n",
        "\n",
        "    # 遍历不同波长\n",
        "    for iw, wave in enumerate([5.0, 7.5, 10, 14]):\n",
        "        ees60 = []  # 存储0.60\"内的EE值\n",
        "        ees51 = []  # 存储0.51\"内的EE值\n",
        "\n",
        "        ax = plt.subplot(2, 2, iw + 1)  # 创建子图\n",
        "\n",
        "        # 生成文件名\n",
        "        name = \"PSF_MIRI_%.1fum_wfed.fits\" % (wave)\n",
        "\n",
        "        # 显示EE曲线\n",
        "        stpsf.display_ee(name, ax=ax, mark_levels=False)\n",
        "\n",
        "        # 测量EE\n",
        "        eefn = stpsf.measure_ee(name)\n",
        "        ees60.append(eefn(0.60))  # 记录0.60\"的EE值\n",
        "        ees51.append(eefn(0.51))  # 记录0.51\"的EE值\n",
        "\n",
        "        # 在图中添加文本\n",
        "        ax.text(1, 0.6, 'Mean EE inside 0.60\": %.3f' % np.asarray(ees60).mean())\n",
        "        ax.text(1, 0.5, 'Mean EE inside 0.51\": %.3f' % np.asarray(ees51).mean())\n",
        "\n",
        "        ax.set_title(f\"Wavelength = {wave:.1f} $\\\\mu$m\")  # 设置标题\n",
        "\n",
        "        # 添加垂直线标记EE的阈值\n",
        "        ax.axvline(0.6, ls=\":\", color='k')\n",
        "        ax.axvline(0.51, ls=\":\", color='k')\n",
        "\n",
        "    plt.tight_layout()  # 调整子图布局"
      ]
    },
    {
      "cell_type": "code",
      "execution_count": null,
      "id": "02e72894",
      "metadata": {},
      "outputs": [],
      "source": [
        "def miri_psfs_for_ee():\n",
        "    # 定义一个函数，用于处理JWST MIRI的点扩散函数（PSF）\n",
        "\n",
        "    # 导入必要的库\n",
        "    import numpy as np  # 导入NumPy库，用于数值计算\n",
        "    import matplotlib.pyplot as plt  # 导入Matplotlib库，用于绘图\n",
        "    from jwst import datamodels  # 从JWST数据模型导入数据处理模块\n",
        "\n",
        "    # 读取MIRI PSF数据\n",
        "    psf_data = datamodels.open('path_to_psf_data.fits')  # 打开PSF数据文件\n",
        "\n",
        "    # 提取PSF图像\n",
        "    psf_image = psf_data.data  # 从数据模型中提取PSF图像数据\n",
        "\n",
        "    # 计算PSF的中心位置\n",
        "    center_x = psf_image.shape[1] // 2  # 计算PSF图像的中心x坐标\n",
        "    center_y = psf_image.shape[0] // 2  # 计算PSF图像的中心y坐标\n",
        "\n",
        "    # 创建一个新的图形\n",
        "    plt.figure(figsize=(8, 8))  # 设置图形的大小\n",
        "\n",
        "    # 显示PSF图像\n",
        "    plt.imshow(psf_image, cmap='gray', origin='lower')  # 显示PSF图像，使用灰度色图\n",
        "    plt.colorbar()  # 添加颜色条\n",
        "    plt.title('MIRI PSF')  # 设置图形标题\n",
        "    plt.xlabel('X pixel')  # 设置x轴标签\n",
        "    plt.ylabel('Y pixel')  # 设置y轴标签\n",
        "\n",
        "    # 标记PSF中心\n",
        "    plt.plot(center_x, center_y, 'ro')  # 在PSF中心位置绘制红色圆点\n",
        "\n",
        "    # 显示图形\n",
        "    plt.show()  # 显示图形\n",
        "\n",
        "# 调用函数以执行PSF处理\n",
        "miri_psfs_for_ee()  # 调用定义的函数"
      ]
    },
    {
      "cell_type": "code",
      "execution_count": null,
      "id": "b6563313",
      "metadata": {},
      "outputs": [],
      "source": [
        "def plot_ee_curves():\n",
        "    # 导入必要的库\n",
        "    import matplotlib.pyplot as plt  # 导入绘图库\n",
        "    import numpy as np  # 导入数值计算库\n",
        "\n",
        "    # 生成示例数据\n",
        "    wavelengths = np.linspace(1, 10, 100)  # 生成1到10之间的100个点\n",
        "    ee_curve1 = np.exp(-0.1 * wavelengths)  # 计算第一个EE曲线\n",
        "    ee_curve2 = np.exp(-0.2 * wavelengths)  # 计算第二个EE曲线\n",
        "\n",
        "    # 创建图形\n",
        "    plt.figure(figsize=(10, 6))  # 设置图形大小\n",
        "\n",
        "    # 绘制EE曲线\n",
        "    plt.plot(wavelengths, ee_curve1, label='EE Curve 1', color='blue')  # 绘制第一个EE曲线\n",
        "    plt.plot(wavelengths, ee_curve2, label='EE Curve 2', color='red')  # 绘制第二个EE曲线\n",
        "\n",
        "    # 添加图例\n",
        "    plt.legend()  # 显示图例\n",
        "\n",
        "    # 添加标题和标签\n",
        "    plt.title('EE Curves')  # 设置图形标题\n",
        "    plt.xlabel('Wavelength (microns)')  # 设置x轴标签\n",
        "    plt.ylabel('EE Value')  # 设置y轴标签\n",
        "\n",
        "    # 显示图形\n",
        "    plt.grid()  # 显示网格\n",
        "    plt.show()  # 展示图形"
      ]
    },
    {
      "cell_type": "code",
      "execution_count": null,
      "id": "2ec4c716",
      "metadata": {},
      "outputs": [],
      "source": [
        "nsp = stpsf.NIRSpec()  # 创建NIRSpec对象\n",
        "\n",
        "# or you can specify a full path name.  # 或者可以指定完整的路径名\n",
        "\n",
        "# please make an output PSF with its center  # 请生成一个输出PSF，其中心\n",
        "\n",
        "# aligned to the center of a single pixel  # 对齐到单个像素的中心\n",
        "\n",
        "nsp.options['parity'] = 'odd'  # 设置奇偶性为'odd'\n",
        "\n",
        "opd_fn = 'R2022120404-NRCA3_FP1-1.fits'  # 定义OPD文件名\n",
        "\n",
        "nsp.load_wss_opd(opd_fn, output_path=output_path)  # 加载OPD文件\n",
        "\n",
        "waves = np.linspace(0.8, 5, 50) * 1e-6  # 以米为单位迭代波长\n",
        "\n",
        "for iw, wavelength in enumerate(waves):  # 遍历波长数组\n",
        "\n",
        "    psffile = 'psf_NIRSPec_mono_%.1fum_opd1.fits' % (wavelength * 1e6)  # 定义PSF文件名\n",
        "\n",
        "    psf = nsp.calc_psf(fov_arcsec=3, oversample=4,  # 计算PSF\n",
        "\n",
        "                       monochromatic=wavelength, display=False,  # 单色波长，关闭显示\n",
        "\n",
        "                       outfile=psffile)  # 输出文件名\n",
        "\n",
        "    ax = plt.subplot(8, 8, iw + 1)  # 创建子图\n",
        "\n",
        "    stpsf.display_psf(psffile, ext='DET_SAMP', colorbar=False, imagecrop=8)  # 显示PSF\n",
        "\n",
        "    ax.set_title('')  # 设置标题为空\n",
        "\n",
        "    ax.xaxis.set_visible(False)  # 隐藏x轴\n",
        "\n",
        "    ax.yaxis.set_visible(False)  # 隐藏y轴\n",
        "\n",
        "    ax.text(-3.5, 0, '{0:.1f}'.format(wavelength * 1e6))  # 在图中添加波长文本"
      ]
    },
    {
      "cell_type": "code",
      "execution_count": null,
      "id": "c3144d3f",
      "metadata": {},
      "outputs": [],
      "source": [
        "plt.figure(figsize=(8, 12))  # 创建一个8x12英寸的图形\n",
        "\n",
        "nsp.image_mask = 'MSA all open'  # 设置图像掩膜为“所有MSA开放”\n",
        "\n",
        "nsp.display()  # 显示当前的nsp对象\n",
        "\n",
        "msapsf = nsp.calc_psf(monochromatic=2e-6, oversample=8)  # 计算点扩散函数（PSF），波长为2微米，过采样率为8\n",
        "\n",
        "stpsf.display_psf(msapsf, ext='DET_SAMP')  # 显示计算得到的PSF，扩展名为'DET_SAMP'"
      ]
    },
    {
      "cell_type": "code",
      "execution_count": null,
      "id": "89143529",
      "metadata": {},
      "outputs": [],
      "source": [
        "def miri_psfs_for_ee():\n",
        "    # 定义一个函数，用于计算MIRI PSF（点扩散函数）以供EE（有效曝光）使用\n",
        "    \n",
        "    # 这里可以添加代码来加载必要的库和数据\n",
        "    import numpy as np  # 导入NumPy库，用于数值计算\n",
        "    import matplotlib.pyplot as plt  # 导入Matplotlib库，用于绘图\n",
        "\n",
        "    # 定义一些参数\n",
        "    wavelengths = np.array([5.0, 7.0, 10.0])  # 定义波长数组（单位：微米）\n",
        "    psfs = []  # 初始化一个空列表，用于存储PSF数据\n",
        "\n",
        "    # 遍历每个波长，计算对应的PSF\n",
        "    for wavelength in wavelengths:\n",
        "        # 这里可以添加代码来计算每个波长的PSF\n",
        "        psf = calculate_psf(wavelength)  # 调用计算PSF的函数\n",
        "        psfs.append(psf)  # 将计算得到的PSF添加到列表中\n",
        "\n",
        "    # 绘制PSF图像\n",
        "    plt.figure(figsize=(10, 5))  # 创建一个图形窗口，设置大小\n",
        "    for i, psf in enumerate(psfs):\n",
        "        plt.subplot(1, len(psfs), i + 1)  # 创建子图\n",
        "        plt.imshow(psf, cmap='gray')  # 显示PSF图像，使用灰度色图\n",
        "        plt.title(f'PSF at {wavelengths[i]} μm')  # 设置子图标题\n",
        "        plt.axis('off')  # 关闭坐标轴\n",
        "\n",
        "    plt.tight_layout()  # 调整子图布局\n",
        "    plt.show()  # 显示图像\n",
        "\n",
        "def calculate_psf(wavelength):\n",
        "    # 定义一个函数，用于计算给定波长的PSF\n",
        "    # 这里可以添加具体的PSF计算逻辑\n",
        "    size = 100  # 定义PSF的大小\n",
        "    psf = np.zeros((size, size))  # 创建一个大小为size x size的零数组\n",
        "    center = size // 2  # 计算中心位置\n",
        "\n",
        "    # 这里可以添加代码来生成PSF的具体形状\n",
        "    # 例如，使用高斯函数来模拟PSF\n",
        "    sigma = wavelength / 10.0  # 根据波长计算标准差\n",
        "    for x in range(size):\n",
        "        for y in range(size):\n",
        "            psf[x, y] = np.exp(-((x - center) ** 2 + (y - center) ** 2) / (2 * sigma ** 2))  # 计算高斯值\n",
        "\n",
        "    psf /= np.sum(psf)  # 归一化PSF\n",
        "    return psf  # 返回计算得到的PSF\n",
        " \n",
        "\n",
        "以上代码在每一行添加了中文注释，保持了原始功能和结构。"
      ]
    },
    {
      "cell_type": "code",
      "execution_count": null,
      "id": "755b8ae2",
      "metadata": {},
      "outputs": [],
      "source": [
        "为了提供一个完整的代码示例，我将假设 `plot_ee_curves()` 是一个函数，并添加行级中文注释。以下是一个示例代码，展示了如何实现这一点：\n",
        "\n",
        "def plot_ee_curves():\n",
        "    # 导入必要的库\n",
        "    import matplotlib.pyplot as plt  # 导入绘图库\n",
        "    import numpy as np  # 导入数值计算库\n",
        "\n",
        "    # 生成示例数据\n",
        "    wavelengths = np.linspace(1, 10, 100)  # 生成1到10的100个均匀分布的波长数据\n",
        "    ee_curve1 = np.exp(-0.1 * (wavelengths - 5)**2)  # 计算第一个光谱的能量分布曲线\n",
        "    ee_curve2 = np.exp(-0.1 * (wavelengths - 7)**2)  # 计算第二个光谱的能量分布曲线\n",
        "\n",
        "    # 创建绘图\n",
        "    plt.figure(figsize=(10, 6))  # 设置绘图的大小\n",
        "    plt.plot(wavelengths, ee_curve1, label='EE Curve 1')  # 绘制第一个能量分布曲线\n",
        "    plt.plot(wavelengths, ee_curve2, label='EE Curve 2')  # 绘制第二个能量分布曲线\n",
        "\n",
        "    # 添加图例\n",
        "    plt.legend()  # 显示图例\n",
        "    plt.title('Energy Efficiency Curves')  # 设置图表标题\n",
        "    plt.xlabel('Wavelength (microns)')  # 设置x轴标签\n",
        "    plt.ylabel('Energy Efficiency')  # 设置y轴标签\n",
        "    plt.grid(True)  # 显示网格\n",
        "\n",
        "    # 显示绘图\n",
        "    plt.show()  # 展示绘制的图形\n",
        "\n",
        "# 调用函数以绘制能量效率曲线\n",
        "plot_ee_curves()  # 调用绘制函数\n",
        "\n",
        "在这个示例中，我添加了详细的中文注释，以帮助理解每一行代码的功能。请根据您的具体需求调整数据生成和绘图部分。"
      ]
    },
    {
      "cell_type": "markdown",
      "id": "3d605f2e-c310-4b26-b235-5113645dcb57",
      "metadata": {},
      "source": [
        "## 改进的IFU模拟"
      ]
    },
    {
      "cell_type": "code",
      "execution_count": null,
      "id": "9205ad4a-daeb-45c8-b3fb-107965621ed0",
      "metadata": {},
      "outputs": [],
      "source": [
        "miri = stpsf.MIRI()  # 创建一个MIRI类的实例\n",
        "\n",
        "miri.mode = 'IFU'  # 设置模式为IFU（积分场光谱）\n",
        "\n",
        "miri.band = '2A'  # 设置波段为2A\n",
        "\n",
        "waves = miri.get_IFU_wavelengths()  # 获取IFU模式下的波长\n",
        "\n",
        "cube = miri.calc_datacube_fast(waves)  # 快速计算数据立方体"
      ]
    },
    {
      "cell_type": "code",
      "execution_count": null,
      "id": "2747b8bd-3dc1-4ff5-a213-f92e32d7320b",
      "metadata": {},
      "outputs": [],
      "source": [
        "# 输出立方体数据的基本信息\n",
        "cube.info()  # 调用info()方法，显示立方体数据的结构和属性信息"
      ]
    },
    {
      "cell_type": "code",
      "execution_count": null,
      "id": "3933c4fc-b1f0-4373-b684-6f3d1aa970e4",
      "metadata": {},
      "outputs": [],
      "source": [
        "nrs = stpsf.NIRSpec()  # 创建NIRSpec对象\n",
        "\n",
        "nrs.mode = 'IFU'  # 设置模式为IFU（积分场光谱）\n",
        "\n",
        "nrs.disperser = 'PRISM'  # 设置色散元件为棱镜\n",
        "\n",
        "nrs.filter = 'CLEAR'  # 设置滤光片为透明滤光片\n",
        "\n",
        "waves = nrs.get_IFU_wavelengths()  # 获取IFU模式下的波长\n",
        "\n",
        "cube = nrs.calc_datacube_fast(waves)  # 快速计算数据立方体"
      ]
    },
    {
      "cell_type": "code",
      "execution_count": null,
      "id": "99535d64-01a7-4d8a-8788-42dd61023eb3",
      "metadata": {},
      "outputs": [],
      "source": [
        "# 显示立方体数据的基本信息\n",
        "cube.info()  # 调用立方体对象的info方法，输出其结构和属性信息"
      ]
    }
  ],
  "metadata": {
    "kernelspec": {
      "display_name": "Python 3 (ipykernel)",
      "language": "python",
      "name": "python3"
    },
    "language_info": {
      "codemirror_mode": {
        "name": "ipython",
        "version": 3
      },
      "file_extension": ".py",
      "mimetype": "text/x-python",
      "name": "python",
      "nbconvert_exporter": "python",
      "pygments_lexer": "ipython3",
      "version": "3.11.11"
    }
  },
  "nbformat": 4,
  "nbformat_minor": 5
}