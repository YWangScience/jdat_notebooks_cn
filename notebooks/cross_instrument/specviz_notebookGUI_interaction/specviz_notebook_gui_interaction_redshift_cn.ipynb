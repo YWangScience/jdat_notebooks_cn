{
  "cells": [
    {
      "cell_type": "markdown",
      "metadata": {},
      "source": [
        "# Specviz 简单演示"
      ]
    },
    {
      "cell_type": "markdown",
      "metadata": {},
      "source": [
        "**用例：** 本笔记本演示了如何在Specviz中检查光谱，如何从笔记本的GUI中导出光谱，如何在GUI和笔记本中选择区域，以及如何在GUI中测量源的红移（redshift）。<br>\n",
        "\n",
        "**数据：** 来自[NGDEEP调查](https://ui.adsabs.harvard.edu/abs/2023arXiv230205466B/abstract)的NIRISS 1D光谱。该数据集直接从经过默认JWST管道处理的MAST获取。<br>\n",
        "\n",
        "**工具：** specutils, jdaviz。<br>\n",
        "\n",
        "**跨仪器：** 所有仪器。<br>\n",
        "\n",
        "**文档：** 本笔记本是STScI更大[后处理数据分析工具生态系统](https://jwst-docs.stsci.edu/jwst-post-pipeline-data-analysis)的一部分。<br>"
      ]
    },
    {
      "cell_type": "markdown",
      "metadata": {},
      "source": [
        "**更新于**: 2023/10/11"
      ]
    },
    {
      "cell_type": "code",
      "execution_count": null,
      "metadata": {
        "scrolled": true
      },
      "outputs": [],
      "source": [
        "# 使用浏览器窗口的100%\n",
        "\n",
        "from IPython.display import display, HTML  # 导入显示和HTML模块\n",
        "\n",
        "# 设置容器宽度为100%\n",
        "display(HTML(\"<style>.container { width:100% !important; }</style>\"))  # 显示HTML样式"
      ]
    },
    {
      "cell_type": "markdown",
      "metadata": {},
      "source": [
        "导入：\n",
        "\n",
        "- matplotlib 用于绘制数据\n",
        "\n",
        "- astropy 用于处理 FITS 文件、单位和表格\n",
        "\n",
        "- specutils 用于与 Specviz 的交互以及区域定义/提取\n",
        "\n",
        "- jdaviz 用于可视化工具 Specviz"
      ]
    },
    {
      "cell_type": "code",
      "execution_count": null,
      "metadata": {
        "scrolled": true
      },
      "outputs": [],
      "source": [
        "# 绘图和表格处理\n",
        "\n",
        "import matplotlib.pyplot as plt  # 导入绘图库\n",
        "\n",
        "# 导入astropy库\n",
        "\n",
        "import astropy  # 导入astropy库\n",
        "\n",
        "import astropy.units as u  # 导入单位模块\n",
        "\n",
        "from astropy.io import fits  # 从astropy.io导入fits模块，用于处理FITS文件\n",
        "\n",
        "from astropy.nddata import StdDevUncertainty  # 从astropy.nddata导入标准偏差不确定性类\n",
        "\n",
        "from astropy.table import QTable  # 从astropy.table导入QTable类，用于处理表格数据\n",
        "\n",
        "# 导入specutils库\n",
        "\n",
        "import specutils  # 导入specutils库\n",
        "\n",
        "from specutils import Spectrum1D, SpectralRegion  # 从specutils导入Spectrum1D和SpectralRegion类\n",
        "\n",
        "from specutils.manipulation import extract_region  # 从specutils.manipulation导入提取区域的函数\n",
        "\n",
        "# 导入viztools库\n",
        "\n",
        "import jdaviz  # 导入jdaviz库\n",
        "\n",
        "from jdaviz import Specviz  # 从jdaviz导入Specviz类，用于可视化光谱数据"
      ]
    },
    {
      "cell_type": "code",
      "execution_count": null,
      "metadata": {},
      "outputs": [],
      "source": [
        "# 自定义matplotlib样式\n",
        "\n",
        "plt.rcParams[\"figure.figsize\"] = (10, 5)  # 设置图形的默认大小为10x5英寸\n",
        "\n",
        "params = {\n",
        "    'legend.fontsize': '18',  # 设置图例字体大小为18\n",
        "    'axes.labelsize': '18',    # 设置坐标轴标签字体大小为18\n",
        "    'axes.titlesize': '18',    # 设置坐标轴标题字体大小为18\n",
        "    'xtick.labelsize': '18',    # 设置x轴刻度标签字体大小为18\n",
        "    'ytick.labelsize': '18',    # 设置y轴刻度标签字体大小为18\n",
        "    'lines.linewidth': 2,       # 设置线条宽度为2\n",
        "    'axes.linewidth': 2,        # 设置坐标轴线宽度为2\n",
        "    'animation.html': 'html5',  # 设置动画输出格式为html5\n",
        "    'figure.figsize': (8, 6)    # 设置图形的默认大小为8x6英寸\n",
        "}\n",
        "\n",
        "plt.rcParams.update(params)  # 更新matplotlib的配置参数\n",
        "\n",
        "plt.rcParams.update({'figure.max_open_warning': 0})  # 禁用最大打开图形警告"
      ]
    },
    {
      "cell_type": "markdown",
      "metadata": {},
      "source": [
        "检查版本"
      ]
    },
    {
      "cell_type": "code",
      "execution_count": null,
      "metadata": {
        "scrolled": true
      },
      "outputs": [],
      "source": [
        "# 打印 astropy 库的版本\n",
        "print('astropy:', astropy.__version__)\n",
        "\n",
        "# 打印 specutils 库的版本\n",
        "print('specutils:', specutils.__version__)\n",
        "\n",
        "# 打印 jdaviz 库的版本\n",
        "print('jdaviz:', jdaviz.__version__)"
      ]
    },
    {
      "cell_type": "markdown",
      "metadata": {},
      "source": [
        "## 1. 加载NIRISS管道输出\n",
        "\n",
        "JWST/NIRISS数据存储在box上。我们使用x1d文件，该文件包含所有提取的1D光谱。"
      ]
    },
    {
      "cell_type": "code",
      "execution_count": null,
      "metadata": {
        "scrolled": true
      },
      "outputs": [],
      "source": [
        "# 定义JWST数据文件的链接\n",
        "filelink = 'https://data.science.stsci.edu/redirect/JWST/jwst-data_analysis_tools/specviz_notebook_gui_interaction/jw02079004002_11101_00001_nis_x1d.fits'\n",
        "\n",
        "# 使用fits模块打开FITS文件\n",
        "hdu = fits.open(filelink)\n",
        "\n",
        "# 打印HDU列表的信息\n",
        "hdu.info()"
      ]
    },
    {
      "cell_type": "markdown",
      "metadata": {},
      "source": [
        "## 2. 打开Specviz并加载我们感兴趣的1D光谱"
      ]
    },
    {
      "cell_type": "code",
      "execution_count": null,
      "metadata": {},
      "outputs": [],
      "source": [
        "viz = Specviz()  # 创建一个Specviz对象，用于可视化光谱数据\n",
        "\n",
        "viz.show()  # 显示光谱可视化界面"
      ]
    },
    {
      "cell_type": "markdown",
      "metadata": {},
      "source": [
        "以下单元打开x1d文件的一个扩展（75），创建一个Spectrum1D对象，并将其加载到Specviz中。设置了一个掩膜，仅保留在F150W滤光片中具有良好灵敏度的光谱部分（1.34到1.66微米）。"
      ]
    },
    {
      "cell_type": "code",
      "execution_count": null,
      "metadata": {
        "scrolled": true
      },
      "outputs": [],
      "source": [
        "for i in range(74, 75):  # 遍历指定范围的索引\n",
        "\n",
        "    spec_load = hdu[i+1].data  # 从HDU中加载数据\n",
        "\n",
        "    wave = spec_load['WAVELENGTH']  # 获取波长数据\n",
        "\n",
        "    flux = spec_load['FLUX']  # 获取光通量数据\n",
        "\n",
        "    error = spec_load['FLUX_ERROR']  # 获取光通量误差数据\n",
        "\n",
        "    # 掩蔽波段内灵敏度较差的部分\n",
        "    mask = ((wave > 1.34) & (wave < 1.66))  # 创建掩蔽掩码\n",
        "\n",
        "    # 创建一维光谱对象，应用掩蔽\n",
        "    spec1d = Spectrum1D(spectral_axis=wave[mask]*u.um,  # 设置光谱轴为掩蔽后的波长\n",
        "                        flux=flux[mask]*u.Jy,  # 设置光通量为掩蔽后的光通量\n",
        "                        uncertainty=StdDevUncertainty(error[mask]*u.Jy))  # 设置光通量的不确定性\n",
        "\n",
        "    viz.load_data(spec1d, \"NIRISS 1D {}\".format(str(i+1)))  # 将数据加载到可视化工具中"
      ]
    },
    {
      "cell_type": "markdown",
      "metadata": {},
      "source": [
        "## 3. 使用GUI和笔记本选择发射线\n",
        "\n",
        "我选择了大约从1.58到1.63微米的发射线区域。\n",
        "\n",
        "指令: [https://jdaviz.readthedocs.io/en/latest/specviz/displaying.html#defining-spectral-regions](https://jdaviz.readthedocs.io/en/latest/specviz/displaying.html#defining-spectral-regions)"
      ]
    },
    {
      "cell_type": "markdown",
      "metadata": {},
      "source": [
        "### 查看此 SpecViz 实例中使用的数据"
      ]
    },
    {
      "cell_type": "code",
      "execution_count": null,
      "metadata": {},
      "outputs": [],
      "source": [
        "dataout = viz.get_spectra(apply_slider_redshift=False)  # 获取光谱数据，不应用红移滑块\n",
        "\n",
        "spec1d_line = dataout[\"NIRISS 1D 75\"]  # 从数据中提取NIRISS 1D 75光谱"
      ]
    },
    {
      "cell_type": "code",
      "execution_count": null,
      "metadata": {},
      "outputs": [],
      "source": [
        "# 打印变量spec1d_line的内容\n",
        "print(spec1d_line)"
      ]
    },
    {
      "cell_type": "markdown",
      "metadata": {},
      "source": [
        "### 查看在GUI中定义的子集\n",
        "\n",
        "我包含了一个try-except语句，以防在没有人工交互的情况下运行笔记本。"
      ]
    },
    {
      "cell_type": "code",
      "execution_count": null,
      "metadata": {
        "scrolled": true
      },
      "outputs": [],
      "source": [
        "try:\n",
        "    # 获取光谱区域\n",
        "    region = viz.get_spectral_regions()\n",
        "\n",
        "    # 打印子集1的区域信息\n",
        "    print(region['Subset 1'])\n",
        "\n",
        "except KeyError:\n",
        "    # 如果没有在GUI中定义区域，则打印错误信息\n",
        "    print(\"No region defined in the GUI\")"
      ]
    },
    {
      "cell_type": "markdown",
      "metadata": {},
      "source": [
        "### 以编程方式选择相同区域\n",
        "\n",
        "我可以在任意边界之间定义自己的区域（cont_region）。我选择1.598微米（um）和1.621微米（um）。然后，我可以提取该区域内的光谱。"
      ]
    },
    {
      "cell_type": "code",
      "execution_count": null,
      "metadata": {
        "scrolled": true
      },
      "outputs": [],
      "source": [
        "# 定义一个光谱区域，范围从1.598微米到1.621微米\n",
        "cont_region = SpectralRegion(1.598*u.um, 1.621*u.um)\n",
        "\n",
        "# 从光谱数据中提取指定的光谱区域\n",
        "spec1d_el_code = extract_region(spec1d_line, cont_region)\n",
        "\n",
        "# 打印提取的光谱区域数据\n",
        "print(spec1d_el_code)"
      ]
    },
    {
      "cell_type": "markdown",
      "metadata": {},
      "source": [
        "或者，我可以提取我在图形用户界面（GUI）中定义的区域（region['Subset 1']）中的光谱。"
      ]
    },
    {
      "cell_type": "code",
      "execution_count": null,
      "metadata": {
        "scrolled": true
      },
      "outputs": [],
      "source": [
        "try:\n",
        "\n",
        "    # 从spec1d_line中提取Subset 1区域的数据\n",
        "    spec1d_el_viz = extract_region(spec1d_line, region['Subset 1'])\n",
        "\n",
        "    # 打印提取的光谱数据\n",
        "    print(spec1d_el_viz)\n",
        "\n",
        "except KeyError:\n",
        "\n",
        "    # 如果在GUI中未定义区域，则打印错误信息\n",
        "    print(\"Region was not defined in the GUI\")\n",
        "\n",
        "    # 将spec1d_el_viz定义为spec1d_el_code\n",
        "    spec1d_el_viz = spec1d_el_code"
      ]
    },
    {
      "cell_type": "markdown",
      "metadata": {},
      "source": [
        "### 使用matplotlib绘制光谱及其子集"
      ]
    },
    {
      "cell_type": "code",
      "execution_count": null,
      "metadata": {},
      "outputs": [],
      "source": [
        "plt.plot(spec1d_line.spectral_axis, spec1d_line.flux, label='data')  # 绘制数据的光谱轴和通量\n",
        "\n",
        "plt.plot(spec1d_el_viz.spectral_axis, spec1d_el_viz.flux, label='subset defined in tool')  # 绘制工具定义的子集的光谱轴和通量\n",
        "\n",
        "plt.plot(spec1d_el_code.spectral_axis, spec1d_el_code.flux, label='subset defined in code')  # 绘制代码定义的子集的光谱轴和通量\n",
        "\n",
        "plt.legend()  # 显示图例\n",
        "\n",
        "plt.xlabel(\"wavelength ({:latex})\".format(spec1d_line.spectral_axis.unit))  # 设置x轴标签为波长，单位为光谱轴的单位\n",
        "\n",
        "plt.ylabel(\"flux ({:latex})\".format(spec1d_line.flux.unit))  # 设置y轴标签为通量，单位为通量的单位\n",
        "\n",
        "plt.title(\"NIRISS ID 75\")  # 设置图表标题\n",
        "\n",
        "plt.show()  # 显示图表"
      ]
    },
    {
      "cell_type": "markdown",
      "metadata": {},
      "source": [
        "## 4. 在Specviz中使用红移滑块查找红移"
      ]
    },
    {
      "cell_type": "markdown",
      "metadata": {},
      "source": [
        "我首先打开一个新的Specviz实例，这样就不需要频繁上下滚动了。"
      ]
    },
    {
      "cell_type": "code",
      "execution_count": null,
      "metadata": {},
      "outputs": [],
      "source": [
        "viz2 = Specviz()  # 创建一个Specviz对象，用于可视化光谱数据\n",
        "\n",
        "viz2.show()  # 显示Specviz界面"
      ]
    },
    {
      "cell_type": "markdown",
      "metadata": {},
      "source": [
        "我加载了仅有趣的光谱（spec1d_line）。"
      ]
    },
    {
      "cell_type": "code",
      "execution_count": null,
      "metadata": {},
      "outputs": [],
      "source": [
        "# 加载NIRISS 1D光谱线数据\n",
        "viz2.load_data(spec1d_line, \"NIRISS 1D lines\")"
      ]
    },
    {
      "cell_type": "markdown",
      "metadata": {},
      "source": [
        "我可以使用现有的谱线列表或定义我自己的谱线（我知道我需要 Hb4861.3 和 [OIII]4958.9,5006.8 双线），并通过调整红移滑块来将谱线列表中的谱线与光谱中的谱线匹配。谱线列表插件可以通过点击查看器右上角的插件图标找到。要输入仅这三条谱线，我可以使用“自定义”菜单。\n",
        "\n",
        "以下是解释谱线列表的文档： [https://jdaviz.readthedocs.io/en/latest/specviz/plugins.html#line-lists](https://jdaviz.readthedocs.io/en/latest/specviz/plugins.html#line-lists)\n",
        "\n",
        "我还可以通过编程方式定义感兴趣的谱线，如下方的单元格所示。"
      ]
    },
    {
      "cell_type": "code",
      "execution_count": null,
      "metadata": {},
      "outputs": [],
      "source": [
        "lt = QTable()  # 创建一个空的QTable对象\n",
        "\n",
        "lt['linename'] = ['Hb', '[OIII]1', '[OIII]2']  # 添加谱线名称\n",
        "\n",
        "lt['rest'] = [4861.3, 4958.9, 5006.8]*u.AA  # 添加谱线的静止波长，并指定单位为Ångström\n",
        "\n",
        "viz2.load_line_list(lt)  # 加载谱线列表到viz2对象中"
      ]
    },
    {
      "cell_type": "markdown",
      "metadata": {},
      "source": [
        "这些线条现在没有显示，因为它们的静止值超出了此处绘制的范围。我可以使用线列表插件中的红移滑块来移动这些线条。最好先在数字框中将红移设置为2，然后移动滑块以将线条放置在观测到的发射线之上。"
      ]
    },
    {
      "cell_type": "markdown",
      "metadata": {},
      "source": [
        "### 从Spectrum1D对象中获取红移（redshift）"
      ]
    },
    {
      "cell_type": "code",
      "execution_count": null,
      "metadata": {},
      "outputs": [],
      "source": [
        "# 获取应用红移滑块后的NIRISS 1D光谱数据\n",
        "spec1d_redshift = viz2.get_spectra(apply_slider_redshift=True)[\"NIRISS 1D lines\"]\n",
        "\n",
        "# 打印获取的光谱数据\n",
        "print(spec1d_redshift)\n",
        "\n",
        "# 打印空行以增加可读性\n",
        "print()\n",
        "\n",
        "# 检查光谱的红移值是否为0.0\n",
        "if spec1d_redshift.redshift != 0.0:\n",
        "    # 如果红移不为0.0，打印红移值\n",
        "    print(\"NIRISS 1D lines redshift=\", spec1d_redshift.redshift)\n",
        "else:\n",
        "    # 如果红移未在GUI中定义，则在此处定义红移\n",
        "    print(\"Redshift was not defined in GUI. Defining it here.\")\n",
        "    # 设置光谱的红移为2.2138\n",
        "    spec1d_redshift.set_redshift_to(2.2138)\n",
        "    # 打印设置后的红移值\n",
        "    print(\"NIRISS 1D lines redshift=\", spec1d_redshift.redshift)"
      ]
    },
    {
      "cell_type": "markdown",
      "metadata": {},
      "source": [
        "## 5. 对光谱的连续谱进行建模"
      ]
    },
    {
      "cell_type": "markdown",
      "metadata": {},
      "source": [
        "我打开了另一个 Specviz 实例，并加载了之前使用的相同光谱。"
      ]
    },
    {
      "cell_type": "code",
      "execution_count": null,
      "metadata": {},
      "outputs": [],
      "source": [
        "viz3 = Specviz()  # 创建一个Specviz对象，用于可视化光谱数据\n",
        "\n",
        "viz3.show()  # 显示Specviz窗口"
      ]
    },
    {
      "cell_type": "code",
      "execution_count": null,
      "metadata": {},
      "outputs": [],
      "source": [
        "# 加载NIRISS 1D光谱数据\n",
        "viz3.load_data(spec1d_line, \"NIRISS 1D lines\")"
      ]
    },
    {
      "cell_type": "markdown",
      "metadata": {},
      "source": [
        "我可以使用图形用户界面（GUI）选择我看到的连续区域。_挑战_：选择一个不连续的子集，覆盖两个区间（1.35-1.55微米和1.63-1.65微米）。_提示_：在子集下拉菜单附近的顶部选择“添加”。"
      ]
    },
    {
      "cell_type": "markdown",
      "metadata": {},
      "source": [
        "我可以在插件图标下使用模型拟合插件来对选定区域拟合线性模型。具体说明可以在这里找到：https://jdaviz.readthedocs.io/en/latest/specviz/plugins.html#model-fitting。完成此任务的具体步骤如下：\n",
        "\n",
        "- 在数据下选择子集 1\n",
        "\n",
        "- 在模型下选择 Linear1D\n",
        "\n",
        "- 点击添加模型\n",
        "\n",
        "- 在模型标签下输入模型名称（我选择“continuum”）\n",
        "\n",
        "- 点击拟合"
      ]
    },
    {
      "cell_type": "markdown",
      "metadata": {},
      "source": [
        "我可以从正在使用的数据集中提取模型及其参数。"
      ]
    },
    {
      "cell_type": "code",
      "execution_count": null,
      "metadata": {},
      "outputs": [],
      "source": [
        "try:\n",
        "\n",
        "    dataout3 = viz3.get_spectra()  # 获取光谱数据\n",
        "\n",
        "    spectrum = dataout3[\"NIRISS 1D lines\"]  # 获取NIRISS 1D光谱线数据，与之前加载的spec1d_lines相同\n",
        "\n",
        "    continuum = dataout3[\"continuum\"]  # 获取连续谱数据\n",
        "\n",
        "    model_param = viz3.get_model_parameters()  # 获取模型参数\n",
        "\n",
        "    print(continuum)  # 打印连续谱数据\n",
        "\n",
        "    print(model_param['continuum'])  # 打印模型中的连续谱参数\n",
        "\n",
        "except KeyError:  # 捕获键错误异常\n",
        "\n",
        "    print(\"Continuum has not been created. Setting it to 0\")  # 输出错误信息，表示连续谱未创建，设置为0\n",
        "\n",
        "    continuum = Spectrum1D(spectral_axis=spectrum.spectral_axis, flux=0.*spectrum.flux)  # 创建一个零值的连续谱"
      ]
    },
    {
      "cell_type": "markdown",
      "metadata": {},
      "source": [
        "我可以进行连续体减法并使用matplotlib绘制结果。如果在图形用户界面（GUI）中未定义连续体，这个操作将返回未更改的原始光谱。"
      ]
    },
    {
      "cell_type": "code",
      "execution_count": null,
      "metadata": {},
      "outputs": [],
      "source": [
        "spectrum_sub = spectrum - continuum  # 从光谱中减去连续背景，得到去除背景的光谱"
      ]
    },
    {
      "cell_type": "code",
      "execution_count": null,
      "metadata": {},
      "outputs": [],
      "source": [
        "plt.plot(spectrum_sub.spectral_axis, spectrum_sub.flux)  # 绘制光谱数据，x轴为光谱轴，y轴为通量\n",
        "\n",
        "plt.hlines(0, 1.3, 1.7, color='black')  # 在y=0的位置绘制水平线，范围从1.3到1.7\n",
        "\n",
        "plt.xlabel(\"wavelength ({:latex})\".format(spectrum_sub.spectral_axis.unit))  # 设置x轴标签，显示波长单位\n",
        "\n",
        "plt.ylabel(\"flux ({:latex})\".format(spectrum_sub.flux.unit))  # 设置y轴标签，显示通量单位\n",
        "\n",
        "plt.title(\"NIRISS ID 75\")  # 设置图表标题\n",
        "\n",
        "plt.show()  # 显示绘制的图表"
      ]
    },
    {
      "cell_type": "markdown",
      "metadata": {},
      "source": [
        "<img style=\"float: right;\" src=\"https://raw.githubusercontent.com/spacetelescope/notebooks/master/assets/stsci_pri_combo_mark_horizonal_white_bkgd.png\" alt=\"空间望远镜标志\" width=\"200px\"/>"
      ]
    }
  ],
  "metadata": {
    "kernelspec": {
      "display_name": "Python 3 (ipykernel)",
      "language": "python",
      "name": "python3"
    },
    "language_info": {
      "codemirror_mode": {
        "name": "ipython",
        "version": 3
      },
      "file_extension": ".py",
      "mimetype": "text/x-python",
      "name": "python",
      "nbconvert_exporter": "python",
      "pygments_lexer": "ipython3",
      "version": "3.11.6"
    }
  },
  "nbformat": 4,
  "nbformat_minor": 4
}