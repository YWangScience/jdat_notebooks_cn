{
 "cells": [
  {
   "cell_type": "markdown",
   "id": "035a23fd",
   "metadata": {},
   "source": [
    "# 使用Imviz创建RGB图像\n",
    "\n",
    "**用例**：以编程方式使用Imviz创建RGB图像。<br>\n",
    "\n",
    "**数据**：卡里纳星云，NIRCam观测数据<br>\n",
    "\n",
    "**工具**：jdaviz<br>\n",
    "\n",
    "**跨仪器**：任何成像仪<br>\n",
    "\n",
    "**文档**：此笔记本是STScI更大[后处理数据分析工具生态系统](https://jwst-docs.stsci.edu/jwst-post-pipeline-data-analysis)的一部分。<br>\n",
    "\n",
    "有关更多资源，请查看我们在Jdaviz库中维护的完整示例笔记本：https://github.com/spacetelescope/jdaviz/tree/main/notebooks"
   ]
  },
  {
   "cell_type": "markdown",
   "id": "884e8432",
   "metadata": {},
   "source": [
    "导入本笔记本所需的模块："
   ]
  },
  {
   "cell_type": "code",
   "execution_count": null,
   "id": "8f2d1e37",
   "metadata": {},
   "outputs": [],
   "source": [
    "import warnings  # 导入警告模块，用于处理警告信息\n",
    "\n",
    "from astroquery.mast import Observations  # 从astroquery库导入Observations模块，用于查询JWST观测数据\n",
    "\n",
    "from jdaviz import Imviz  # 从jdaviz库导入Imviz模块，用于图像可视化\n",
    "\n",
    "from IPython.display import Image  # 从IPython.display库导入Image模块，用于在Jupyter Notebook中显示图像"
   ]
  },
  {
   "cell_type": "markdown",
   "id": "aaf960cd",
   "metadata": {},
   "source": [
    "## 下载图像并加载 Imviz\n",
    "\n",
    "我们创建一个 Imviz 实例，并获取默认的查看器实例："
   ]
  },
  {
   "cell_type": "code",
   "execution_count": null,
   "id": "409eedc4",
   "metadata": {},
   "outputs": [],
   "source": [
    "imviz = Imviz()  # 创建一个Imviz对象，用于可视化JWST数据"
   ]
  },
  {
   "cell_type": "markdown",
   "id": "3a332f61",
   "metadata": {},
   "source": [
    "让我们下载一些数据。图像相当大，下载将需要几分钟。"
   ]
  },
  {
   "cell_type": "code",
   "execution_count": null,
   "id": "7bddbc18",
   "metadata": {},
   "outputs": [],
   "source": [
    "data_dir = '.'  # 设置数据目录为当前目录\n",
    "\n",
    "files = ['jw02731-o001_t017_nircam_clear-f090w_i2d.fits',  # NIRCam清晰图像文件列表\n",
    "         'jw02731-o001_t017_nircam_clear-f187n_i2d.fits',\n",
    "         'jw02731-o001_t017_nircam_clear-f200w_i2d.fits',\n",
    "         'jw02731-o001_t017_nircam_clear-f335m_i2d.fits',\n",
    "         'jw02731-o001_t017_nircam_clear-f444w_i2d.fits',\n",
    "         'jw02731-o001_t017_nircam_f444w-f470n_i2d.fits']  # 结束文件列表\n",
    "\n",
    "for fn in files:  # 遍历每个文件名\n",
    "    uri = f\"mast:JWST/product/{fn}\"  # 构建文件的URI\n",
    "\n",
    "    result = Observations.download_file(uri, local_path=f'{data_dir}/{fn}')  # 下载文件到指定路径"
   ]
  },
  {
   "cell_type": "markdown",
   "id": "e6108b52",
   "metadata": {},
   "source": [
    "并加载到 Imviz 中。"
   ]
  },
  {
   "cell_type": "code",
   "execution_count": null,
   "id": "1135ef74",
   "metadata": {},
   "outputs": [],
   "source": [
    "import warnings  # 导入警告模块\n",
    "\n",
    "with warnings.catch_warnings():  # 捕获警告\n",
    "    warnings.simplefilter('ignore')  # 忽略所有警告\n",
    "\n",
    "    with imviz.batch_load():  # 批量加载数据\n",
    "        for fn in files:  # 遍历文件列表\n",
    "            imviz.load_data(f'{data_dir}/{fn}', data_label=fn[31:36])  # 加载数据并设置数据标签"
   ]
  },
  {
   "cell_type": "markdown",
   "id": "8a4b2e1a",
   "metadata": {},
   "source": [
    "现在，我们可以展示 Imviz。"
   ]
  },
  {
   "cell_type": "code",
   "execution_count": null,
   "id": "48830cc8-997f-4ec7-b278-21e6685ec7cd",
   "metadata": {},
   "outputs": [],
   "source": [
    "# 调用imviz模块的show()函数以显示图像\n",
    "imviz.show()  # 显示图像"
   ]
  },
  {
   "cell_type": "markdown",
   "id": "88b7129e",
   "metadata": {},
   "source": [
    "## 通过WCS对齐\n",
    "\n",
    "https://jdaviz.readthedocs.io/en/latest/imviz/plugins.html#orientation\n",
    "\n",
    "您可能首先注意到的是，图像并没有占据整个查看器区域。如果您按下“b”键切换到下一幅图像，您会看到这幅图像默认是正确缩放的。另一幅图像的奇怪默认缩放是因为加载时图像是按像素链接的。我们可以改为通过WCS（世界坐标）进行链接，以便图像能够正确对齐。"
   ]
  },
  {
   "cell_type": "markdown",
   "id": "341145e7-e595-4a58-aab8-0e1e24c19c3d",
   "metadata": {},
   "source": [
    "在Imviz中有两种链接方式。首先，您可以通过“方向”（Orientation）插件在用户界面（UI）中选择“WCS”来进行链接。您可以打开右侧的插件托盘并搜索“方向”，或者执行以下单元格以自动打开它："
   ]
  },
  {
   "cell_type": "raw",
   "id": "19216180-6a20-44cd-a384-981431eb6a3f",
   "metadata": {},
   "source": [
    "imviz.plugins['Orientation'].open_in_tray()"
   ]
  },
  {
   "cell_type": "markdown",
   "id": "75367551",
   "metadata": {},
   "source": [
    "您还可以使用 Imviz Helper 从 API 设置链接类型："
   ]
  },
  {
   "cell_type": "code",
   "execution_count": null,
   "id": "f7c9f085",
   "metadata": {},
   "outputs": [],
   "source": [
    "# 通过WCS（世界坐标系统）链接图像（不使用仿射近似）。\n",
    "\n",
    "imviz.plugins['Orientation'].link_type = 'WCS'  # 设置链接类型为WCS\n",
    "\n",
    "imviz.plugins['Orientation'].wcs_use_affine = False  # 禁用仿射近似"
   ]
  },
  {
   "cell_type": "markdown",
   "id": "c9e777a4",
   "metadata": {},
   "source": [
    "现在，如果你眨眼，图像应该已经对齐。"
   ]
  },
  {
   "cell_type": "markdown",
   "id": "280cb7c7",
   "metadata": {},
   "source": [
    "## 绘图选项\n",
    "\n",
    "绘图选项插件允许您修改图像的显示方式。在这里，我们演示如何使用它来创建RGB图像。"
   ]
  },
  {
   "cell_type": "markdown",
   "id": "ca62dbf5",
   "metadata": {},
   "source": [
    "要显示绘图选项插件，可以在插件栏中搜索，或者执行以下单元格以自动打开它："
   ]
  },
  {
   "cell_type": "code",
   "execution_count": null,
   "id": "6706967c",
   "metadata": {},
   "outputs": [],
   "source": [
    "# 获取 imviz 插件中的 'Plot Options' 选项\n",
    "plot_options = imviz.plugins['Plot Options']"
   ]
  },
  {
   "cell_type": "markdown",
   "id": "a02ea0f6-6101-46f1-a777-2469245fe124",
   "metadata": {},
   "source": [
    "我们可以使用“分配 RGB 预设”（Assign RGB Preset）按钮，该按钮可以在用户界面中触发，也可以通过以下单元触发。"
   ]
  },
  {
   "cell_type": "code",
   "execution_count": null,
   "id": "d9f2aea4-3828-421f-bdaa-cc428a7c8e6b",
   "metadata": {},
   "outputs": [],
   "source": [
    "# 设置图像颜色模式为每层一个颜色\n",
    "plot_options.image_color_mode = 'One color per layer'\n",
    "\n",
    "# 应用RGB预设选项\n",
    "plot_options.apply_RGB_presets()"
   ]
  },
  {
   "cell_type": "markdown",
   "id": "6bce2a65-953e-436f-b6dc-e81b749cd840",
   "metadata": {},
   "source": [
    "我们只需要调整拉伸的最小值和最大值！"
   ]
  },
  {
   "cell_type": "code",
   "execution_count": null,
   "id": "04482b8f-89ad-4770-8a4c-9325a72ffbaa",
   "metadata": {},
   "outputs": [],
   "source": [
    "# 设置图层为 f090w 数据\n",
    "plot_options.layer = 'f090w[DATA]'  \n",
    "\n",
    "# 设置图像的最小拉伸值\n",
    "plot_options.stretch_vmin = 4  \n",
    "\n",
    "# 设置图像的最大拉伸值\n",
    "plot_options.stretch_vmax = 16  \n",
    "\n",
    "# 设置图像的偏置值\n",
    "plot_options.image_bias = 0.39  \n",
    "\n",
    "# 设置图层为 f187n 数据\n",
    "plot_options.layer = 'f187n[DATA]'  \n",
    "\n",
    "# 设置图像的最小拉伸值\n",
    "plot_options.stretch_vmin = 10  \n",
    "\n",
    "# 设置图像的最大拉伸值\n",
    "plot_options.stretch_vmax = 16  \n",
    "\n",
    "# 设置图像的偏置值\n",
    "plot_options.image_bias = 0.74  \n",
    "\n",
    "# 设置图层为 f200w 数据\n",
    "plot_options.layer = 'f200w[DATA]'  \n",
    "\n",
    "# 设置图像的最小拉伸值\n",
    "plot_options.stretch_vmin = 1  \n",
    "\n",
    "# 设置图像的最大拉伸值\n",
    "plot_options.stretch_vmax = 5  \n",
    "\n",
    "# 设置图像的偏置值\n",
    "plot_options.image_bias = 0.66  \n",
    "\n",
    "# 设置图层为 f335m 数据\n",
    "plot_options.layer = 'f335m[DATA]'  \n",
    "\n",
    "# 设置图像的最小拉伸值\n",
    "plot_options.stretch_vmin = 4  \n",
    "\n",
    "# 设置图像的最大拉伸值\n",
    "plot_options.stretch_vmax = 27  \n",
    "\n",
    "# 设置图像的偏置值\n",
    "plot_options.image_bias = 0.67  \n",
    "\n",
    "# 设置图层为 f444w 数据\n",
    "plot_options.layer = 'f444w[DATA]'  \n",
    "\n",
    "# 设置图像的最小拉伸值\n",
    "plot_options.stretch_vmin = 1  \n",
    "\n",
    "# 设置图像的最大拉伸值\n",
    "plot_options.stretch_vmax = 14  \n",
    "\n",
    "# 设置图像的偏置值\n",
    "plot_options.image_bias = 0.56  \n",
    "\n",
    "# 设置图层为 f470n 数据\n",
    "plot_options.layer = 'f470n[DATA]'  \n",
    "\n",
    "# 设置图像的最小拉伸值\n",
    "plot_options.stretch_vmin = 1  \n",
    "\n",
    "# 设置图像的最大拉伸值\n",
    "plot_options.stretch_vmax = 6  \n",
    "\n",
    "# 设置图像的偏置值\n",
    "plot_options.image_bias = 0.60"
   ]
  },
  {
   "cell_type": "markdown",
   "id": "9d7821fd-2073-4d1b-8e97-64c46f2e074d",
   "metadata": {},
   "source": [
    "让我们导出刚刚制作的图像。这是一个占位符，用于在插件中导出时获取正确的路径。"
   ]
  },
  {
   "cell_type": "raw",
   "id": "d5266616-c257-4f93-b9d1-11185e0c5fee",
   "metadata": {},
   "source": [
    "exportimg = imviz.plugins['Export Plot']\n",
    "exportimg.viewer = 'imviz-0'\n",
    "exportimg.filename = 'carina_rgb_preset.png'\n",
    "exportimg.export()"
   ]
  },
  {
   "cell_type": "markdown",
   "id": "ca450e99-04e2-4e08-bbb7-45f6b98843f5",
   "metadata": {},
   "source": [
    "我们现在可以使用 astrowidget API。"
   ]
  },
  {
   "cell_type": "code",
   "execution_count": null,
   "id": "8193c79d-ae58-469b-a3b0-6ac3497dbb8b",
   "metadata": {},
   "outputs": [],
   "source": [
    "viewer = imviz.default_viewer  # 获取默认的图像查看器\n",
    "\n",
    "viewer.save('./carina.png')  # 将当前视图保存为carina.png文件"
   ]
  },
  {
   "cell_type": "code",
   "execution_count": null,
   "id": "501ac813-a160-4180-b3e4-6f03eae3addb",
   "metadata": {},
   "outputs": [],
   "source": [
    "# 导入Image模块，用于显示图像\n",
    "Image('./carina.png')  # 加载并显示名为'carina.png'的图像"
   ]
  },
  {
   "cell_type": "markdown",
   "id": "95de69d3",
   "metadata": {},
   "source": [
    "<img style=\"float: right;\" src=\"https://raw.githubusercontent.com/spacetelescope/notebooks/master/assets/stsci_pri_combo_mark_horizonal_white_bkgd.png\" alt=\"太空望远镜标志\" width=\"200px\"/>"
   ]
  },
  {
   "cell_type": "markdown",
   "id": "c08db0ba",
   "metadata": {},
   "source": [
    "由Kyle Conroy创建，并由Duy Nguyen和Camilla Pacifici改编的笔记本。"
   ]
  }
 ],
 "metadata": {
  "kernelspec": {
   "display_name": "Python 3 (ipykernel)",
   "language": "python",
   "name": "python3"
  },
  "language_info": {
   "codemirror_mode": {
    "name": "ipython",
    "version": 3
   },
   "file_extension": ".py",
   "mimetype": "text/x-python",
   "name": "python",
   "nbconvert_exporter": "python",
   "pygments_lexer": "ipython3",
   "version": "3.9.7"
  }
 },
 "nbformat": 4,
 "nbformat_minor": 5
}