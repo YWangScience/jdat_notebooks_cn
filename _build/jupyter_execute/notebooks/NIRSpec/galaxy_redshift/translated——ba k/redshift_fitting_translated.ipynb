{
 "cells": [
  {
   "cell_type": "markdown",
   "id": "e5f5559e-f4b3-4118-b3ec-930b787faad9",
   "metadata": {},
   "source": [
    "# 红移和模板拟合\n",
    "\n",
    "###CELL###"
   ]
  },
  {
   "cell_type": "markdown",
   "id": "e6c242e1",
   "metadata": {},
   "source": [
    "本笔记本涵盖了一些基本示例，展示用户如何使用可视化工具 [Jdaviz](https://jdaviz.readthedocs.io/en/latest/) 或通过编程方式使用 [Specutils](https://specutils.readthedocs.io/en/latest/) 来测量源的红移。\n",
    "\n",
    "**使用案例：** 使用两种不同的方法从其光谱中测量一个星系的红移。\n",
    "\n",
    "**数据：** JWST/NIRSpec 来自项目 2736 的光谱。\n",
    "\n",
    "**工具：** jdaviz, specutils。\n",
    "\n",
    "**跨仪器：** NIRISS, NIRCam。\n",
    "\n",
    "**内容**\n",
    "\n",
    "- [资源和文档](#resources)\n",
    "\n",
    "- [安装](#installation)\n",
    "\n",
    "- [导入](#imports)\n",
    "\n",
    "- [获取示例数据](#data)\n",
    "\n",
    "- [用 Specviz “肉眼” 测量红移](#byeye)\n",
    "\n",
    "- [使用交叉相关方法测量红移](#crosscorr)\n",
    "\n",
    "    - [获取模板并为使用做准备](#get_template)\n",
    "\n",
    "    - [从观测光谱中减去连续谱](#continuum)\n",
    "\n",
    "    - [清理光谱](#cleanup)\n",
    "\n",
    "    - [运行交叉相关函数](#run_crosscorr)\n",
    "\n",
    "**作者**：Camilla Pacifici (cpacifici@stsci.edu)<br>\n",
    "\n",
    "**更新日期**：2024年11月18日"
   ]
  },
  {
   "cell_type": "markdown",
   "id": "9ae98afa",
   "metadata": {},
   "source": [
    "<a id='resources'></a>\n",
    "\n",
    "## 资源和文档\n",
    "\n",
    "本笔记本使用了来自 [Specutils](https://specutils.readthedocs.io/en/stable/) 和 [Jdaviz](https://jdaviz.readthedocs.io/en/latest/) 的功能。空间望远镜科学研究所的开发人员可通过 [JWST Help Desk](https://jwsthelp.stsci.edu/) 解答问题并解决问题。如果您希望发送反馈或报告问题，您也可以直接在 Github 上提交问题，适用于 [Specutils](https://github.com/astropy/specutils) 和 [Jdaviz](https://github.com/spacetelescope/jdaviz)。\n",
    "\n",
    "###CELL###"
   ]
  },
  {
   "cell_type": "markdown",
   "id": "95a0cf36",
   "metadata": {},
   "source": [
    "<a id='installation'></a>\n",
    "\n",
    "## 安装\n",
    "\n",
    "本笔记本摘自 [JWebbinar 材料](https://www.stsci.edu/jwst/science-execution/jwebbinars)。\n",
    "\n",
    "要运行此笔记本，您需要创建一个包含 jdaviz 包的环境，按照以下指令操作。\n",
    "\n",
    "`conda create -n jdaviz python=3.11`  \n",
    "\n",
    "`conda activate jdaviz`  \n",
    "\n",
    "从最新版本安装  \n",
    "\n",
    "`pip install jdaviz`  \n",
    "\n",
    "或者通过 git 安装  \n",
    "\n",
    "`pip install git+https://github.com/spacetelescope/jdaviz.git`\n",
    "\n",
    "###CELL###"
   ]
  },
  {
   "cell_type": "markdown",
   "id": "1f2020d3",
   "metadata": {},
   "source": [
    "<a id='imports'></a>\n",
    "\n",
    "## 导入\n",
    "\n",
    "###CELL###"
   ]
  },
  {
   "cell_type": "code",
   "execution_count": null,
   "id": "45a3ae5e",
   "metadata": {},
   "outputs": [],
   "source": [
    "# 导入操作系统相关的临时文件处理库\n",
    "import tempfile\n",
    "\n",
    "# 导入numpy库，用于数值计算\n",
    "import numpy as np\n",
    "\n",
    "# 导入astroquery库中的Observations模块，用于获取天文观测数据\n",
    "from astroquery.mast import Observations\n",
    "\n",
    "# 导入jdaviz库，用于后续获取版本号\n",
    "import jdaviz\n",
    "# 导入Specviz模块，用于天文光谱可视化\n",
    "from jdaviz import Specviz\n",
    "\n",
    "# 导入astropy库，用于后续获取版本号\n",
    "import astropy\n",
    "# 导入astropy库的单位模块\n",
    "import astropy.units as u\n",
    "# 导入astropy库的ascii和fits模块，用于数据读取和文件操作\n",
    "from astropy.io import ascii, fits\n",
    "# 导入astropy库的数据下载模块\n",
    "from astropy.utils.data import download_file\n",
    "# 导入astropy库的模型模块，用于创建线性模型\n",
    "from astropy.modeling.models import Linear1D\n",
    "# 导入astropy库的标准偏差不确定性模块\n",
    "from astropy.nddata import StdDevUncertainty\n",
    "\n",
    "# 导入specutils库，用于后续获取版本号\n",
    "import specutils\n",
    "# 导入specutils库的Spectrum1D和SpectralRegion模块，用于光谱数据处理\n",
    "from specutils import Spectrum1D, SpectralRegion\n",
    "# 导入specutils库的拟合模块，用于光谱连续谱拟合\n",
    "from specutils.fitting import fit_generic_continuum\n",
    "# 导入specutils库的分析模块，用于光谱数据相关性分析\n",
    "from specutils.analysis import correlation\n",
    "# 导入specutils库的操作模块，用于光谱区域提取\n",
    "from specutils.manipulation import extract_region\n",
    "\n",
    "# 导入glue库的roi模块，用于定义光谱范围\n",
    "from glue.core.roi import XRangeROI\n",
    "\n",
    "# 导入matplotlib库的pyplot模块，用于绘图\n",
    "from matplotlib import pyplot as plt\n",
    "\n",
    "# 导入IPython的显示模块，用于在Jupyter环境中显示HTML内容\n",
    "from IPython.display import display, HTML"
   ]
  },
  {
   "cell_type": "code",
   "execution_count": null,
   "id": "57414a63",
   "metadata": {},
   "outputs": [],
   "source": [
    "# 自定义matplotlib样式\n",
    "\n",
    "# 设置默认的图形大小为10x5英寸\n",
    "plt.rcParams[\"figure.figsize\"] = (10, 5)\n",
    "\n",
    "# 定义一组新的参数来更新matplotlib的配置\n",
    "params = {'legend.fontsize': '18',  # 图例字体大小\n",
    "          'axes.labelsize': '18',  # 轴标签字体大小\n",
    "          'axes.titlesize': '18',  # 轴标题字体大小\n",
    "          'xtick.labelsize': '18',  # x轴刻度标签字体大小\n",
    "          'ytick.labelsize': '18',  # y轴刻度标签字体大小\n",
    "          'lines.linewidth': 2,     # 线条宽度\n",
    "          'axes.linewidth': 2,      # 轴线宽度\n",
    "          'animation.html': 'html5',  # 动画格式\n",
    "          'figure.figsize': (8, 6)}  # 图形大小为8x6英寸\n",
    "\n",
    "# 使用上面定义的参数更新matplotlib的配置\n",
    "plt.rcParams.update(params)\n",
    "\n",
    "# 更新配置，设置最大打开警告为0，避免打开过多图形时的警告\n",
    "plt.rcParams.update({'figure.max_open_warning': 0})\n",
    "\n",
    "# 这确保了我们的notebook使用浏览器的全部宽度\n",
    "display(HTML(\"<style>.container { width:100% !important; }</style>\"))\n",
    "\n",
    "###CELL###"
   ]
  },
  {
   "cell_type": "markdown",
   "id": "1fdb9a16",
   "metadata": {},
   "source": [
    "### 版本：\n",
    "\n",
    "###CELL###"
   ]
  },
  {
   "cell_type": "code",
   "execution_count": null,
   "id": "c36d248d",
   "metadata": {},
   "outputs": [],
   "source": [
    "# 打印 jdaviz 库的版本号\n",
    "print(\"jdaviz:\", jdaviz.__version__)\n",
    "\n",
    "# 打印 astropy 库的版本号\n",
    "print(\"astropy:\", astropy.__version__)\n",
    "\n",
    "# 打印 specutils 库的版本号\n",
    "print(\"specutils:\", specutils.__version__)\n",
    "\n",
    "###CELL###"
   ]
  },
  {
   "cell_type": "markdown",
   "id": "16081eb5",
   "metadata": {},
   "source": [
    "<a id='data'></a>\n",
    "\n",
    "## 获取示例数据\n",
    "\n",
    "在此我们从[早期发布观测数据](https://www.stsci.edu/jwst/science-execution/approved-programs/webb-first-image-observations)计划2736下载一个光谱，以及我们将用作红移测量模板的模型光谱。该模板基于[Pacifici et al. (2012)](https://ui.adsabs.harvard.edu/abs/2012MNRAS.421.2002P/abstract)中完成的包含发射线的简单恒星族群模型的组合。\n",
    "\n",
    "###CELL###"
   ]
  },
  {
   "cell_type": "code",
   "execution_count": null,
   "id": "55d54dd2",
   "metadata": {},
   "outputs": [],
   "source": [
    "# 选择机器上的特定目录或临时目录\n",
    "\n",
    "data_dir = tempfile.gettempdir()  # 使用系统的临时目录\n",
    "\n",
    "# 从MAST获取文件\n",
    "\n",
    "fn = \"jw02736-o007_s000009239_nirspec_f170lp-g235m_x1d.fits\"  # 定义文件名\n",
    "\n",
    "# 下载文件并保存到指定的本地路径\n",
    "result = Observations.download_file(f\"mast:JWST/product/{fn}\", local_path=f'{data_dir}/{fn}')\n",
    "\n",
    "# 下载模板文件\n",
    "fn_template = download_file('https://stsci.box.com/shared/static/3rkurzwl0l79j70ddemxafhpln7ljle7.dat', cache=True)  # 下载并缓存文件"
   ]
  },
  {
   "cell_type": "markdown",
   "id": "1415a59f",
   "metadata": {},
   "source": [
    "Jdaviz 默认读取表面亮度扩展（单位为 MJy/sr），但我更喜欢使用流量扩展（单位为 Jy）。我自己读取文件，创建了一个 Spectrum1D 对象。\n",
    "\n",
    "###CELL###"
   ]
  },
  {
   "cell_type": "code",
   "execution_count": null,
   "id": "4abd95d6",
   "metadata": {},
   "outputs": [],
   "source": [
    "# 使用astropy库打开FITS文件\n",
    "hdu = fits.open(f'{data_dir}/{fn}')\n",
    "\n",
    "# 从FITS文件的第二个HDU中读取波长数据，并赋予相应的单位\n",
    "wave = hdu[1].data['WAVELENGTH'] * u.Unit(hdu[1].header['TUNIT1'])\n",
    "\n",
    "# 从FITS文件的第二个HDU中读取流量数据，并赋予相应的单位\n",
    "flux = hdu[1].data['FLUX'] * u.Unit(hdu[1].header['TUNIT2'])\n",
    "\n",
    "# 由于FLUX_ERROR数据全为nan，这里定义一个人工的不确定性\n",
    "# std = hdu[1].data['FLUX_ERROR'] * u.Unit(hdu[1].header['TUNIT3']) # 这些都是nan，定义一个人工的不确定性\n",
    "\n",
    "# 创建一个Spectrum1D对象，包含波长、流量和不确定性\n",
    "fluxobs = Spectrum1D(spectral_axis=wave,\n",
    "                     flux=flux,\n",
    "                     uncertainty=StdDevUncertainty(0.1*flux))  # 使用流量的10%作为标准偏差的不确定性\n",
    "\n",
    "# 输出Spectrum1D对象\n",
    "fluxobs"
   ]
  },
  {
   "cell_type": "markdown",
   "id": "68fa01fc",
   "metadata": {},
   "source": [
    "<a id='byeye'></a>\n",
    "\n",
    "## 通过肉眼测量红移与 Specviz\n",
    "\n",
    "Specviz 将允许您将线波长与您在光谱中看到的发射线匹配。您可以使用 Line List 插件中的[红移滑块](https://jdaviz.readthedocs.io/en/latest/specviz/plugins.html#redshift-slider)来完成这一操作。但首先，让我们[在 Specviz 中打开光谱](https://jdaviz.readthedocs.io/en/latest/specviz/import_data.html)。\n",
    "\n",
    "###CELL###"
   ]
  },
  {
   "cell_type": "code",
   "execution_count": null,
   "id": "2dbeb862",
   "metadata": {},
   "outputs": [],
   "source": [
    "# Call the app\n",
    "\n",
    "viz = Specviz()  # 创建 Specviz 类的实例\n",
    "\n",
    "viz.show()  # 显示实例的视图\n",
    "\n",
    "###CELL###"
   ]
  },
  {
   "cell_type": "code",
   "execution_count": null,
   "id": "51224ebc",
   "metadata": {},
   "outputs": [],
   "source": [
    "# 加载光谱数据\n",
    "\n",
    "# viz.load_data(f'{data_dir}/{fn}', data_label=\"NIRSpec\") # 从文件直接加载表面亮度数据\n",
    "\n",
    "viz.load_data(fluxobs, data_label='NIRSpec')  # 从变量fluxobs加载数据，数据标签为'NIRSpec'\n",
    "\n",
    "###CELL###"
   ]
  },
  {
   "cell_type": "markdown",
   "id": "8b96dfda",
   "metadata": {},
   "source": [
    "现在我们需要：\n",
    "\n",
    "- 打开[\"线列表\"插件](https://jdaviz.readthedocs.io/en/latest/specviz/plugins.html?highlight=plugin#line-lists)\n",
    "\n",
    "<img src='./line_list.png' alt=\"线列表插件位于右侧菜单中\" width=\"500\"/>\n",
    "\n",
    "- 选择预加载的线或添加自定义线（这些线不会在查看器中显示，因为它们是在静止帧中绘制的）\n",
    "\n",
    "    - 提示：选择Ha和周围的NII线\n",
    "\n",
    "<img src='./select_list.png' alt=\"选择SDSS列表\" width=\"500\"/>\n",
    "\n",
    "<img src='./select_three_lines.png' alt=\"选择两条[NII]线和H alpha线\" width=\"500\"/>\n",
    "\n",
    "- 输入一个猜测的红移值\n",
    "\n",
    "<img src='./guess_redshift.png' alt=\"输入红移的猜测值（redshift=2.4）\" width=\"500\"/>\n",
    "\n",
    "- 移动滑块以获得更好的匹配\n",
    "\n",
    "<img src='./adjust_redshift_slider.png' alt=\"调整红移滑块以匹配光谱中的发射线\" width=\"500\"/>\n",
    "\n",
    "- 使用[缩放工具](https://jdaviz.readthedocs.io/en/latest/specviz/displaying.html#pan-zoom)获得更精确的匹配\n",
    "\n",
    "<img src='./precise_adjust_with_zoom.png' alt=\"使用缩放工具找到与发射线更好的匹配\" width=\"500\"/>"
   ]
  },
  {
   "cell_type": "markdown",
   "id": "79a5d1b3",
   "metadata": {},
   "source": [
    "<a id='crosscorr'></a>\n",
    "\n",
    "## 使用交叉相关法测量红移\n",
    "\n",
    "在天文学中，使用交叉相关算法来测量红移是非常常见的。IRAF在其[xcsao](http://tdc-www.harvard.edu/iraf/rvsao/xcsao/xcsao.html)任务中使用了这种方法。在这里，我们使用Specutils的[模板交叉相关](https://specutils.readthedocs.io/en/stable/analysis.html#template-cross-correlation)功能来推导我们源的红移。在运行相关算法之前，我们需要做几件事：\n",
    "\n",
    "- 获取用于相关的模板光谱\n",
    "\n",
    "- 从模板和观测光谱中减去连续谱\n",
    "\n",
    "- 确保光谱在波长上有一些重叠\n",
    "\n",
    "###CELL###"
   ]
  },
  {
   "cell_type": "markdown",
   "id": "53f4ab27",
   "metadata": {},
   "source": [
    "<a id='get_template'></a>\n",
    "\n",
    "### 获取模板并准备使用\n",
    "\n",
    "模板用于交叉相关，因此可以为了方便而重新标准化。单位必须与观测光谱的单位匹配。我们可以在 erg/(s cm^2 A) 中进行连续谱减法，因为连续谱接近线性，然后通过 Jdaviz 运行以获得适当的转换。\n",
    "\n",
    "###CELL###"
   ]
  },
  {
   "cell_type": "code",
   "execution_count": null,
   "id": "5d6e4beb",
   "metadata": {},
   "outputs": [],
   "source": [
    "# 定义单位\n",
    "spec_unit = u.erg / u.s / u.cm**2 / u.AA\n",
    "\n",
    "# 使用 ascii 函数读取光谱数据\n",
    "template = ascii.read(fn_template)\n",
    "\n",
    "# 创建 Spectrum1D 对象\n",
    "template = Spectrum1D(spectral_axis=template['col1']/1E4*u.um,  # 将第一列数据转换为微米单位\n",
    "                      flux=(template['col2']/1E24)*spec_unit)  # 将第二列数据进行归一化，以匹配观测光谱的单位"
   ]
  },
  {
   "cell_type": "code",
   "execution_count": null,
   "id": "8348a12e",
   "metadata": {},
   "outputs": [],
   "source": [
    "# Cut to useful range - template and obs MUST overlap, so we go to 2.4um.\n",
    "\n",
    "# 定义一个布尔数组，用于筛选波长范围在0.45到2.4微米之间的模板数据\n",
    "use_tmp = (template.spectral_axis.value > 0.45) & (template.spectral_axis.value < 2.4)\n",
    "\n",
    "# 使用筛选后的布尔数组来裁剪模板的光谱轴和通量数据\n",
    "template_cut = Spectrum1D(spectral_axis=template.spectral_axis[use_tmp], flux=template.flux[use_tmp])\n",
    "\n",
    "###CELL###"
   ]
  },
  {
   "cell_type": "code",
   "execution_count": null,
   "id": "ae483af5",
   "metadata": {},
   "outputs": [],
   "source": [
    "# 导入matplotlib.pyplot模块用于绘图\n",
    "import matplotlib.pyplot as plt\n",
    "\n",
    "# 创建一个图形窗口，并设置大小为10x6英寸\n",
    "plt.figure(figsize=[10, 6])\n",
    "\n",
    "# 绘制光谱数据，横坐标为波长，纵坐标为流量\n",
    "plt.plot(template_cut.spectral_axis, template_cut.flux)\n",
    "\n",
    "# 设置x轴标签，显示波长单位\n",
    "plt.xlabel(\"wavelength ({:latex})\".format(template_cut.spectral_axis.unit))\n",
    "\n",
    "# 设置y轴标签，显示流量单位\n",
    "plt.ylabel(\"flux ({:latex})\".format(template_cut.flux.unit))\n",
    "\n",
    "# 设置图形的标题为\"Template\"\n",
    "plt.title(\"Template\")\n",
    "\n",
    "# 显示图形\n",
    "plt.show()"
   ]
  },
  {
   "cell_type": "markdown",
   "id": "f8488711",
   "metadata": {},
   "source": [
    "此图显示了模板光谱（流量与波长关系），波长范围扩展到2.4微米，以便与观测光谱有一些波长重叠。\n",
    "\n",
    "###CELL###"
   ]
  },
  {
   "cell_type": "code",
   "execution_count": null,
   "id": "a1488f36",
   "metadata": {},
   "outputs": [],
   "source": [
    "# 导入连续谱减法所需的库\n",
    "from astropy.modeling.models import Linear1D\n",
    "from specutils import Spectrum1D, fit_generic_continuum\n",
    "import matplotlib.pyplot as plt\n",
    "\n",
    "# 创建一个掩码以选择特定波长范围的数据\n",
    "mask_temp = ((template_cut.spectral_axis.value > 0.70) & (template_cut.spectral_axis.value < 2.40))\n",
    "\n",
    "# 使用掩码创建一个新的Spectrum1D对象，仅包含用于连续谱拟合的数据\n",
    "template_forcont = Spectrum1D(spectral_axis=template_cut.spectral_axis[mask_temp], flux=template_cut.flux[mask_temp])\n",
    "\n",
    "# 使用fit_generic_continuum函数拟合连续谱，这里使用线性模型\n",
    "fit_temp = fit_generic_continuum(template_forcont, model=Linear1D())\n",
    "\n",
    "# 使用拟合的连续谱模型计算整个波长范围的连续谱\n",
    "cont_temp = fit_temp(template_cut.spectral_axis)\n",
    "\n",
    "# 从原始光谱中减去拟合的连续谱，得到连续谱被减去后的光谱\n",
    "template_sub = template_cut - cont_temp\n",
    "\n",
    "# 创建一个图形窗口，设置大小为10x6英寸\n",
    "plt.figure(figsize=[10, 6])\n",
    "\n",
    "# 绘制原始光谱和连续谱\n",
    "plt.plot(template_cut.spectral_axis, template_cut.flux, label='Original Spectrum')\n",
    "plt.plot(template_cut.spectral_axis, cont_temp, label='Fitted Continuum')\n",
    "\n",
    "# 设置x轴和y轴的标签，使用光谱的单位\n",
    "plt.xlabel(\"wavelength ({:latex})\".format(template_sub.spectral_axis.unit))\n",
    "plt.ylabel(\"flux ({:latex})\".format(template_sub.flux.unit))\n",
    "\n",
    "# 设置图形的标题\n",
    "plt.title(\"Plot template and continuum\")\n",
    "\n",
    "# 显示图例\n",
    "plt.legend()\n",
    "\n",
    "# 显示图形\n",
    "plt.show()"
   ]
  },
  {
   "cell_type": "markdown",
   "id": "c0def8ed",
   "metadata": {},
   "source": [
    "### CELL ###\n",
    "图表显示了模板光谱和最佳拟合连续谱。"
   ]
  },
  {
   "cell_type": "code",
   "execution_count": null,
   "id": "4e8ad9cd",
   "metadata": {},
   "outputs": [],
   "source": [
    "# 打印 Spectrum1D 对象\n",
    "\n",
    "print(template_sub)  # 打印 Spectrum1D 类型的对象 template_sub\n",
    "\n",
    "###CELL###"
   ]
  },
  {
   "cell_type": "code",
   "execution_count": null,
   "id": "5c36de57",
   "metadata": {},
   "outputs": [],
   "source": [
    "# 导入matplotlib.pyplot模块用于绘图\n",
    "import matplotlib.pyplot as plt\n",
    "\n",
    "# 创建一个图形窗口，并设置大小为10x6英寸\n",
    "plt.figure(figsize=[10, 6])\n",
    "\n",
    "# 绘制光谱数据，横坐标为波长，纵坐标为流量\n",
    "plt.plot(template_sub.spectral_axis, template_sub.flux)\n",
    "\n",
    "# 设置x轴标签，显示波长单位\n",
    "plt.xlabel(\"wavelength ({:latex})\".format(template_sub.spectral_axis.unit))\n",
    "\n",
    "# 设置y轴标签，显示流量单位\n",
    "plt.ylabel(\"flux ({:latex})\".format(template_sub.flux.unit))\n",
    "\n",
    "# 设置图形标题为“Continuum subtracted template”\n",
    "plt.title(\"Continuum subtracted template\")\n",
    "\n",
    "# 显示图形\n",
    "plt.show()"
   ]
  },
  {
   "cell_type": "markdown",
   "id": "4921bc7a",
   "metadata": {},
   "source": [
    "此图展示了在减去拟合连续谱后的模板光谱（流量与波长）。\n",
    "\n",
    "###CELL###"
   ]
  },
  {
   "cell_type": "markdown",
   "id": "ddcef91f",
   "metadata": {},
   "source": [
    "<a id='continuum'></a>\n",
    "\n",
    "### 从观测光谱中减去连续谱\n",
    "\n",
    "我们可以采用不同的方法，并使用 [SpectralRegion](https://specutils.readthedocs.io/en/stable/spectral_regions.html) 来实现。如果观测光谱中未包含不确定性，我们还需要加入这一部分。\n",
    "\n",
    "###CELL###"
   ]
  },
  {
   "cell_type": "code",
   "execution_count": null,
   "id": "dc598e8a",
   "metadata": {},
   "outputs": [],
   "source": [
    "# 定义光谱区域\n",
    "region = SpectralRegion(2.0*u.um, 3.0*u.um)  # 创建一个从2.0微米到3.0微米的光谱区域\n",
    "\n",
    "# 提取区域\n",
    "spec1d_cont = extract_region(fluxobs, region)  # 从fluxobs中提取定义的光谱区域\n",
    "\n",
    "# 运行拟合函数\n",
    "fit_obs = fit_generic_continuum(spec1d_cont, model=Linear1D(5))  # 使用线性模型拟合光谱连续体\n",
    "\n",
    "# 应用到光谱轴\n",
    "cont_obs = fit_obs(fluxobs.spectral_axis)  # 使用拟合结果计算fluxobs的光谱轴上的连续体值\n",
    "\n",
    "# 减去连续体\n",
    "spec1d_sub = fluxobs - cont_obs  # 从原始光谱数据中减去连续体，得到去连续体后的光谱数据"
   ]
  },
  {
   "cell_type": "code",
   "execution_count": null,
   "id": "e8ae87d2",
   "metadata": {},
   "outputs": [],
   "source": [
    "# 导入matplotlib.pyplot库用于绘图\n",
    "import matplotlib.pyplot as plt\n",
    "\n",
    "# 创建一个图形窗口，设置大小为10x6英寸\n",
    "plt.figure(figsize=[10, 6])\n",
    "\n",
    "# 绘制一维光谱数据，横轴为波长，纵轴为流量\n",
    "plt.plot(spec1d_sub.spectral_axis, spec1d_sub.flux)\n",
    "\n",
    "# 设置x轴标签，显示波长单位\n",
    "plt.xlabel(\"wavelength ({:latex})\".format(spec1d_sub.spectral_axis.unit))\n",
    "\n",
    "# 设置y轴标签，显示流量单位\n",
    "plt.ylabel(\"flux ({:latex})\".format(spec1d_sub.flux.unit))\n",
    "\n",
    "# 设置图形标题\n",
    "plt.title(\"Continuum subtracted observed spectrum\")\n",
    "\n",
    "# 显示图形\n",
    "plt.show()"
   ]
  },
  {
   "cell_type": "markdown",
   "id": "e3dbeb0b",
   "metadata": {},
   "source": [
    "此图显示了减去拟合连续谱后观测到的光谱（通量与波长）。\n",
    "\n",
    "###CELL###"
   ]
  },
  {
   "cell_type": "markdown",
   "id": "aaefaef0",
   "metadata": {},
   "source": [
    "<a id='cleanup'></a>\n",
    "\n",
    "### 清理光谱\n",
    "\n",
    "最好去除可能看起来像发射/吸收线的伪迹，并且去除大的间隙。可以使用图形用户界面选择光谱的干净部分。如果不手动执行此操作，以下单元格将以编程方式处理。\n",
    "\n",
    "<img src='./select_region.png' alt=\"选择光谱的干净区域\" width=\"500\"/>\n",
    "\n",
    "###CELL###"
   ]
  },
  {
   "cell_type": "code",
   "execution_count": null,
   "id": "0cc51eb1",
   "metadata": {},
   "outputs": [],
   "source": [
    "viz2 = Specviz()  # 创建一个Specviz的实例，用于数据可视化\n",
    "\n",
    "viz2.load_data(spec1d_sub, data_label='spectrum continuum subtracted')  # 加载数据，数据标签为'spectrum continuum subtracted'\n",
    "\n",
    "viz2.show()  # 显示可视化界面"
   ]
  },
  {
   "cell_type": "code",
   "execution_count": null,
   "id": "d18548e9",
   "metadata": {},
   "outputs": [],
   "source": [
    "# 尝试获取特定区域的子集，如果手动未创建则捕获异常\n",
    "try:\n",
    "    # 从viz2对象获取指定标签和子集的光谱数据\n",
    "    region1 = viz2.get_spectra(data_label='spectrum continuum subtracted', subset_to_apply='Subset 1')\n",
    "    # 打印获取的区域数据\n",
    "    print(region1)\n",
    "    # 设置标志变量，表示区域存在\n",
    "    region1_exists = True\n",
    "except Exception:\n",
    "    # 如果出现异常，打印提示信息\n",
    "    print(\"There are no subsets selected.\")\n",
    "    # 设置标志变量，表示区域不存在\n",
    "    region1_exists = False\n",
    "\n",
    "# 如果指定的光谱区域不存在，则进行遮罩处理\n",
    "if region1_exists is False:\n",
    "    # 获取名为'spectrum-viewer'的视图对象\n",
    "    sv = viz2.app.get_viewer('spectrum-viewer')\n",
    "    # 清空当前选中的子集\n",
    "    sv.toolbar_active_subset.selected = []\n",
    "    # 应用一个区域兴趣（ROI），用于遮罩2.24到3.13范围内的数据\n",
    "    sv.apply_roi(XRangeROI(2.24, 3.13))"
   ]
  },
  {
   "cell_type": "code",
   "execution_count": null,
   "id": "987284bf",
   "metadata": {},
   "outputs": [],
   "source": [
    "# Get spectrum out with mask\n",
    "\n",
    "# 从viz2对象中获取光谱区域\n",
    "spec1d_region = viz2.get_spectral_regions()\n",
    "\n",
    "# 使用指定的区域（'Subset 1'）从spec1d_sub中提取遮罩后的光谱\n",
    "spec1d_masked = extract_region(spec1d_sub, spec1d_region['Subset 1'], return_single_spectrum=True)\n",
    "\n",
    "###CELL###"
   ]
  },
  {
   "cell_type": "markdown",
   "id": "783799c1",
   "metadata": {},
   "source": [
    "我们在一个新的Specviz实例中可视化观测到的和模板的连续谱减去背景的光谱。点击“Home”按钮查看整个波长范围。模板光谱将改变单位以匹配观测光谱。\n",
    "\n",
    "###CELL###"
   ]
  },
  {
   "cell_type": "code",
   "execution_count": null,
   "id": "d711c73e",
   "metadata": {},
   "outputs": [],
   "source": [
    "# 创建Specviz对象的实例\n",
    "viz3 = Specviz()\n",
    "\n",
    "# 加载带有掩码的一维光谱数据，并给这份数据命名为'observation'\n",
    "viz3.load_data(spec1d_masked, data_label='observation')\n",
    "\n",
    "# 加载模板子集数据，并给这份数据命名为'template'\n",
    "viz3.load_data(template_sub, data_label='template')\n",
    "\n",
    "# 显示可视化界面\n",
    "viz3.show()"
   ]
  },
  {
   "cell_type": "code",
   "execution_count": null,
   "id": "73ef283d",
   "metadata": {},
   "outputs": [],
   "source": [
    "# 从viz3模块获取数据，使用显示单位\n",
    "template_newunit = viz3.get_data('template', use_display_units=True)\n",
    "\n",
    "# 输出获取的数据\n",
    "template_newunit\n",
    "\n",
    "###CELL###"
   ]
  },
  {
   "cell_type": "markdown",
   "id": "8195cee8",
   "metadata": {},
   "source": [
    "<a id='run_crosscorr'></a>\n",
    "\n",
    "### 运行交叉相关函数\n",
    "\n",
    "###CELL###"
   ]
  },
  {
   "cell_type": "code",
   "execution_count": null,
   "id": "586e9e52",
   "metadata": {},
   "outputs": [],
   "source": [
    "# 调用函数计算模板相关性\n",
    "corr, lag = correlation.template_correlate(spec1d_masked, template_newunit, lag_units=u.one)\n",
    "\n",
    "# 绘制相关性图\n",
    "plt.plot(lag, corr)  # 绘制lag与corr的关系图\n",
    "\n",
    "plt.xlabel(\"Redshift\")  # 设置x轴标签为“Redshift”\n",
    "plt.ylabel(\"Correlation\")  # 设置y轴标签为“Correlation”\n",
    "\n",
    "plt.show()  # 显示图像"
   ]
  },
  {
   "cell_type": "markdown",
   "id": "57109477",
   "metadata": {},
   "source": [
    "此图显示了相关值与红移的关系。峰值（在红移2.5附近）表明观测到的光谱和模板光谱的相关性最佳的位置。\n",
    "\n",
    "###CELL###"
   ]
  },
  {
   "cell_type": "code",
   "execution_count": null,
   "id": "56659ed6",
   "metadata": {},
   "outputs": [],
   "source": [
    "import numpy as np  # 导入numpy库，用于数组和数学运算\n",
    "\n",
    "# 假设corr和lag是已经定义好的数组\n",
    "# corr是某种相关性数据的数组，lag是对应的滞后数组\n",
    "\n",
    "index_peak = np.argmax(corr)  # 找到corr数组中最大值的索引\n",
    "\n",
    "z = lag[index_peak]  # 使用找到的索引从lag数组中获取对应的值\n",
    "\n",
    "print(\"Redshift from peak maximum: \", z)  # 打印计算得到的红移值"
   ]
  },
  {
   "cell_type": "code",
   "execution_count": null,
   "id": "d3ab7b19",
   "metadata": {},
   "outputs": [],
   "source": [
    "# Redshifted template_sub\n",
    "\n",
    "# 创建一个新的Spectrum1D对象，其光谱轴经过红移调整，流量保持不变\n",
    "template_sub_z = Spectrum1D(spectral_axis=template_sub.spectral_axis * (1. + z),\n",
    "                            flux=template_sub.flux)\n",
    "\n",
    "###CELL###"
   ]
  },
  {
   "cell_type": "code",
   "execution_count": null,
   "id": "a6a1e6c0",
   "metadata": {},
   "outputs": [],
   "source": [
    "# 导入Specviz库用于数据可视化\n",
    "from jdaviz import Specviz\n",
    "\n",
    "# 创建Specviz的实例\n",
    "viz4 = Specviz()\n",
    "\n",
    "# 加载并标记观测到的光谱数据\n",
    "viz4.load_data(spec1d_masked, data_label='Observed spectrum')\n",
    "\n",
    "# 加载并标记经过红移处理的模板光谱数据\n",
    "viz4.load_data(template_sub_z, data_label='Redshifted best template')\n",
    "\n",
    "# 显示可视化界面\n",
    "viz4.show()"
   ]
  },
  {
   "cell_type": "markdown",
   "id": "7ee0a0eb",
   "metadata": {},
   "source": [
    "<img style=\"float: right;\" src=\"https://raw.githubusercontent.com/spacetelescope/notebooks/master/assets/stsci_pri_combo_mark_horizonal_white_bkgd.png\" alt=\"Space Telescope Logo\" width=\"200px\"/>\n",
    "\n",
    "###CELL###"
   ]
  }
 ],
 "metadata": {
  "kernelspec": {
   "display_name": "Python 3 (ipykernel)",
   "language": "python",
   "name": "python3"
  },
  "language_info": {
   "codemirror_mode": {
    "name": "ipython",
    "version": 3
   },
   "file_extension": ".py",
   "mimetype": "text/x-python",
   "name": "python",
   "nbconvert_exporter": "python",
   "pygments_lexer": "ipython3",
   "version": "3.12.8"
  }
 },
 "nbformat": 4,
 "nbformat_minor": 5
}