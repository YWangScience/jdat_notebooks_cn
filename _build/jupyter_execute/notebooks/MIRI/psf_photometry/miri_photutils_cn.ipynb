{
 "cells": [
  {
   "cell_type": "markdown",
   "id": "b58d6954",
   "metadata": {},
   "source": [
    "# MIRI PSF 光度测量与 Photutils\n",
    "\n",
    "**作者**: Ori Fox<br>\n",
    "\n",
    "**提交时间**: 2023年11月<br>\n",
    "\n",
    "**更新时间**: 2023年11月<br>\n",
    "\n",
    "**使用案例**: 使用 [Photutils](https://photutils.readthedocs.io/en/stable/) 进行 PSF 光度测量。此处的目的是展示在多种使用案例中使用 Photutils 的工作流程和运行时间。\n",
    "\n",
    "一般来说，来自空间望远镜的数据的 PSF 光度测量在预拼接数据上进行时最为准确。拼接过程会改变固有的 PSF，由于重采样和不同探测器位置及旋转下的 PSF 混合，导致其模糊。此外，针对拼接数据的准确理论 PSF 模型（例如，来自 [WebbPSF](https://webbpsf.readthedocs.io/en/latest/)）并不可用。虽然可以为拼接数据构建经验 PSF（例如，使用 Photutils 的 [ePSFBuilder](https://photutils.readthedocs.io/en/latest/epsf.html)），但结果通常不如在预拼接数据上进行 PSF 光度测量准确。\n",
    "\n",
    "**注意**: 还有一个伴随的笔记本，展示如何使用一个名为 space_phot 的新软件程序在 Level 2 和 Level 3 数据上执行 PSF 光度测量。<br>\n",
    "\n",
    "**数据**: MIRI 数据 PID 1028（校准程序；单星访问 006 A5V 矮星 2MASSJ17430448+6655015）和 MIRI 数据 PID 1171（LMC；多星）。<br>\n",
    "\n",
    "**工具**: photutils, webbpsf, jwst <br>\n",
    "\n",
    "**跨仪器**: MIRI<br>\n",
    "\n",
    "**文档**: 本笔记本是 STScI 更大 [后处理数据分析工具生态系统](https://jwst-docs.stsci.edu/jwst-post-pipeline-data-analysis) 的一部分，可以直接从 [JDAT Notebook Github 目录](https://github.com/spacetelescope/jdat_notebooks) [下载](https://github.com/spacetelescope/dat_pyinthesky/tree/main/jdat_notebooks/MRS_Mstar_analysis)。<br>"
   ]
  },
  {
   "cell_type": "markdown",
   "id": "88c61bcf-1c4d-407a-b80c-aa13a01fd746",
   "metadata": {
    "tags": []
   },
   "source": [
    "## 目录\n",
    "\n",
    "1. [引言](#intro)<br>\n",
    "\n",
    "    1.1 [Python 导入](#imports)<br>\n",
    "\n",
    "    1.2 [设置 WebbPSF 和 Synphot](#setup)<br>\n",
    "\n",
    "2. [下载 JWST MIRI 数据](#data)<br>\n",
    "\n",
    "3. [单一亮度对象](#bso)<br>\n",
    "\n",
    "    3.1 [单个 Level 2 文件](#bso2)<br>\n",
    "\n",
    "    3.2 [使用 WebbPSF 生成 MIRI F770W 的经验 PSF 网格](#bso3)<br>\n",
    "\n",
    "    3.3 [PSF 光度测量](#bso4)<br>\n",
    "\n",
    "4. [微弱/上限，单一对象](#fso)<br>\n",
    "\n",
    "    4.1 [多个 Level 2 文件](#fso2)<br>\n",
    "\n",
    "5. [恒星场 (LMC)](#lmc)<br>\n",
    "\n",
    "    5.1 [多个恒星，单个 Level 2 文件](#lmc2)<br>\n",
    "\n",
    "    5.2 [使用 WebbPSF 生成 MIRI F560W 的经验 PSF 网格](#grid2)<br>\n",
    "\n",
    "    5.3 [PSF 光度测量](#lmc3)<br>"
   ]
  },
  {
   "cell_type": "markdown",
   "id": "4f572688",
   "metadata": {},
   "source": [
    "# 1. 引言 <a class=\"anchor\" id=\"intro\"></a>"
   ]
  },
  {
   "cell_type": "markdown",
   "id": "95891849",
   "metadata": {},
   "source": [
    "**目标**：<br>\n",
    "\n",
    "使用来自WebbPSF的经验PSF模型网格，通过[Photutils PSF Photometry工具](https://photutils.readthedocs.io/en/latest/psf.html)对JWST MIRI图像进行PSF光度测量。\n",
    "\n",
    "该笔记本展示了如何：<br>\n",
    "\n",
    "* 从WebbPSF生成[经验PSF模型网格](https://webbpsf.readthedocs.io/en/latest/psf_grids.html)<br>\n",
    "\n",
    "* 使用[PSFPhotometry类](https://photutils.readthedocs.io/en/latest/api/photutils.psf.PSFPhotometry.html#photutils.psf.PSFPhotometry)对图像进行PSF光度测量<br>\n",
    "\n",
    "**数据**：<br>\n",
    "\n",
    "MIRI数据PID 1028（校准程序），F770W <br>\n",
    "\n",
    "MIRI数据PID 1171（大麦哲伦云），F560W/F770W"
   ]
  },
  {
   "cell_type": "markdown",
   "id": "5e534877-5c31-4020-9263-4f234f19e1cd",
   "metadata": {},
   "source": [
    "## 1.1 Python 导入 <a class=\"anchor\" id=\"imports\"></a>"
   ]
  },
  {
   "cell_type": "code",
   "execution_count": null,
   "id": "1ca81097-08d5-470c-942a-d8e7e8fd4479",
   "metadata": {},
   "outputs": [],
   "source": [
    "import glob  # 导入glob模块，用于文件路径操作\n",
    "\n",
    "import os  # 导入os模块，用于操作系统功能\n",
    "\n",
    "import shutil  # 导入shutil模块，用于文件和目录的高阶操作\n",
    "\n",
    "import tarfile  # 导入tarfile模块，用于处理tar归档文件\n",
    "\n",
    "from pandas import DataFrame  # 从pandas库导入DataFrame类，用于数据处理\n",
    "\n",
    "import matplotlib.pyplot as plt  # 导入matplotlib.pyplot模块，用于绘图\n",
    "\n",
    "import numpy as np  # 导入numpy库，用于数值计算\n",
    "\n",
    "import webbpsf  # 导入webbpsf库，用于JWST光学模拟\n",
    "\n",
    "from urllib.parse import urlparse  # 从urllib.parse模块导入urlparse函数，用于解析URL\n",
    "\n",
    "import requests  # 导入requests库，用于发送HTTP请求\n",
    "\n",
    "import astropy.units as u  # 导入astropy.units模块，用于单位处理\n",
    "\n",
    "from astropy.coordinates import SkyCoord  # 从astropy.coordinates模块导入SkyCoord类，用于天文坐标处理\n",
    "\n",
    "from astropy.io import fits  # 从astropy.io模块导入fits，用于处理FITS文件格式\n",
    "\n",
    "from astropy.nddata import extract_array  # 从astropy.nddata模块导入extract_array函数，用于数组提取\n",
    "\n",
    "from astropy.table import Table  # 从astropy.table模块导入Table类，用于表格数据处理\n",
    "\n",
    "from astropy.visualization import simple_norm  # 从astropy.visualization模块导入simple_norm函数，用于数据可视化\n",
    "\n",
    "from astroquery.mast import Observations  # 从astroquery.mast模块导入Observations类，用于查询MAST数据\n",
    "\n",
    "from jwst.datamodels import ImageModel  # 从jwst.datamodels模块导入ImageModel类，用于JWST图像数据模型\n",
    "\n",
    "from photutils.aperture import CircularAperture  # 从photutils.aperture模块导入CircularAperture类，用于圆形光圈\n",
    "\n",
    "from photutils.background import LocalBackground, MADStdBackgroundRMS, MMMBackground  # 从photutils.background模块导入背景处理类\n",
    "\n",
    "from photutils.detection import DAOStarFinder  # 从photutils.detection模块导入DAOStarFinder类，用于星点检测\n",
    "\n",
    "from photutils.psf import GriddedPSFModel, PSFPhotometry  # 从photutils.psf模块导入PSF模型和光度测量类"
   ]
  },
  {
   "cell_type": "markdown",
   "id": "5b762602",
   "metadata": {},
   "source": [
    "## 1.2 下载并设置WebbPSF和Synphot所需的数据 <a class=\"anchor\" id=\"setup\"></a>"
   ]
  },
  {
   "cell_type": "code",
   "execution_count": null,
   "id": "8c50eace",
   "metadata": {
    "tags": []
   },
   "outputs": [],
   "source": [
    "import os  # 导入操作系统模块\n",
    "import requests  # 导入请求模块\n",
    "import tarfile  # 导入tarfile模块用于处理tar文件\n",
    "from urllib.parse import urlparse  # 导入urlparse用于解析URL\n",
    "\n",
    "# 设置环境变量\n",
    "os.environ[\"WEBBPSF_PATH\"] = \"./webbpsf-data/webbpsf-data\"  # 设置WEBBPSF数据路径\n",
    "os.environ[\"PYSYN_CDBS\"] = \"./grp/redcat/trds/\"  # 设置PYSYN数据路径\n",
    "\n",
    "# 所需的webbpsf数据\n",
    "boxlink = 'https://stsci.box.com/shared/static/qxpiaxsjwo15ml6m4pkhtk36c9jgj70k.gz'  # webbpsf数据链接\n",
    "boxfile = './webbpsf-data/webbpsf-data-LATEST.tar.gz'  # 下载的webbpsf数据文件路径\n",
    "synphot_url = 'http://ssb.stsci.edu/trds/tarfiles/synphot5.tar.gz'  # synphot数据链接\n",
    "synphot_file = './synphot5.tar.gz'  # 下载的synphot数据文件路径\n",
    "\n",
    "webbpsf_folder = './webbpsf-data'  # webbpsf数据文件夹路径\n",
    "synphot_folder = './grp'  # synphot数据文件夹路径\n",
    "\n",
    "# 定义下载文件的函数\n",
    "def download_file(url, dest_path, timeout=60):\n",
    "    parsed_url = urlparse(url)  # 解析URL\n",
    "\n",
    "    if parsed_url.scheme not in [\"http\", \"https\"]:  # 检查URL协议是否支持\n",
    "        raise ValueError(f\"Unsupported URL scheme: {parsed_url.scheme}\")  # 抛出不支持的协议错误\n",
    "\n",
    "    response = requests.get(url, stream=True, timeout=timeout)  # 发送GET请求\n",
    "    response.raise_for_status()  # 检查请求是否成功\n",
    "    with open(dest_path, \"wb\") as f:  # 以二进制写入模式打开目标文件\n",
    "        for chunk in response.iter_content(chunk_size=8192):  # 分块读取内容\n",
    "            f.write(chunk)  # 写入文件\n",
    "\n",
    "# 收集webbpsf文件\n",
    "psfExist = os.path.exists(webbpsf_folder)  # 检查webbpsf文件夹是否存在\n",
    "\n",
    "if not psfExist:  # 如果文件夹不存在\n",
    "    os.makedirs(webbpsf_folder)  # 创建webbpsf文件夹\n",
    "    download_file(boxlink, boxfile)  # 下载webbpsf数据\n",
    "    gzf = tarfile.open(boxfile)  # 打开tar文件\n",
    "    gzf.extractall(webbpsf_folder)  # 解压到webbpsf文件夹\n",
    "\n",
    "# 收集synphot文件\n",
    "synExist = os.path.exists(synphot_folder)  # 检查synphot文件夹是否存在\n",
    "\n",
    "if not synExist:  # 如果文件夹不存在\n",
    "    os.makedirs(synphot_folder)  # 创建synphot文件夹\n",
    "    download_file(synphot_url, synphot_file)  # 下载synphot数据\n",
    "    gzf = tarfile.open(synphot_file)  # 打开tar文件\n",
    "    gzf.extractall('./')  # 解压到当前目录"
   ]
  },
  {
   "cell_type": "markdown",
   "id": "68f0b2d7-45a1-4511-858e-51425a50de00",
   "metadata": {},
   "source": [
    "# 2. 下载JWST MIRI数据 <a class=\"anchor\" id=\"data\"></a>"
   ]
  },
  {
   "cell_type": "code",
   "execution_count": null,
   "id": "e6629878-a5d4-4e29-a56e-0f12271016a5",
   "metadata": {},
   "outputs": [],
   "source": [
    "# 下载提案ID 1028的F770W数据\n",
    "\n",
    "# 定义源目录和目标目录\n",
    "source_dir = 'mastDownload/JWST/'  # 源目录路径\n",
    "destination_dir = 'mast/01028/'     # 目标目录路径\n",
    "\n",
    "# 检查目标目录是否已存在\n",
    "if os.path.isdir(destination_dir):\n",
    "    print(f'Data already downloaded to {os.path.abspath(destination_dir)}')  # 如果已存在，打印信息\n",
    "else:\n",
    "    # 查询MAST（太空望远镜档案库）数据库中提案ID为1028且使用F770W滤光片的观测数据\n",
    "    obs = Observations.query_criteria(proposal_id=1028, filters=['F770W'])\n",
    "\n",
    "    # 获取与找到的观测相关的产品列表\n",
    "    plist = Observations.get_product_list(obs)\n",
    "\n",
    "    # 过滤产品列表，仅包括特定的产品子组\n",
    "    fplist = Observations.filter_products(plist, productSubGroupDescription=['CAL', 'I2D', 'ASN'])\n",
    "\n",
    "    # 从MAST数据库下载选定的产品\n",
    "    Observations.download_products(fplist)\n",
    "\n",
    "    # 创建目标目录\n",
    "    os.makedirs(destination_dir)\n",
    "\n",
    "    # 使用glob查找所有匹配模式的文件\n",
    "    files_to_copy = glob.glob(os.path.join(source_dir, 'j*/jw01028*'))\n",
    "\n",
    "    # 将匹配的文件复制到目标目录\n",
    "    for file_path in files_to_copy:\n",
    "        shutil.copy(file_path, destination_dir)  # 复制文件"
   ]
  },
  {
   "cell_type": "code",
   "execution_count": null,
   "id": "b649b6f4-aa18-4760-a7d0-979b4e3caec2",
   "metadata": {},
   "outputs": [],
   "source": [
    "# 下载提案ID 1171的F550W和F770W数据\n",
    "\n",
    "# 定义源目录和目标目录\n",
    "source_dir = 'mastDownload/JWST/'  # 源数据目录\n",
    "destination_dir = 'mast/01171/'     # 目标数据目录\n",
    "\n",
    "# 检查目标目录是否已存在\n",
    "if os.path.isdir(destination_dir):\n",
    "    print(f'Data already downloaded to {os.path.abspath(destination_dir)}')  # 如果已下载，打印消息\n",
    "else:\n",
    "    # 查询MAST（米库尔斯基太空望远镜档案）数据库以获取观察数据\n",
    "    # 使用提案ID 1171和F550W、F770W滤光片\n",
    "    obs = Observations.query_criteria(proposal_id=1171, filters=['F560W', 'F770W'])\n",
    "\n",
    "    # 获取与找到的观察数据相关的产品列表\n",
    "    plist = Observations.get_product_list(obs)\n",
    "\n",
    "    # 过滤产品列表，仅包含特定的产品子组\n",
    "    fplist = Observations.filter_products(plist, productSubGroupDescription=['CAL', 'I2D', 'ASN'])\n",
    "\n",
    "    # 从MAST数据库下载所选产品\n",
    "    Observations.download_products(fplist)\n",
    "\n",
    "    # 创建目标目录\n",
    "    os.makedirs(destination_dir)\n",
    "\n",
    "    # 使用glob查找所有匹配模式的文件\n",
    "    files_to_copy = glob.glob(os.path.join(source_dir, 'j*/jw01171*'))\n",
    "\n",
    "    # 将匹配的文件复制到目标目录\n",
    "    for file_path in files_to_copy:\n",
    "        shutil.copy(file_path, destination_dir)  # 复制文件"
   ]
  },
  {
   "cell_type": "markdown",
   "id": "5611799d",
   "metadata": {},
   "source": [
    "# 3. 单一明亮星星 <a class=\"anchor\" id=\"bso\"></a>"
   ]
  },
  {
   "cell_type": "markdown",
   "id": "6d052f0e-dcb4-4c2a-bc11-4b467dad07c2",
   "metadata": {},
   "source": [
    "本节的目的是说明如何对单个亮星进行点扩散函数（PSF）光度测量。虽然在孤立情况下，光圈光度测量是可行的，但用户可能会发现，在拥挤的场域或复杂的背景中，PSF光度测量更为可取。"
   ]
  },
  {
   "cell_type": "markdown",
   "id": "55c52f95",
   "metadata": {},
   "source": [
    "## 3.1 单级别2文件 <a class=\"anchor\" id=\"bso2\"></a>"
   ]
  },
  {
   "cell_type": "markdown",
   "id": "058a14ad-be89-4d7e-934e-1e0a909319c8",
   "metadata": {},
   "source": [
    "在这个示例中，我们对单个亮源在单个Level 2图像中进行了拟合。对于一组Level 2图像，我们可以单独拟合每个Level 2图像，然后对测得的通量进行平均。\n",
    "\n",
    "有用的参考文献：<br>\n",
    "\n",
    "HST文档关于PSF光度测量： https://www.stsci.edu/hst/instrumentation/wfc3/data-analysis/psf<br>\n",
    "\n",
    "使用HSTPHOT进行WFPC2恒星光度测量： https://ui.adsabs.harvard.edu/abs/2000PASP..112.1383D/abstract<br>\n",
    "\n",
    "Photutils PSF拟合光度测量： https://photutils.readthedocs.io/en/stable/psf.html"
   ]
  },
  {
   "cell_type": "code",
   "execution_count": null,
   "id": "2af76a35-14ee-44b2-adb5-d92e66ddfafc",
   "metadata": {},
   "outputs": [],
   "source": [
    "# 获取二级数据文件名\n",
    "\n",
    "path = \"./mast/01028/\"  # 设置数据文件所在路径\n",
    "\n",
    "level2 = sorted(glob.glob(os.path.join(path, '*cal.fits')))  # 查找并排序所有以'cal.fits'结尾的文件\n",
    "\n",
    "level2  # 输出找到的二级数据文件名"
   ]
  },
  {
   "cell_type": "code",
   "execution_count": null,
   "id": "ab0ac799-a832-40af-9cd4-b5b3934cfee4",
   "metadata": {},
   "outputs": [],
   "source": [
    "# 显示第一个二级图像\n",
    "\n",
    "data = fits.getdata(level2[0])  # 从level2列表中获取第一个图像数据\n",
    "\n",
    "norm = simple_norm(data, 'sqrt', percent=99)  # 使用平方根归一化数据，设置99%的百分位数\n",
    "\n",
    "fig, ax = plt.subplots(figsize=(20, 12))  # 创建一个20x12英寸的图形和坐标轴\n",
    "\n",
    "im = ax.imshow(data, origin='lower', norm=norm, cmap='gray')  # 显示图像，设置原点在下方，应用归一化和灰度色图\n",
    "\n",
    "clb = plt.colorbar(im, label='MJy/sr')  # 添加颜色条，并标注单位为MJy/sr\n",
    "\n",
    "ax.set_xlabel('Pixels')  # 设置x轴标签为“Pixels”\n",
    "\n",
    "ax.set_ylabel('Pixels')  # 设置y轴标签为“Pixels”"
   ]
  },
  {
   "cell_type": "code",
   "execution_count": null,
   "id": "4ab947da-be0a-4cde-88eb-2d947adf2b81",
   "metadata": {},
   "outputs": [],
   "source": [
    "# 将所有DQ标记的像素值更改为NaN。\n",
    "\n",
    "# 在这里，我们将覆盖原始的CAL文件。\n",
    "\n",
    "# JWST DQ标记定义参考：https://jwst-pipeline.readthedocs.io/en/latest/jwst/references_general/references_general.html\n",
    "\n",
    "# 在这种情况下，我们选择所有DQ值大于10的像素，但用户可以根据自己的需要选择其他值。\n",
    "\n",
    "filename = level2[0]  # 获取第一个level2文件名\n",
    "\n",
    "with ImageModel(filename) as model:  # 使用ImageModel打开文件\n",
    "\n",
    "    model.data[model.dq >= 10] = np.nan  # 将DQ值大于等于10的像素设置为NaN\n",
    "\n",
    "    model.save(filename)  # 保存修改后的文件"
   ]
  },
  {
   "cell_type": "code",
   "execution_count": null,
   "id": "87673dd8-1bc6-4663-bebc-8e2434974ceb",
   "metadata": {},
   "outputs": [],
   "source": [
    "# 重新显示图像\n",
    "\n",
    "data = fits.getdata(level2[0])  # 从level2中获取数据\n",
    "\n",
    "norm = simple_norm(data, 'sqrt', percent=99)  # 归一化数据，使用平方根缩放，99百分位数\n",
    "\n",
    "fig, ax = plt.subplots(figsize=(20, 12))  # 创建一个20x12英寸的图形和坐标轴\n",
    "\n",
    "im = ax.imshow(data, origin='lower', norm=norm, cmap='gray')  # 显示图像，设置原点在下方，应用归一化和灰度色图\n",
    "\n",
    "clb = plt.colorbar(im, label='MJy/sr')  # 添加颜色条，标签为'MJy/sr'\n",
    "\n",
    "ax.set_xlabel('Pixels')  # 设置x轴标签为'Pixels'\n",
    "\n",
    "ax.set_ylabel('Pixels')  # 设置y轴标签为'Pixels'"
   ]
  },
  {
   "cell_type": "code",
   "execution_count": null,
   "id": "2f138285-bfc5-4f20-854b-fe5d4530e99b",
   "metadata": {},
   "outputs": [],
   "source": [
    "# 放大以查看源。在这种情况下，我们的源来自MIRI程序ID #1028，一个校准程序。\n",
    "\n",
    "# 我们使用访问006，目标是A5V矮星2MASSJ17430448+6655015\n",
    "\n",
    "# 参考链接: http://simbad.cds.unistra.fr/simbad/sim-basic?Ident=2MASSJ17430448%2B6655015&submit=SIMBAD+search\n",
    "\n",
    "source_location = SkyCoord('17:43:04.4879', '+66:55:01.837', unit=(u.hourangle, u.deg))  # 定义源的位置，使用天球坐标\n",
    "\n",
    "with ImageModel(filename) as model:  # 使用图像模型打开文件\n",
    "\n",
    "    x, y = model.meta.wcs.world_to_pixel(source_location)  # 将天球坐标转换为像素坐标\n",
    "\n",
    "cutout = extract_array(data, (21, 21), (y, x))  # 从数据中提取一个21x21的切片\n",
    "\n",
    "fig, ax = plt.subplots(figsize=(8, 8))  # 创建一个8x8英寸的图形和坐标轴\n",
    "\n",
    "norm2 = simple_norm(cutout, 'log', percent=99)  # 使用对数归一化方法对切片进行归一化，99%分位数\n",
    "\n",
    "im = ax.imshow(cutout, origin='lower', norm=norm2, cmap='gray')  # 显示切片图像，设置原点在下方，使用灰度色图\n",
    "\n",
    "clb = plt.colorbar(im, label='MJy/sr', shrink=0.8)  # 添加颜色条，标签为'MJy/sr'，缩小到80%\n",
    "\n",
    "ax.set_title('PID1028, Obs006')  # 设置图形标题\n",
    "\n",
    "ax.set_xlabel('Pixels')  # 设置x轴标签为'像素'\n",
    "\n",
    "ax.set_ylabel('Pixels')  # 设置y轴标签为'像素'"
   ]
  },
  {
   "cell_type": "markdown",
   "id": "b24288b6-c6c7-433f-866f-126eea4a9ab3",
   "metadata": {
    "execution": {
     "iopub.execute_input": "2024-02-10T00:33:17.900216Z",
     "iopub.status.busy": "2024-02-10T00:33:17.899831Z",
     "iopub.status.idle": "2024-02-10T00:33:17.903626Z",
     "shell.execute_reply": "2024-02-10T00:33:17.902732Z",
     "shell.execute_reply.started": "2024-02-10T00:33:17.900187Z"
    }
   },
   "source": [
    "## 3.2 使用WebbPSF生成MIRI F770W的经验点扩散函数（PSF）网格 <a class=\"anchor\" id=\"bso3\"></a>"
   ]
  },
  {
   "cell_type": "markdown",
   "id": "f7472c4e-f418-4f39-b8b6-5d824c1c4c65",
   "metadata": {},
   "source": [
    "现在我们使用WebbPSF生成MIRI F770W的经验ePSF模型网格。\n",
    "\n",
    "输出将是一个Photutils [GriddedPSFModel](https://photutils.readthedocs.io/en/latest/api/photutils.psf.GriddedPSFModel.html#photutils.psf.GriddedPSFModel)，包含一个2x2的网格，每个网格都是依赖于探测器位置的经验PSF，且每个PSF的过采样因子为4。请注意，我们将PSF网格保存为一个FITS文件（通过 `save=True`），文件名为 `miri_mirim_f770w_fovp101_samp4_npsf4.fits`。为了节省未来运行的时间，我们将此FITS文件直接加载到一个 `GriddedPSFModel` 对象中："
   ]
  },
  {
   "cell_type": "code",
   "execution_count": null,
   "id": "19b97fc8-35b4-460f-b154-72bdd4c45f66",
   "metadata": {},
   "outputs": [],
   "source": [
    "psfgrid_filename = 'miri_mirim_f770w_fovp101_samp4_npsf4.fits'  # 定义PSF网格文件名\n",
    "\n",
    "if not os.path.exists(psfgrid_filename):  # 检查文件是否存在\n",
    "\n",
    "    miri = webbpsf.MIRI()  # 创建MIRI望远镜的实例\n",
    "\n",
    "    miri.filter = 'F770W'  # 设置滤光片为F770W\n",
    "\n",
    "    psf_model = miri.psf_grid(num_psfs=4, all_detectors=True, verbose=True, save=True)  # 生成PSF网格模型并保存\n",
    "\n",
    "else:\n",
    "\n",
    "    psf_model = GriddedPSFModel.read(psfgrid_filename)  # 从文件中读取PSF网格模型\n",
    "\n",
    "psf_model  # 输出PSF模型"
   ]
  },
  {
   "cell_type": "code",
   "execution_count": null,
   "id": "7d1640dc-6c64-4fe7-a208-ddbcdc529512",
   "metadata": {},
   "outputs": [],
   "source": [
    "# 显示点扩散函数（PSF）网格\n",
    "\n",
    "psf_model.plot_grid()  # 调用psf_model对象的plot_grid方法以绘制PSF网格"
   ]
  },
  {
   "cell_type": "code",
   "execution_count": null,
   "id": "f7294300-6ba8-418b-a61c-4194af270de3",
   "metadata": {},
   "outputs": [],
   "source": [
    "# 显示来自平均电子点扩散函数（ePSF）的点扩散函数（PSF）网格差异\n",
    "\n",
    "psf_model.plot_grid(deltas=True)  # 调用psf_model对象的plot_grid方法，设置deltas参数为True以显示差异"
   ]
  },
  {
   "cell_type": "markdown",
   "id": "bcab882b-16f6-4aef-9f4f-b3af8b3b1b14",
   "metadata": {},
   "source": [
    "## 3.3 PSF 光度测量 <a class=\"anchor\" id=\"bso4\"></a>"
   ]
  },
  {
   "cell_type": "markdown",
   "id": "b34c6e74-1a52-4874-afc1-5a444662e966",
   "metadata": {},
   "source": [
    "现在让我们使用我们的网格化点扩散函数（PSF）模型来进行PSF光度测量。"
   ]
  },
  {
   "cell_type": "code",
   "execution_count": null,
   "id": "f42d294f-a5db-4a2a-be4a-e40a26374207",
   "metadata": {},
   "outputs": [],
   "source": [
    "# 加载数据并将单位从 MJy/sr 转换为 uJy\n",
    "\n",
    "with ImageModel(filename) as model:  # 使用 ImageModel 打开文件并创建模型\n",
    "\n",
    "    unit = u.Unit(model.meta.bunit_data)  # 获取数据的单位\n",
    "\n",
    "    data = model.data << unit  # 将模型数据转换为指定单位\n",
    "\n",
    "    error = model.err << unit  # 将模型误差转换为指定单位\n",
    "\n",
    "    # 使用像素面积图，因为二级数据中存在几何失真\n",
    "\n",
    "    pixel_area = model.area * model.meta.photometry.pixelarea_steradians * u.sr  # 计算像素面积\n",
    "\n",
    "    data *= pixel_area  # 将数据乘以像素面积\n",
    "\n",
    "    error *= pixel_area  # 将误差乘以像素面积\n",
    "\n",
    "    \n",
    "\n",
    "    data = data.to(u.uJy)  # 将数据转换为 uJy\n",
    "\n",
    "    error = error.to(u.uJy)  # 将误差转换为 uJy\n",
    "\n",
    "data.unit, error.unit  # 返回数据和误差的单位"
   ]
  },
  {
   "cell_type": "markdown",
   "id": "318ab078-ec51-4b71-9641-dd1fe566138a",
   "metadata": {},
   "source": [
    "要对单个源进行光度测量，我们可以输入一个包含其 (x, y) 位置的表格。"
   ]
  },
  {
   "cell_type": "code",
   "execution_count": null,
   "id": "6efc06f3-445d-4139-a404-fff43ad15804",
   "metadata": {},
   "outputs": [],
   "source": [
    "# 初始化一个空的表格\n",
    "init_params = Table()\n",
    "\n",
    "# 在表格中添加一列'x'，并将其值设置为[x]\n",
    "init_params['x'] = [x]\n",
    "\n",
    "# 在表格中添加一列'y'，并将其值设置为[y]\n",
    "init_params['y'] = [y]\n",
    "\n",
    "# 返回初始化后的表格\n",
    "init_params"
   ]
  },
  {
   "cell_type": "code",
   "execution_count": null,
   "id": "61424bfb-7c76-489b-9ccf-efc9c324472d",
   "metadata": {},
   "outputs": [],
   "source": [
    "# 我们关闭查找器，因为我们输入了源位置\n",
    "\n",
    "fit_shape = 5  # 设置拟合形状的大小\n",
    "\n",
    "# 创建局部背景估计器，使用MMMBackground作为背景估计方法\n",
    "localbkg_estimator = LocalBackground(5, 10, bkg_estimator=MMMBackground())\n",
    "\n",
    "# 创建PSF光度测量对象，使用指定的PSF模型和参数\n",
    "psfphot = PSFPhotometry(psf_model, fit_shape, finder=None, aperture_radius=fit_shape, \n",
    "\n",
    "                        localbkg_estimator=localbkg_estimator, progress_bar=True)  # 进度条设置为True\n",
    "\n",
    "# 使用数据和误差进行光度测量，初始化参数为init_params\n",
    "phot = psfphot(data, error=error, init_params=init_params)\n",
    "\n",
    "phot  # 返回光度测量结果"
   ]
  },
  {
   "cell_type": "code",
   "execution_count": null,
   "id": "62945e0b-6eb7-487f-a7b6-8e3c718b3c26",
   "metadata": {},
   "outputs": [],
   "source": [
    "# 将光度从微杰（uJy）转换为AB星等\n",
    "\n",
    "flux = phot['flux_fit']  # 获取拟合光度\n",
    "\n",
    "flux_err = phot['flux_err']  # 获取光度误差\n",
    "\n",
    "mag = phot['flux_fit'].to(u.ABmag)  # 将光度转换为AB星等\n",
    "\n",
    "magerr = 2.5 * np.log10(1.0 + (flux_err / flux))  # 计算星等误差\n",
    "\n",
    "magerr = magerr.value * u.ABmag  # 将误差值转换为AB星等单位\n",
    "\n",
    "mag, magerr  # 返回星等和星等误差"
   ]
  },
  {
   "cell_type": "code",
   "execution_count": null,
   "id": "6c8baf43-51bc-4ff5-97e9-10db55ab6128",
   "metadata": {},
   "outputs": [],
   "source": [
    "fig, ax = plt.subplots(ncols=3, figsize=(12, 4))  # 创建一个包含3列的子图，图像大小为12x4英寸\n",
    "\n",
    "shape = (21, 21)  # 定义切割区域的形状为21x21\n",
    "\n",
    "cutout1 = extract_array(data.value, shape, (y, x))  # 从数据中提取指定位置的切割区域\n",
    "\n",
    "norm = simple_norm(cutout1, 'log', percent=98)  # 使用对数归一化方法对切割区域进行归一化，取前98%的数据\n",
    "\n",
    "im1 = ax[0].imshow(cutout1, origin='lower', norm=norm)  # 在第一个子图中显示切割区域图像\n",
    "\n",
    "ax[0].set_title(r'Data ($\\mu$Jy)')  # 设置第一个子图的标题\n",
    "\n",
    "plt.colorbar(im1, shrink=0.7)  # 为第一个子图添加颜色条，并缩小到原来的70%\n",
    "\n",
    "model = psfphot.make_model_image(data.shape, shape)  # 创建与数据形状相同的PSF模型图像\n",
    "\n",
    "cutout2 = extract_array(model, shape, (y, x))  # 从模型中提取指定位置的切割区域\n",
    "\n",
    "im2 = ax[1].imshow(cutout2, origin='lower', norm=norm)  # 在第二个子图中显示模型图像\n",
    "\n",
    "ax[1].set_title('Fit PSF Model')  # 设置第二个子图的标题\n",
    "\n",
    "plt.colorbar(im2, shrink=0.7)  # 为第二个子图添加颜色条，并缩小到原来的70%\n",
    "\n",
    "resid = psfphot.make_residual_image(data.value, shape)  # 创建残差图像\n",
    "\n",
    "cutout3 = extract_array(resid, shape, (y, x))  # 从残差中提取指定位置的切割区域\n",
    "\n",
    "norm3 = simple_norm(cutout3, 'sqrt', percent=99)  # 使用平方根归一化方法对残差进行归一化，取前99%的数据\n",
    "\n",
    "im3 = ax[2].imshow(cutout3, origin='lower', norm=norm3)  # 在第三个子图中显示残差图像\n",
    "\n",
    "ax[2].set_title('Residual')  # 设置第三个子图的标题\n",
    "\n",
    "plt.colorbar(im3, shrink=0.7)  # 为第三个子图添加颜色条，并缩小到原来的70%"
   ]
  },
  {
   "cell_type": "markdown",
   "id": "5b5f0ad5-b59e-4eff-8687-f6a2199d8bd9",
   "metadata": {},
   "source": [
    "# 4. 微弱/上限，单个天体 <a class=\"anchor\" id=\"fso\"></a>"
   ]
  },
  {
   "cell_type": "markdown",
   "id": "1dc60da1-0f4d-4e5e-a109-f7352dfd0fdc",
   "metadata": {},
   "source": [
    "本节的目的是说明如何在固定的 (x, y) 位置使用强制点扩散函数（PSF）光度法计算天空空白区域的上限。\n",
    "\n",
    "我们将使用与第 3 节相同的数据。"
   ]
  },
  {
   "cell_type": "code",
   "execution_count": null,
   "id": "9311116e-630b-4a2e-8fc6-be75f6de61fd",
   "metadata": {},
   "outputs": [],
   "source": [
    "# 加载数据并将单位从 MJy/sr 转换为 uJy\n",
    "\n",
    "with ImageModel(filename) as model:  # 使用 ImageModel 打开文件\n",
    "    unit = u.Unit(model.meta.bunit_data)  # 获取数据单位\n",
    "\n",
    "    data = model.data << unit  # 将数据转换为指定单位\n",
    "    error = model.err << unit  # 将误差转换为指定单位\n",
    "\n",
    "    pixel_area = model.meta.photometry.pixelarea_steradians * u.sr  # 获取像素面积并转换为立体角单位\n",
    "\n",
    "    data *= pixel_area  # 将数据乘以像素面积\n",
    "    error *= pixel_area  # 将误差乘以像素面积\n",
    "\n",
    "    data = data.to(u.uJy)  # 将数据转换为微焦耳单位\n",
    "    error = error.to(u.uJy)  # 将误差转换为微焦耳单位\n",
    "\n",
    "# 定义源位置的天球坐标\n",
    "source_location = SkyCoord('17:43:00.0332', '+66:54:42.677', unit=(u.hourangle, u.deg))\n",
    "\n",
    "with ImageModel(filename) as model:  # 再次使用 ImageModel 打开文件\n",
    "    x, y = model.meta.wcs.world_to_pixel(source_location)  # 将天球坐标转换为像素坐标\n",
    "\n",
    "# 从数据中提取 21x21 的切片\n",
    "cutout = extract_array(data.value, (21, 21), (y, x))  # 提取以源位置为中心的切片\n",
    "\n",
    "fig, ax = plt.subplots()  # 创建图形和坐标轴\n",
    "norm = simple_norm(cutout, 'sqrt', percent=95)  # 计算归一化参数\n",
    "\n",
    "im = ax.imshow(cutout, origin='lower', norm=norm, cmap='gray')  # 显示切片图像\n",
    "clb = plt.colorbar(im, label=r'$\\mu$Jy')  # 添加颜色条并标注单位\n",
    "\n",
    "ax.set_title('PID1028, Obs006')  # 设置图像标题\n",
    "\n",
    "ax.set_xlabel('Pixels')  # 设置 x 轴标签\n",
    "ax.set_ylabel('Pixels')  # 设置 y 轴标签"
   ]
  },
  {
   "cell_type": "code",
   "execution_count": null,
   "id": "63ac28fd-ad3b-479b-8561-ca5913925aba",
   "metadata": {},
   "outputs": [],
   "source": [
    "# 为了执行强制光度测量，我们设置源位置 (x, y)\n",
    "\n",
    "# 并且我们固定PSF模型的位置，以便在拟合中不发生变化\n",
    "\n",
    "# （仅拟合光通量）\n",
    "\n",
    "init_params = Table()  # 创建一个表格来存储初始参数\n",
    "\n",
    "init_params['x'] = [x]  # 将源的x坐标添加到表格中\n",
    "\n",
    "init_params['y'] = [y]  # 将源的y坐标添加到表格中\n",
    "\n",
    "# 这需要 photutils 1.11.0 版本\n",
    "\n",
    "psf_model_forced = psf_model.copy()  # 复制PSF模型以进行强制光度测量\n",
    "\n",
    "psf_model_forced.x_0.fixed = True  # 固定PSF模型的x位置\n",
    "\n",
    "psf_model_forced.y_0.fixed = True  # 固定PSF模型的y位置\n",
    "\n",
    "psf_model_forced.fixed  # 确保模型的固定状态"
   ]
  },
  {
   "cell_type": "code",
   "execution_count": null,
   "id": "a13930cb-fd2a-447e-a68f-357eb7014ad3",
   "metadata": {},
   "outputs": [],
   "source": [
    "fit_shape = 5  # 设置拟合形状的大小为5\n",
    "\n",
    "# 创建局部背景估计器，使用MMMBackground作为背景估计方法\n",
    "localbkg_estimator = LocalBackground(5, 10, bkg_estimator=MMMBackground())\n",
    "\n",
    "# 初始化PSF光度测量对象，设置相关参数\n",
    "psfphot = PSFPhotometry(psf_model_forced, fit_shape, finder=None, aperture_radius=fit_shape, \n",
    "                        localbkg_estimator=localbkg_estimator, progress_bar=True)\n",
    "\n",
    "# 使用数据和误差进行光度测量，初始化参数为init_params\n",
    "phot = psfphot(data, error=error, init_params=init_params)\n",
    "\n",
    "phot  # 输出光度测量结果"
   ]
  },
  {
   "cell_type": "code",
   "execution_count": null,
   "id": "3206847e-2e2e-4bc3-a51e-3e5877f87b28",
   "metadata": {},
   "outputs": [],
   "source": [
    "# 计算上限，乘以所需的sigma值\n",
    "\n",
    "sigma = 3.0  # 设置sigma值为3.0\n",
    "\n",
    "limit = sigma * phot['flux_err']  # 计算上限，乘以光通量误差\n",
    "\n",
    "limit.to(u.ABmag)  # 将结果转换为AB星等"
   ]
  },
  {
   "cell_type": "markdown",
   "id": "4e4996d2-6274-473d-b13c-f3848c27ad78",
   "metadata": {},
   "source": [
    "## 注意：您可以通过Level 3组合数据产品深入挖掘数据"
   ]
  },
  {
   "cell_type": "markdown",
   "id": "9a969717-bbef-40b9-ac9b-f83dec99dc09",
   "metadata": {},
   "source": [
    "# 5. 恒星场 (LMC) <a class=\"anchor\" id=\"lmc\"></a>"
   ]
  },
  {
   "cell_type": "markdown",
   "id": "da877310-fd47-41d6-afea-7fa725a546af",
   "metadata": {},
   "source": [
    "在这种情况下，我们将执行与第3节相同的步骤，但针对多个恒星。目的是展示在大量恒星上使用Photutils的工作流程和运行时间。"
   ]
  },
  {
   "cell_type": "markdown",
   "id": "32bdafe6-db19-4080-9587-b9785c2f7fa7",
   "metadata": {},
   "source": [
    "## 5.1 多重星，单个 Level 2 文件 <a class=\"anchor\" id=\"lmc2\"></a>"
   ]
  },
  {
   "cell_type": "code",
   "execution_count": null,
   "id": "72aabedd-8d80-4c6e-8d3d-9287577665bf",
   "metadata": {
    "tags": []
   },
   "outputs": [],
   "source": [
    "# 查找Level 3文件中的恒星\n",
    "\n",
    "import os  # 导入os模块以处理文件路径\n",
    "\n",
    "path = './mast/01171/'  # 设置文件路径\n",
    "\n",
    "level3 = os.path.join(path, 'jw01171-o004_t001_miri_f560w_i2d.fits')  # 组合路径和文件名，生成完整文件路径\n",
    "\n",
    "level3  # 输出Level 3文件的完整路径"
   ]
  },
  {
   "cell_type": "code",
   "execution_count": null,
   "id": "4eb6155b-5f1a-4f92-9c34-5cd0876e439d",
   "metadata": {
    "tags": []
   },
   "outputs": [],
   "source": [
    "# 获取背景的粗略估计（还有更好的背景减法方法）\n",
    "\n",
    "bkgrms = MADStdBackgroundRMS()  # 创建一个背景RMS估计器\n",
    "\n",
    "mmm_bkg = MMMBackground()  # 创建一个MMM背景估计器\n",
    "\n",
    "with ImageModel(level3) as model:  # 使用ImageModel上下文管理器打开level3数据\n",
    "\n",
    "    wcs_l3 = model.meta.wcs  # 获取WCS信息\n",
    "\n",
    "    std = bkgrms(model.data)  # 计算数据的背景RMS标准差\n",
    "\n",
    "    bkg = mmm_bkg(model.data)  # 计算数据的MMM背景\n",
    "\n",
    "    data_bkgsub = model.data.copy()  # 复制原始数据以进行背景减法\n",
    "\n",
    "    data_bkgsub -= bkg  # 从数据中减去背景\n",
    "\n",
    "# 查找恒星\n",
    "\n",
    "# F560W FWHM = 1.882 像素\n",
    "\n",
    "fwhm_psf = 1.882  # 设置点扩散函数的全宽半最大值\n",
    "\n",
    "threshold = 5.0  # 设置阈值\n",
    "\n",
    "daofind = DAOStarFinder(threshold=threshold * std, fwhm=fwhm_psf, exclude_border=True, min_separation=10)  # 创建DAO星点查找器\n",
    "\n",
    "found_stars = daofind(data_bkgsub)  # 在减去背景的数据中查找恒星"
   ]
  },
  {
   "cell_type": "code",
   "execution_count": null,
   "id": "59337919-ee59-4f09-a716-1f978ab5c775",
   "metadata": {},
   "outputs": [],
   "source": [
    "# 打印找到的星星信息，最多显示10行\n",
    "found_stars.pprint_all(max_lines=10)"
   ]
  },
  {
   "cell_type": "code",
   "execution_count": null,
   "id": "73aba802",
   "metadata": {
    "tags": []
   },
   "outputs": [],
   "source": [
    "# 绘制找到的恒星\n",
    "\n",
    "# 使用平方根归一化方法对背景减去的数据进行归一化，99%为最大值\n",
    "norm = simple_norm(data_bkgsub, 'sqrt', percent=99)\n",
    "\n",
    "# 创建一个10x10英寸的图形和坐标轴\n",
    "fig, ax = plt.subplots(figsize=(10, 10))\n",
    "\n",
    "# 在坐标轴上显示背景减去的数据，原点位于左下角，使用归一化\n",
    "ax.imshow(data_bkgsub, origin='lower', norm=norm)\n",
    "\n",
    "# 将找到的恒星的中心坐标打包为元组\n",
    "xypos = zip(found_stars['xcentroid'], found_stars['ycentroid'])\n",
    "\n",
    "# 创建一个半径为10的圆形光圈，表示恒星的位置\n",
    "aper = CircularAperture(xypos, r=10)\n",
    "\n",
    "# 在坐标轴上绘制圆形光圈，颜色为红色\n",
    "aper.plot(ax, color='red')"
   ]
  },
  {
   "cell_type": "code",
   "execution_count": null,
   "id": "84411432-3270-47de-a546-a81935c19c5c",
   "metadata": {},
   "outputs": [],
   "source": [
    "fig, ax = plt.subplots(nrows=2, figsize=(10, 8))  # 创建一个包含2行的子图，图形大小为10x8英寸\n",
    "\n",
    "ax[0].scatter(found_stars['mag'], found_stars['sharpness'], s=10, color='k')  # 在第一个子图中绘制星星的亮度与锐度的散点图\n",
    "ax[0].set_xlabel('mag')  # 设置x轴标签为'mag'\n",
    "ax[0].set_ylabel('sharpness')  # 设置y轴标签为'sharpness'\n",
    "\n",
    "ax[1].scatter(found_stars['mag'], found_stars['roundness2'], s=10, color='k')  # 在第二个子图中绘制星星的亮度与圆度的散点图\n",
    "ax[1].set_xlabel('mag')  # 设置x轴标签为'mag'\n",
    "ax[1].set_ylabel('roundness')  # 设置y轴标签为'roundness'\n",
    "\n",
    "mag0 = -3.0  # 定义亮度的下界\n",
    "mag1 = -5.0  # 定义亮度的上界\n",
    "for ax_ in ax:  # 遍历所有子图\n",
    "    ax_.axvline(mag0, color='red', linestyle='dashed')  # 在每个子图中绘制亮度下界的虚线\n",
    "    ax_.axvline(mag1, color='red', linestyle='dashed')  # 在每个子图中绘制亮度上界的虚线\n",
    "\n",
    "sh0 = 0.40  # 定义锐度的下界\n",
    "sh1 = 0.82  # 定义锐度的上界\n",
    "ax[0].axhline(sh0, color='red', linestyle='dashed')  # 在第一个子图中绘制锐度下界的虚线\n",
    "ax[0].axhline(sh1, color='red', linestyle='dashed')  # 在第一个子图中绘制锐度上界的虚线\n",
    "\n",
    "rnd0 = -0.40  # 定义圆度的下界\n",
    "rnd1 = 0.40  # 定义圆度的上界\n",
    "ax[1].axhline(rnd0, color='red', linestyle='dashed')  # 在第二个子图中绘制圆度下界的虚线\n",
    "ax[1].axhline(rnd1, color='red', linestyle='dashed')  # 在第二个子图中绘制圆度上界的虚线"
   ]
  },
  {
   "cell_type": "code",
   "execution_count": null,
   "id": "04f2dbae-1b1c-4f67-902f-eb91f73b2d6d",
   "metadata": {},
   "outputs": [],
   "source": [
    "# 创建一个布尔掩码，用于筛选符合条件的星体\n",
    "mask = ((found_stars['mag'] < mag0) &  # 星体的亮度小于mag0\n",
    "        (found_stars['mag'] > mag1) &  # 星体的亮度大于mag1\n",
    "        (found_stars['roundness2'] > rnd0) &  # 星体的圆度大于rnd0\n",
    "        (found_stars['roundness2'] < rnd1) &  # 星体的圆度小于rnd1\n",
    "        (found_stars['sharpness'] > sh0) &  # 星体的清晰度大于sh0\n",
    "        (found_stars['sharpness'] < sh1) &  # 星体的清晰度小于sh1\n",
    "        (found_stars['xcentroid'] > 100) &  # 星体的x坐标大于100\n",
    "        (found_stars['xcentroid'] < 700) &  # 星体的x坐标小于700\n",
    "        (found_stars['ycentroid'] > 100) &  # 星体的y坐标大于100\n",
    "        (found_stars['ycentroid'] < 700))   # 星体的y坐标小于700\n",
    "\n",
    "# 根据掩码筛选出符合条件的星体\n",
    "found_stars_sel = found_stars[mask]\n",
    "\n",
    "# 输出原始找到的星体数量\n",
    "print('Number of stars found originally:', len(found_stars))\n",
    "\n",
    "# 输出最终筛选后的星体数量\n",
    "print('Number of stars in final selection:', len(found_stars_sel))"
   ]
  },
  {
   "cell_type": "code",
   "execution_count": null,
   "id": "948f0a96-8bdc-4c94-95db-8edf513e4094",
   "metadata": {},
   "outputs": [],
   "source": [
    "# 绘制选定的恒星\n",
    "\n",
    "# 使用平方根归一化方法对背景减去的数据进行归一化，99%为阈值\n",
    "norm = simple_norm(data_bkgsub, 'sqrt', percent=99)\n",
    "\n",
    "# 创建一个10x10英寸的图形和坐标轴\n",
    "fig, ax = plt.subplots(figsize=(10, 10))\n",
    "\n",
    "# 在坐标轴上显示背景减去的数据，设置原点在下方，并应用归一化\n",
    "ax.imshow(data_bkgsub, origin='lower', norm=norm)\n",
    "\n",
    "# 获取选定恒星的中心坐标\n",
    "xypos = zip(found_stars_sel['xcentroid'], found_stars_sel['ycentroid'])\n",
    "\n",
    "# 创建一个半径为10的圆形光圈，表示恒星的位置\n",
    "aper = CircularAperture(xypos, r=10)\n",
    "\n",
    "# 在坐标轴上绘制圆形光圈，颜色为红色\n",
    "aper.plot(ax, color='red')"
   ]
  },
  {
   "cell_type": "markdown",
   "id": "a221246a-9acb-4c79-9831-2f6cb72bb90a",
   "metadata": {
    "execution": {
     "iopub.execute_input": "2024-02-10T02:52:51.761591Z",
     "iopub.status.busy": "2024-02-10T02:52:51.761230Z",
     "iopub.status.idle": "2024-02-10T02:52:51.765256Z",
     "shell.execute_reply": "2024-02-10T02:52:51.764441Z",
     "shell.execute_reply.started": "2024-02-10T02:52:51.761562Z"
    }
   },
   "source": [
    "## 5.2 使用WebbPSF生成MIRI F560W的经验点扩散函数（PSF）网格 <a class=\"anchor\" id=\"grid2\"></a>"
   ]
  },
  {
   "cell_type": "code",
   "execution_count": null,
   "id": "b5fdcf15-7f72-40b8-b1aa-2b5fb0375ed8",
   "metadata": {},
   "outputs": [],
   "source": [
    "psfgrid_filename = 'miri_mirim_f560w_fovp101_samp4_npsf4.fits'  # 定义PSF网格文件名\n",
    "\n",
    "if not os.path.exists(psfgrid_filename):  # 检查文件是否存在\n",
    "\n",
    "    miri = webbpsf.MIRI()  # 创建MIRI望远镜的实例\n",
    "\n",
    "    miri.filter = 'F560W'  # 设置使用的滤光片为F560W\n",
    "\n",
    "    # 生成PSF模型，指定生成4个PSF，适用于所有探测器，启用详细输出，并保存结果\n",
    "    psf_model = miri.psf_grid(num_psfs=4, all_detectors=True, verbose=True, save=True)\n",
    "\n",
    "else:  # 如果文件已存在\n",
    "\n",
    "    # 从现有的PSF网格文件中读取PSF模型\n",
    "    psf_model = GriddedPSFModel.read(psfgrid_filename)\n",
    "\n",
    "psf_model  # 输出PSF模型"
   ]
  },
  {
   "cell_type": "code",
   "execution_count": null,
   "id": "29fa22f3-0331-4966-9bb4-c75f325011c8",
   "metadata": {},
   "outputs": [],
   "source": [
    "# 调用psf_model对象的plot_grid方法以绘制点扩散函数（PSF）网格\n",
    "psf_model.plot_grid()"
   ]
  },
  {
   "cell_type": "code",
   "execution_count": null,
   "id": "b2350526-2bba-4322-9092-88b6acdc117b",
   "metadata": {},
   "outputs": [],
   "source": [
    "# 获取二级图像\n",
    "\n",
    "# 在这里，我们将使用PID 1171文件\n",
    "\n",
    "path = \"./mast/01171/\"  # 设置文件路径\n",
    "\n",
    "level2 = sorted(glob.glob(os.path.join(path, 'jw01171004*cal.fits')))  # 获取所有符合条件的文件并排序\n",
    "\n",
    "filename = level2[0]  # 选择第一个文件\n",
    "\n",
    "print(filename)  # 打印文件名\n",
    "\n",
    "# 加载数据并将单位从MJy/sr转换为uJy\n",
    "\n",
    "with ImageModel(filename) as model:  # 使用ImageModel上下文管理器加载文件\n",
    "\n",
    "    unit = u.Unit(model.meta.bunit_data)  # 获取数据单位\n",
    "\n",
    "    model.data[model.dq >= 10] = np.nan  # 将数据质量标志大于等于10的像素设置为NaN\n",
    "\n",
    "    data = model.data << unit  # 将数据加载并应用单位\n",
    "\n",
    "    error = model.err << unit  # 将误差加载并应用单位\n",
    "\n",
    "    \n",
    "\n",
    "    pixel_area = model.meta.photometry.pixelarea_steradians * u.sr  # 获取像素面积并转换为立体角单位\n",
    "\n",
    "    data *= pixel_area  # 将数据乘以像素面积\n",
    "\n",
    "    error *= pixel_area  # 将误差乘以像素面积\n",
    "\n",
    "    \n",
    "\n",
    "    data = data.to(u.uJy)  # 将数据单位转换为微杰斯基（uJy）\n",
    "\n",
    "    error = error.to(u.uJy)  # 将误差单位转换为微杰斯基（uJy）\n",
    "\n",
    "    wcs = model.meta.wcs  # 获取世界坐标系统信息\n",
    "\n",
    "data.unit, error.unit  # 返回数据和误差的单位"
   ]
  },
  {
   "cell_type": "markdown",
   "id": "9aa77cc2-26e2-4ac3-8384-90b9f8567f22",
   "metadata": {},
   "source": [
    "## 5.3 PSF 光度测量 <a class=\"anchor\" id=\"lmc3\"></a>"
   ]
  },
  {
   "cell_type": "code",
   "execution_count": null,
   "id": "3b416d45-1081-4a16-b189-cc0e5e9d4e4e",
   "metadata": {},
   "outputs": [],
   "source": [
    "# 将（x，y）位置从三级图像转换为二级图像\n",
    "\n",
    "xc = found_stars_sel['xcentroid']  # 获取选定星星的x坐标\n",
    "\n",
    "yc = found_stars_sel['ycentroid']  # 获取选定星星的y坐标\n",
    "\n",
    "sc = wcs_l3.pixel_to_world(xc, yc)  # 将像素坐标转换为世界坐标\n",
    "\n",
    "x, y = wcs.world_to_pixel(sc)  # 将世界坐标转换回像素坐标\n",
    "\n",
    "init_params = Table()  # 创建一个新的表格来存储初始化参数\n",
    "\n",
    "init_params['x'] = x  # 将x坐标添加到表格中\n",
    "\n",
    "init_params['y'] = y  # 将y坐标添加到表格中\n",
    "\n",
    "# 我们需要移除二级数据中被遮罩区域内的星星\n",
    "\n",
    "mask = x > 400  # 创建一个掩码，选择x坐标大于400的星星\n",
    "\n",
    "init_params = init_params[mask]  # 根据掩码过滤初始化参数表"
   ]
  },
  {
   "cell_type": "code",
   "execution_count": null,
   "id": "f17e393a-9f0b-4b83-83b9-4bb8497dd835",
   "metadata": {},
   "outputs": [],
   "source": [
    "看起来您提到的“mask”可能是指在天文学数据处理中使用的掩膜（mask）。不过，您没有提供具体的代码或上下文。为了帮助您，我将提供一个示例代码，展示如何在JWST数据处理中使用掩膜，并添加中文注释。\n",
    "\n",
    "import numpy as np  # 导入NumPy库，用于数值计算\n",
    "import matplotlib.pyplot as plt  # 导入Matplotlib库，用于绘图\n",
    "from astropy.io import fits  # 导入Astropy库，用于处理FITS文件\n",
    "\n",
    "# 读取JWST数据的FITS文件\n",
    "def read_fits_file(file_path):\n",
    "    \"\"\"读取FITS文件并返回数据和头信息\"\"\"\n",
    "    with fits.open(file_path) as hdul:  # 打开FITS文件\n",
    "        data = hdul[1].data  # 获取数据部分\n",
    "        header = hdul[1].header  # 获取头信息\n",
    "    return data, header  # 返回数据和头信息\n",
    "\n",
    "# 创建掩膜函数\n",
    "def create_mask(data, threshold):\n",
    "    \"\"\"根据阈值创建掩膜\"\"\"\n",
    "    mask = data < threshold  # 创建掩膜，数据小于阈值的部分为True\n",
    "    return mask  # 返回掩膜\n",
    "\n",
    "# 应用掩膜函数\n",
    "def apply_mask(data, mask):\n",
    "    \"\"\"应用掩膜到数据\"\"\"\n",
    "    masked_data = np.where(mask, np.nan, data)  # 将掩膜为True的部分替换为NaN\n",
    "    return masked_data  # 返回掩膜后的数据\n",
    "\n",
    "# 主程序\n",
    "if __name__ == \"__main__\":\n",
    "    file_path = 'jwst_data.fits'  # 指定FITS文件路径\n",
    "    threshold = 1000  # 设置阈值\n",
    "\n",
    "    data, header = read_fits_file(file_path)  # 读取FITS文件\n",
    "    mask = create_mask(data, threshold)  # 创建掩膜\n",
    "    masked_data = apply_mask(data, mask)  # 应用掩膜\n",
    "\n",
    "    # 绘制原始数据和掩膜后的数据\n",
    "    plt.figure(figsize=(12, 6))  # 设置绘图窗口大小\n",
    "    plt.subplot(1, 2, 1)  # 创建子图1\n",
    "    plt.imshow(data, cmap='gray', origin='lower')  # 显示原始数据\n",
    "    plt.title('Original Data')  # 设置标题\n",
    "    plt.colorbar()  # 添加颜色条\n",
    "\n",
    "    plt.subplot(1, 2, 2)  # 创建子图2\n",
    "    plt.imshow(masked_data, cmap='gray', origin='lower')  # 显示掩膜后的数据\n",
    "    plt.title('Masked Data')  # 设置标题\n",
    "    plt.colorbar()  # 添加颜色条\n",
    "\n",
    "    plt.tight_layout()  # 调整子图布局\n",
    "    plt.show()  # 显示绘图\n",
    "\n",
    "在这个示例中，我添加了中文注释以帮助理解每一行代码的功能。请根据您的具体需求提供更多信息，以便我能更好地帮助您。"
   ]
  },
  {
   "cell_type": "code",
   "execution_count": null,
   "id": "511183e0-0adc-4966-b7f4-fcd912b054e9",
   "metadata": {},
   "outputs": [],
   "source": [
    "# 绘制选定的恒星\n",
    "\n",
    "# 使用平方根归一化数据，设置99%的百分位数\n",
    "norm = simple_norm(data.value, 'sqrt', percent=99)\n",
    "\n",
    "# 创建一个10x10英寸的图形和坐标轴\n",
    "fig, ax = plt.subplots(figsize=(10, 10))\n",
    "\n",
    "# 在坐标轴上显示数据图像，设置原点在下方，并应用归一化\n",
    "ax.imshow(data.value, origin='lower', norm=norm)\n",
    "\n",
    "# 获取初始参数中的x和y坐标\n",
    "xypos = zip(init_params['x'], init_params['y'])\n",
    "\n",
    "# 创建一个半径为10的圆形光圈\n",
    "aper = CircularAperture(xypos, r=10)\n",
    "\n",
    "# 在坐标轴上绘制光圈，颜色为红色\n",
    "aper.plot(ax, color='red')"
   ]
  },
  {
   "cell_type": "code",
   "execution_count": null,
   "id": "84812421-f447-4b75-9fe4-e377fba54b17",
   "metadata": {},
   "outputs": [],
   "source": [
    "fit_shape = 5  # 设置拟合形状的大小\n",
    "\n",
    "# 创建局部背景估计器，使用MMMBackground作为背景估计方法\n",
    "localbkg_estimator = LocalBackground(5, 10, bkg_estimator=MMMBackground())\n",
    "\n",
    "# 初始化PSF光度测量对象，设置PSF模型、拟合形状、查找器、光圈半径和局部背景估计器\n",
    "psfphot = PSFPhotometry(psf_model, fit_shape, finder=None, aperture_radius=fit_shape, \n",
    "                        localbkg_estimator=localbkg_estimator, progress_bar=True)\n",
    "\n",
    "# 使用数据和误差进行光度测量，初始化参数\n",
    "phot = psfphot(data, error=error, init_params=init_params)\n",
    "\n",
    "phot  # 返回光度测量结果"
   ]
  },
  {
   "cell_type": "code",
   "execution_count": null,
   "id": "8d5899cf-8956-4b3c-941a-67b0fedc0c51",
   "metadata": {},
   "outputs": [],
   "source": [
    "# 将光度从微杰克斯（uJy）转换为AB星等\n",
    "\n",
    "flux = phot['flux_fit']  # 获取拟合光度\n",
    "\n",
    "flux_err = phot['flux_err']  # 获取光度误差\n",
    "\n",
    "mag = phot['flux_fit'].to(u.ABmag)  # 将光度转换为AB星等\n",
    "\n",
    "magerr = 2.5 * np.log10(1.0 + (flux_err / flux))  # 计算星等误差\n",
    "\n",
    "magerr = magerr.value * u.ABmag  # 将误差值转换为AB星等单位\n",
    "\n",
    "mag, magerr  # 返回星等和星等误差"
   ]
  },
  {
   "cell_type": "code",
   "execution_count": null,
   "id": "a5ca496b-9826-450e-982c-f671c009c23f",
   "metadata": {},
   "outputs": [],
   "source": [
    "# 写入文件\n",
    "\n",
    "# 创建一个DataFrame，包含RA、DEC、Magnitude和Magnitude误差\n",
    "df = DataFrame({\"RA\": sc.ra.deg[mask],  # RA列，使用掩码筛选的RA角度（度）\n",
    "                 \"DEC\": sc.dec.deg[mask],  # DEC列，使用掩码筛选的DEC角度（度）\n",
    "                 \"Mag\": mag.value,  # Magnitude列，存储星等值\n",
    "                 \"Mag Err\": magerr.value})  # Magnitude Err列，存储星等误差值\n",
    "\n",
    "# 将DataFrame写入文本文件，不包含索引\n",
    "df.to_csv('miri_photometry_photutils.txt', index=False)"
   ]
  },
  {
   "cell_type": "markdown",
   "id": "5630029f-31d1-42cd-8454-225e86cabc48",
   "metadata": {},
   "source": [
    "<hr style=\"border:1px solid gray\"> </hr>"
   ]
  },
  {
   "cell_type": "markdown",
   "id": "843b5201-6f57-46f0-9da0-b738714178d3",
   "metadata": {},
   "source": [
    "<img style=\"float: center;\" src=\"https://raw.githubusercontent.com/spacetelescope/notebooks/master/assets/stsci_pri_combo_mark_horizonal_white_bkgd.png\" alt=\"太空望远镜标志\" width=\"200px\"/>"
   ]
  }
 ],
 "metadata": {
  "kernelspec": {
   "display_name": "Python 3 (ipykernel)",
   "language": "python",
   "name": "python3"
  },
  "language_info": {
   "codemirror_mode": {
    "name": "ipython",
    "version": 3
   },
   "file_extension": ".py",
   "mimetype": "text/x-python",
   "name": "python",
   "nbconvert_exporter": "python",
   "pygments_lexer": "ipython3",
   "version": "3.11.10"
  },
  "toc-showcode": false
 },
 "nbformat": 4,
 "nbformat_minor": 5
}