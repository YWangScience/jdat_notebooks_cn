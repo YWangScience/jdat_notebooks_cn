{
  "cells": [
    {
      "cell_type": "markdown",
      "metadata": {
        "slideshow": {
          "slide_type": "slide"
        }
      },
      "source": [
        "# 草稿：笔记本标题"
      ]
    },
    {
      "cell_type": "markdown",
      "metadata": {
        "slideshow": {
          "slide_type": "skip"
        }
      },
      "source": [
        "看起来您没有提供需要翻译的具体内容。如果您有Markdown格式的文本需要翻译，请将其粘贴在这里，我会很高兴地为您进行翻译。"
      ]
    },
    {
      "cell_type": "markdown",
      "metadata": {
        "slideshow": {
          "slide_type": "slide"
        }
      },
      "source": [
        "## 导入库\n",
        "\n",
        "描述我们在这里使用的库。如果有不寻常的地方，请解释该库是什么，以及我们为什么需要它。\n",
        "\n",
        "- *numpy* 用于处理数组函数\n",
        "\n",
        "- *astropy.io fits* 用于访问FITS文件\n",
        "\n",
        "- *astropy.table Table* 用于创建整洁的数据表\n",
        "\n",
        "- *matplotlib.pyplot* 用于绘制数据"
      ]
    },
    {
      "cell_type": "code",
      "execution_count": null,
      "metadata": {
        "slideshow": {
          "slide_type": "fragment"
        }
      },
      "outputs": [],
      "source": [
        "%matplotlib inline  # 在Jupyter Notebook中内联显示图形\n",
        "\n",
        "import numpy as np  # 导入NumPy库，用于数值计算\n",
        "\n",
        "from astropy.io import fits  # 从Astropy库导入FITS文件处理模块\n",
        "\n",
        "from astropy.table import Table  # 从Astropy库导入表格处理模块\n",
        "\n",
        "import matplotlib.pyplot as plt  # 导入Matplotlib库，用于绘图\n",
        "\n",
        "from astroquery.mast import Mast  # 从astroquery库导入Mast模块，用于查询数据\n",
        "\n",
        "from astroquery.mast import Observations  # 从astroquery库导入Observations模块，用于获取观测数据"
      ]
    },
    {
      "cell_type": "markdown",
      "metadata": {
        "slideshow": {
          "slide_type": "slide"
        }
      },
      "source": [
        "## 引言\n",
        "\n",
        "本笔记本旨在介绍JWST（詹姆斯·韦伯太空望远镜）数据处理的基本概念和方法。通过本笔记本，读者将能够理解如何获取、处理和分析JWST的数据，从而更好地进行天文学研究。有关JWST的背景资料和资源，可以参考以下链接，以提供额外的上下文信息。\n",
        "\n",
        "### 术语定义\n",
        "\n",
        "在引言的末尾，请确保定义任何可能不为读者所知的术语或常见缩略语。如果您使用了某种特定领域的天文学符号或不寻常的数学概念，请确保对其进行定义（例如，以数学形式）并链接到任何相关的定义（文献/维基百科等）。"
      ]
    },
    {
      "cell_type": "markdown",
      "metadata": {},
      "source": [
        "抱歉，您似乎没有提供任何内容供我翻译。请提供需要翻译的Markdown内容，我将很高兴为您服务。"
      ]
    },
    {
      "cell_type": "markdown",
      "metadata": {
        "slideshow": {
          "slide_type": "slide"
        }
      },
      "source": [
        "## 加载数据\n",
        "\n",
        "如果用户需要下载数据以正确运行教程，请尽可能使用Astroquery（或类似工具）来检索文件。如果这不可行，请参阅[数据指南](https://github.com/spacetelescope/style-guides/blob/master/guides/where-to-put-your-data.md)以获取其他选项。"
      ]
    },
    {
      "cell_type": "markdown",
      "metadata": {
        "slideshow": {
          "slide_type": "slide"
        }
      },
      "source": [
        "例如，如果我们想要从MAST查询Kepler的数据，我们可能会这样做："
      ]
    },
    {
      "cell_type": "code",
      "execution_count": null,
      "metadata": {
        "slideshow": {
          "slide_type": "fragment"
        }
      },
      "outputs": [],
      "source": [
        "# 查询目标名称为 'kplr008957091' 的 Kepler 观测数据\n",
        "keplerObs = Observations.query_criteria(target_name='kplr008957091', obs_collection='Kepler')\n",
        "\n",
        "# 获取第一个观测的产品列表\n",
        "keplerProds = Observations.get_product_list(keplerObs[0])\n",
        "\n",
        "# 过滤产品，选择扩展名为 'kplr008957091-2012277125453_lpd-targ.fits.gz' 的产品\n",
        "yourProd = Observations.filter_products(keplerProds, extension='kplr008957091-2012277125453_lpd-targ.fits.gz',\n",
        "                                        mrp_only=False)  # mrp_only 设置为 False，表示不限制只获取 MRP 产品"
      ]
    },
    {
      "cell_type": "markdown",
      "metadata": {},
      "source": [
        "在可能的情况下（如果代码支持的话）：使用代码示例展示 Jupyter 中的数据内容。例如，如果您展示一个对象，例如一个表格，请显示该表格的预览：\n",
        "\n",
        "import pandas as pd\n",
        "\n",
        "# 创建一个示例数据框\n",
        "data = {\n",
        "    '名称': ['对象1', '对象2', '对象3'],\n",
        "    '类型': ['类型A', '类型B', '类型C'],\n",
        "    '距离 (光年)': [100, 200, 300]\n",
        "}\n",
        "\n",
        "表格 = pd.DataFrame(data)\n",
        "\n",
        "# 显示表格的预览\n",
        "表格.head()\n",
        "\n",
        "这段代码将创建一个包含名称、类型和距离（光年）的示例数据框，并显示表格的前几行。"
      ]
    },
    {
      "cell_type": "code",
      "execution_count": null,
      "metadata": {},
      "outputs": [],
      "source": [
        "# 显示yourProd数组的前五个元素\n",
        "yourProd[0:5]"
      ]
    },
    {
      "cell_type": "code",
      "execution_count": null,
      "metadata": {},
      "outputs": [],
      "source": [
        "# 下载产品\n",
        "\n",
        "Observations.download_products(yourProd, mrp_only=False, cache=False)  # 下载指定的产品，mrp_only为False表示下载所有产品，cache为False表示不使用缓存"
      ]
    },
    {
      "cell_type": "markdown",
      "metadata": {},
      "source": [
        "## 文件信息\n",
        "\n",
        "解释您刚刚下载的文件的相关细节。例如，如果您正在处理开普勒（Kepler）光变曲线，请解释不同文件扩展名中的内容：\n",
        "\n",
        "- No. 0 (主文件): 此HDU包含与整个文件相关的元数据。\n",
        "\n",
        "- No. 1 (光变曲线): 此HDU包含一个二进制表，存储诸如通量测量和时间等数据。当我们定义光变曲线图的参数时，将从这里提取信息。\n",
        "\n",
        "- No. 2 (光圈): 此HDU包含从光圈收集的数据的图像扩展。我们还将使用此数据来显示一个位掩码图，直观地表示用于创建HDU1中的SAP_FLUX列的最佳光圈。"
      ]
    },
    {
      "cell_type": "markdown",
      "metadata": {},
      "source": [
        "## 章节 (xN)\n",
        "\n",
        "您的笔记本的主体应根据内容的合理性划分为具有实用名称的章节。使用标准的Markdown语法标题来分隔章节：\n",
        "\n",
        "# 章节 1\n",
        "\n",
        "章节 1 的介绍\n",
        "\n",
        "### 子章节 1a\n",
        "\n",
        "关于章节 1 的更详细信息\n",
        "\n",
        "## 章节 2\n",
        "\n",
        "一个完整的思想，与章节 1 同样重要，但不需要子章节。"
      ]
    },
    {
      "cell_type": "markdown",
      "metadata": {},
      "source": [
        "## 练习\n",
        "\n",
        "大多数笔记本试图向读者传达 _某些_ 信息。如果可能的话，在笔记本中包含一些没有给出答案的内容通常是个好主意，这样读者可以在脑海中巩固他们应该从该笔记本中学到的知识。如果您确实有练习，请确保在下面留一个空的代码单元，以便向用户表明这是他们可以在此尝试的地方。您还可以考虑在主笔记本旁边包含一个“解决方案”笔记本，以便用户在完成尝试后查看。"
      ]
    },
    {
      "cell_type": "markdown",
      "metadata": {},
      "source": [
        "## 额外资源\n",
        "\n",
        "虽然这并不总是必要的，但有时您可能希望为想要了解超出笔记本内容的读者提供更多资源。有时这些资源并不存在，但如果存在，将它们放在最后可以为读者提供其他去处。通常，使用Markdown的项目符号加链接格式列出链接是合适的：\n",
        "\n",
        "- [MAST API](https://mast.stsci.edu/api/v0/index.html)\n",
        "\n",
        "- [开普勒档案页面 (MAST)](https://archive.stsci.edu/kepler/)\n",
        "\n",
        "- [开普勒档案手册](https://archive.stsci.edu/kepler/manuals/archive_manual.pdf)\n",
        "\n",
        "- [Exo.MAST 网站](https://exo.mast.stsci.edu/exo/ExoMast/html/exomast.html)"
      ]
    },
    {
      "cell_type": "markdown",
      "metadata": {
        "slideshow": {
          "slide_type": "slide"
        }
      },
      "source": [
        "## 关于这个笔记本\n",
        "\n",
        "让世界知道这个伟大笔记本的作者是谁！如果可能/适当，请包含一个联系电子邮件地址，以便需要支持的用户可以联系（例如：archive@stsci.edu）\n",
        "\n",
        "**作者：** Jessie Blogs，档案科学家。\n",
        "\n",
        "**更新日期：** YYYY-MM-DD"
      ]
    },
    {
      "cell_type": "markdown",
      "metadata": {},
      "source": [
        "看起来您没有提供任何内容需要翻译。如果您有特定的Markdown内容需要翻译，请将其粘贴在这里，我将很高兴为您提供帮助！"
      ]
    },
    {
      "cell_type": "markdown",
      "metadata": {},
      "source": [
        "[页面顶部](#top)\n",
        "\n",
        "<img style=\"float: right;\" src=\"https://raw.githubusercontent.com/spacetelescope/notebooks/master/assets/stsci_pri_combo_mark_horizonal_white_bkgd.png\" alt=\"太空望远镜标志\" width=\"200px\"/>"
      ]
    },
    {
      "cell_type": "code",
      "execution_count": null,
      "metadata": {},
      "outputs": [],
      "source": [
        "看起来您没有提供任何代码。如果您能提供需要注释的Python代码，我将很乐意为您添加中文注释。请将代码粘贴到这里。"
      ]
    }
  ],
  "metadata": {
    "kernelspec": {
      "display_name": "Python 3",
      "language": "python",
      "name": "python3"
    },
    "language_info": {
      "codemirror_mode": {
        "name": "ipython",
        "version": 3
      },
      "file_extension": ".py",
      "mimetype": "text/x-python",
      "name": "python",
      "nbconvert_exporter": "python",
      "pygments_lexer": "ipython3",
      "version": "3.7.4"
    }
  },
  "nbformat": 4,
  "nbformat_minor": 2
}